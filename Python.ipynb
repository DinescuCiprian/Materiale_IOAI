{
  "nbformat": 4,
  "nbformat_minor": 0,
  "metadata": {
    "colab": {
      "provenance": []
    },
    "kernelspec": {
      "name": "python3",
      "display_name": "Python 3"
    },
    "language_info": {
      "name": "python"
    }
  },
  "cells": [
    {
      "cell_type": "code",
      "execution_count": null,
      "metadata": {
        "colab": {
          "base_uri": "https://localhost:8080/"
        },
        "id": "0mLEfHl7e_Kd",
        "outputId": "11b595a7-9d5e-44d2-b007-9a311f72e044"
      },
      "outputs": [
        {
          "output_type": "stream",
          "name": "stdout",
          "text": [
            "The Zen of Python, by Tim Peters\n",
            "\n",
            "Beautiful is better than ugly.\n",
            "Explicit is better than implicit.\n",
            "Simple is better than complex.\n",
            "Complex is better than complicated.\n",
            "Flat is better than nested.\n",
            "Sparse is better than dense.\n",
            "Readability counts.\n",
            "Special cases aren't special enough to break the rules.\n",
            "Although practicality beats purity.\n",
            "Errors should never pass silently.\n",
            "Unless explicitly silenced.\n",
            "In the face of ambiguity, refuse the temptation to guess.\n",
            "There should be one-- and preferably only one --obvious way to do it.\n",
            "Although that way may not be obvious at first unless you're Dutch.\n",
            "Now is better than never.\n",
            "Although never is often better than *right* now.\n",
            "If the implementation is hard to explain, it's a bad idea.\n",
            "If the implementation is easy to explain, it may be a good idea.\n",
            "Namespaces are one honking great idea -- let's do more of those!\n"
          ]
        }
      ],
      "source": [
        "import this"
      ]
    },
    {
      "cell_type": "markdown",
      "source": [
        "# Variabile\n",
        "*   O variabilă este o locație în memorie în care stocăm datele.\n",
        "*   O variabilă în Python poate fi de trei tipuri: integer, float sau string.\n",
        "*   Putem folosi type(variable_name) pentru a găsi tipul de date variable_name\n",
        "*   În Python, folosim # pentru a adauga comentarii. Comentariile nu schimba nimic și nu sunt compilate.\n",
        "*   Dacă comentariul tău este mai lung de un rând, poți folosi ghilimele triple. Liniile din ghilimele triple sunt ignorate în timpul rulării.\n",
        "*   De asemenea, folosim = pentru a atribui o valoare numelui variabilei. Exemplu: var_name = 1. Rețineți că este diferit de operatorul de comparație egal cu ( == ).\n",
        "*   Putem folosi print()pentru a afișa valoarea variabilei sau rezultatele oricărei expresii.\n",
        "*   Fiecare linie a codului începe pe noua linie.\n",
        "*   Fiți conștienți de indentări. Python este serios în privința lor.\n",
        "\n",
        "\n",
        "\n",
        "\n",
        "\n",
        "\n",
        "\n",
        "\n",
        "\n",
        "\n"
      ],
      "metadata": {
        "id": "XMe6qjkNf6X_"
      }
    },
    {
      "cell_type": "code",
      "source": [
        "# Exemplu de creare a variabilei\n",
        "int_var = 1\n",
        "str_var = 'Hundred'"
      ],
      "metadata": {
        "id": "qXWnYXFBjTeO"
      },
      "execution_count": null,
      "outputs": []
    },
    {
      "cell_type": "markdown",
      "source": [
        "# Numere\n",
        "\n",
        "Numerele în Python pot fi fie numere întregi int, fie flotanți float. Numerele întregi sunt numere reale, finite, naturale sau întregi. Luați un exemplu: 1, 2, 3, 4sunt numere întregi. Flotante sunt numere care au puncte zecimale, cum ar fi 4.6, 6.0, 7.7. Rețineți că 4.0este considerat și un tip de date float. Recent, Karpathy, director AI la Tesla, a postat că plutitoarele nu sunt reale .\n",
        "\n",
        "Putem efectua operații pe numere. Operațiile pe care le putem efectua includ adunare, înmulțire, împărțire, modulare etc..."
      ],
      "metadata": {
        "id": "GM2FWbm5jrvn"
      }
    },
    {
      "cell_type": "code",
      "source": [
        "int_var = 10\n",
        "float_var = 12,8\n",
        "\n",
        "type(int_var)"
      ],
      "metadata": {
        "colab": {
          "base_uri": "https://localhost:8080/"
        },
        "id": "qhR_Jujzj15B",
        "outputId": "dd1e74f1-752c-472c-be23-1c9b0e2eedbc"
      },
      "execution_count": null,
      "outputs": [
        {
          "output_type": "execute_result",
          "data": {
            "text/plain": [
              "int"
            ]
          },
          "metadata": {},
          "execution_count": 3
        }
      ]
    },
    {
      "cell_type": "code",
      "source": [
        "int_var = 18\n",
        "floar_var = 11,2\n",
        "\n",
        "type(float_var)"
      ],
      "metadata": {
        "colab": {
          "base_uri": "https://localhost:8080/"
        },
        "id": "G638ktGHkb8I",
        "outputId": "0c340aad-5f5a-40b3-a7e9-9d7e9d53c4cd"
      },
      "execution_count": null,
      "outputs": [
        {
          "output_type": "execute_result",
          "data": {
            "text/plain": [
              "tuple"
            ]
          },
          "metadata": {},
          "execution_count": 4
        }
      ]
    },
    {
      "cell_type": "code",
      "source": [
        "# Operații numerice\n",
        "# Adunare\n",
        "1 + 100"
      ],
      "metadata": {
        "colab": {
          "base_uri": "https://localhost:8080/"
        },
        "id": "pvcOITGpklfO",
        "outputId": "54992f44-52c1-4d56-80e3-2c44acea15d3"
      },
      "execution_count": null,
      "outputs": [
        {
          "output_type": "execute_result",
          "data": {
            "text/plain": [
              "101"
            ]
          },
          "metadata": {},
          "execution_count": 5
        }
      ]
    },
    {
      "cell_type": "code",
      "source": [
        "# Înmulțire\n",
        "1 * 100"
      ],
      "metadata": {
        "colab": {
          "base_uri": "https://localhost:8080/"
        },
        "id": "FYgzvC8ok2Gu",
        "outputId": "afeb0d90-4a83-4d22-c823-45b08c60cae1"
      },
      "execution_count": null,
      "outputs": [
        {
          "output_type": "execute_result",
          "data": {
            "text/plain": [
              "100"
            ]
          },
          "metadata": {},
          "execution_count": 6
        }
      ]
    },
    {
      "cell_type": "code",
      "source": [
        "# Împărțire\n",
        "1 / 100"
      ],
      "metadata": {
        "colab": {
          "base_uri": "https://localhost:8080/"
        },
        "id": "u5K_yjKVlAkq",
        "outputId": "60acf985-79f5-4fa2-c2e3-7cff8f9ab0a9"
      },
      "execution_count": null,
      "outputs": [
        {
          "output_type": "execute_result",
          "data": {
            "text/plain": [
              "0.01"
            ]
          },
          "metadata": {},
          "execution_count": 7
        }
      ]
    },
    {
      "cell_type": "code",
      "source": [
        "# Împărțire fără rest\n",
        "7 // 2\n"
      ],
      "metadata": {
        "colab": {
          "base_uri": "https://localhost:8080/"
        },
        "id": "j-rUORYjlNIH",
        "outputId": "c45b228f-f8c1-415a-a410-71bc3b92fd7c"
      },
      "execution_count": null,
      "outputs": [
        {
          "output_type": "execute_result",
          "data": {
            "text/plain": [
              "3"
            ]
          },
          "metadata": {},
          "execution_count": 8
        }
      ]
    },
    {
      "cell_type": "code",
      "source": [
        "# Modulo (ne arată restul împărțirii a două numere)\n",
        "100 % 1\n",
        "100 % 50\n",
        "100 % 8"
      ],
      "metadata": {
        "colab": {
          "base_uri": "https://localhost:8080/"
        },
        "id": "FFDq9PZRlhSz",
        "outputId": "a3e101a4-bb9b-456d-b11b-84a13ebe2dce"
      },
      "execution_count": null,
      "outputs": [
        {
          "output_type": "execute_result",
          "data": {
            "text/plain": [
              "4"
            ]
          },
          "metadata": {},
          "execution_count": 12
        }
      ]
    },
    {
      "cell_type": "code",
      "source": [
        "1 % 100\n",
        "2 % 2"
      ],
      "metadata": {
        "colab": {
          "base_uri": "https://localhost:8080/"
        },
        "id": "3a5tZBmLl4pA",
        "outputId": "b6c2dbd2-bad8-416c-a35b-da7b57fb42dc"
      },
      "execution_count": null,
      "outputs": [
        {
          "output_type": "execute_result",
          "data": {
            "text/plain": [
              "0"
            ]
          },
          "metadata": {},
          "execution_count": 14
        }
      ]
    },
    {
      "cell_type": "code",
      "source": [
        "# Putere\n",
        "# 1 la puterea oricărui număr este întotdeauna 1\n",
        "1 ** 100\n",
        "2 ** 4"
      ],
      "metadata": {
        "colab": {
          "base_uri": "https://localhost:8080/"
        },
        "id": "YejpM1jVmOFX",
        "outputId": "eb697f9b-4207-400c-ad9f-5bd43b2c5698"
      },
      "execution_count": null,
      "outputs": [
        {
          "output_type": "execute_result",
          "data": {
            "text/plain": [
              "16"
            ]
          },
          "metadata": {},
          "execution_count": 16
        }
      ]
    },
    {
      "cell_type": "code",
      "source": [
        "# Folosim print() exact cum am spus și mai sus, pentru a afișa rezultatul unor operații sau varibile\n",
        "print (3 **  3)"
      ],
      "metadata": {
        "colab": {
          "base_uri": "https://localhost:8080/"
        },
        "id": "oy2gf1rEmc8Z",
        "outputId": "937039b2-32fa-4c0b-802f-fde743cd5aa9"
      },
      "execution_count": null,
      "outputs": [
        {
          "output_type": "stream",
          "name": "stdout",
          "text": [
            "27\n"
          ]
        }
      ]
    },
    {
      "cell_type": "markdown",
      "source": [
        "# Șiruri\n",
        "Python acceptă șiruri. Șirul este o secvență de caractere.\n",
        "\n",
        "Șirurile de caractere sunt unul dintre tipurile de date frecvent utilizate și importante. Cele mai multe probleme implică lucrul cu șiruri. Astfel, a ști să lucrezi cu corzi este un lucru incredibil.\n",
        "\n",
        "Șirurile sunt exprimate în fie \"...\"sau '...'.\n"
      ],
      "metadata": {
        "id": "bPe2XL6zmwnM"
      }
    },
    {
      "cell_type": "code",
      "source": [
        "\"acest text va fi un șir\"\n",
        "'acest text  va fi de asemenea tot un șir'"
      ],
      "metadata": {
        "id": "suTi2Msumv3c"
      },
      "execution_count": null,
      "outputs": []
    },
    {
      "cell_type": "markdown",
      "source": [
        "Putem manipula șirurile în multe feluri. Un exemplu simplu este concatenarea șirurilor"
      ],
      "metadata": {
        "id": "zozA4aHznNZT"
      }
    },
    {
      "cell_type": "code",
      "source": [
        "str_var = 'One'\n",
        "str_var2 = 'Hundred'"
      ],
      "metadata": {
        "id": "bbTXtjZnnWcC"
      },
      "execution_count": null,
      "outputs": []
    },
    {
      "cell_type": "code",
      "source": [
        "str_var + str_var2"
      ],
      "metadata": {
        "colab": {
          "base_uri": "https://localhost:8080/",
          "height": 36
        },
        "id": "lXdxyZMBnf_x",
        "outputId": "2430b358-f969-4bce-ac93-504329a1b638"
      },
      "execution_count": null,
      "outputs": [
        {
          "output_type": "execute_result",
          "data": {
            "text/plain": [
              "'OneHundred'"
            ],
            "application/vnd.google.colaboratory.intrinsic+json": {
              "type": "string"
            }
          },
          "metadata": {},
          "execution_count": 19
        }
      ]
    },
    {
      "cell_type": "code",
      "source": [
        "str_var + ' ' + 'and' + ' ' + str_var2 + '.'"
      ],
      "metadata": {
        "colab": {
          "base_uri": "https://localhost:8080/",
          "height": 36
        },
        "id": "UDXvmxr1nk7Z",
        "outputId": "36461deb-a5d3-4499-b89f-71c821863787"
      },
      "execution_count": null,
      "outputs": [
        {
          "output_type": "execute_result",
          "data": {
            "text/plain": [
              "'One and Hundred.'"
            ],
            "application/vnd.google.colaboratory.intrinsic+json": {
              "type": "string"
            }
          },
          "metadata": {},
          "execution_count": 20
        }
      ]
    },
    {
      "cell_type": "code",
      "source": [
        "print('Acesta este un string')"
      ],
      "metadata": {
        "colab": {
          "base_uri": "https://localhost:8080/"
        },
        "id": "tLbb5GBJo8ow",
        "outputId": "318f8467-36ff-4f34-d3d7-e5107e8969e2"
      },
      "execution_count": null,
      "outputs": [
        {
          "output_type": "stream",
          "name": "stdout",
          "text": [
            "Acesta este un string\n"
          ]
        }
      ]
    },
    {
      "cell_type": "code",
      "source": [
        "\" Un șir\" == \"un șir\""
      ],
      "metadata": {
        "colab": {
          "base_uri": "https://localhost:8080/"
        },
        "id": "UIioiGQCpG9d",
        "outputId": "1bc62093-01d9-4604-e10f-904123f883e7"
      },
      "execution_count": null,
      "outputs": [
        {
          "output_type": "execute_result",
          "data": {
            "text/plain": [
              "False"
            ]
          },
          "metadata": {},
          "execution_count": 24
        }
      ]
    },
    {
      "cell_type": "code",
      "source": [
        "\"Un șir\" == \"Un șir\""
      ],
      "metadata": {
        "colab": {
          "base_uri": "https://localhost:8080/"
        },
        "id": "ylRlrn90pMfP",
        "outputId": "8649d5a8-46ec-4bf7-84e3-3e91ed4a19b7"
      },
      "execution_count": null,
      "outputs": [
        {
          "output_type": "execute_result",
          "data": {
            "text/plain": [
              "True"
            ]
          },
          "metadata": {},
          "execution_count": 25
        }
      ]
    },
    {
      "cell_type": "markdown",
      "source": [
        "# Metode șiruri\n",
        "\n",
        "Python oferă multe metode încorporate pentru manipularea șirurilor de caractere. În calitate de programator, cunoașterea metodelor tipice de șiruri și modul de utilizare a acestora vă va oferi o pârghie reală atunci când lucrați cu șiruri.\n",
        "\n",
        "Există multe metode cu șiruri. Le puteți găsi aici: https://docs.python.org/2.5/lib/string-methods.html\n",
        "Să vedem câteva metode comune."
      ],
      "metadata": {
        "id": "hXUvbQJ-pR94"
      }
    },
    {
      "cell_type": "code",
      "source": [
        "propoziție = 'Acesta Este Un Șir'"
      ],
      "metadata": {
        "id": "fCKeygXSpRQc"
      },
      "execution_count": null,
      "outputs": []
    },
    {
      "cell_type": "code",
      "source": [
        "propoziție.capitalize()"
      ],
      "metadata": {
        "colab": {
          "base_uri": "https://localhost:8080/",
          "height": 36
        },
        "id": "7lutUFHJp4Ka",
        "outputId": "24a4efe0-f14d-486f-e2d5-986f5d1ee202"
      },
      "execution_count": null,
      "outputs": [
        {
          "output_type": "execute_result",
          "data": {
            "text/plain": [
              "'Acesta este un șir'"
            ],
            "application/vnd.google.colaboratory.intrinsic+json": {
              "type": "string"
            }
          },
          "metadata": {},
          "execution_count": 29
        }
      ]
    },
    {
      "cell_type": "code",
      "source": [
        "# Avem un șir pe care îl convertim în titlu\n",
        "propoziție_2 = 'acest șir trebuie să fie titlu'\n",
        "propoziție_2.title()"
      ],
      "metadata": {
        "colab": {
          "base_uri": "https://localhost:8080/",
          "height": 36
        },
        "id": "_3_-GYVwqC5U",
        "outputId": "244d8cd1-8363-41da-b4c8-eb21b6f4adf9"
      },
      "execution_count": null,
      "outputs": [
        {
          "output_type": "execute_result",
          "data": {
            "text/plain": [
              "'Acest Șir Trebuie Să Fie Titlu'"
            ],
            "application/vnd.google.colaboratory.intrinsic+json": {
              "type": "string"
            }
          },
          "metadata": {},
          "execution_count": 30
        }
      ]
    },
    {
      "cell_type": "code",
      "source": [
        "# Convertim șirul la litere mari\n",
        "propoziție.upper()"
      ],
      "metadata": {
        "colab": {
          "base_uri": "https://localhost:8080/",
          "height": 36
        },
        "id": "gDQPF9LwqhLT",
        "outputId": "4b679977-dd18-4580-b26c-c20269cd1ee0"
      },
      "execution_count": null,
      "outputs": [
        {
          "output_type": "execute_result",
          "data": {
            "text/plain": [
              "'ACESTA ESTE UN ȘIR'"
            ],
            "application/vnd.google.colaboratory.intrinsic+json": {
              "type": "string"
            }
          },
          "metadata": {},
          "execution_count": 31
        }
      ]
    },
    {
      "cell_type": "code",
      "source": [
        "propoziție.lower()"
      ],
      "metadata": {
        "colab": {
          "base_uri": "https://localhost:8080/",
          "height": 36
        },
        "id": "hGzMl9evrrCj",
        "outputId": "f10a7805-00a8-4091-a691-cb28b4b8174f"
      },
      "execution_count": null,
      "outputs": [
        {
          "output_type": "execute_result",
          "data": {
            "text/plain": [
              "'acesta este un șir'"
            ],
            "application/vnd.google.colaboratory.intrinsic+json": {
              "type": "string"
            }
          },
          "metadata": {},
          "execution_count": 32
        }
      ]
    },
    {
      "cell_type": "code",
      "source": [
        "# Împărțirea șirului în cuvinte\n",
        "propoziție.split()"
      ],
      "metadata": {
        "colab": {
          "base_uri": "https://localhost:8080/"
        },
        "id": "VDzfOFkFru1U",
        "outputId": "8aa1ca57-1fc5-4007-acf9-c237ab53fd48"
      },
      "execution_count": null,
      "outputs": [
        {
          "output_type": "execute_result",
          "data": {
            "text/plain": [
              "['Acesta', 'Este', 'Un', 'Șir']"
            ]
          },
          "metadata": {},
          "execution_count": 33
        }
      ]
    },
    {
      "cell_type": "markdown",
      "source": [
        "În cele din urmă, putem folosi metoda replace() pentru a înlocui unele caractere din șir cu alte caractere. Metoda de înlocuire necesită două intrări: caractere care trebuie înlocuite și caractere noi care trebuie introduse în șir, replace('caractere care trebuie înlocuite', 'caracterele noi').\n",
        "\n",
        "De exemplu, având în vedere șirul „Acest film a fost minunat”, înlocuiți cuvăntul film cu proiect."
      ],
      "metadata": {
        "id": "O7drvA6Dr5fF"
      }
    },
    {
      "cell_type": "code",
      "source": [
        "string = \"Acest film a fost minunat.\"\n",
        "string.replace('film', 'proiect')"
      ],
      "metadata": {
        "colab": {
          "base_uri": "https://localhost:8080/",
          "height": 36
        },
        "id": "cDKL7di1sX48",
        "outputId": "a3011e44-3c20-4bbf-ec06-fe9f3c75ab79"
      },
      "execution_count": null,
      "outputs": [
        {
          "output_type": "execute_result",
          "data": {
            "text/plain": [
              "'Acest proiect a fost minunat.'"
            ],
            "application/vnd.google.colaboratory.intrinsic+json": {
              "type": "string"
            }
          },
          "metadata": {},
          "execution_count": 34
        }
      ]
    },
    {
      "cell_type": "code",
      "source": [
        "# În acest exercițiu înlocuim spatiul dintre cuvinte cu 20%\n",
        "string_2 = \"Acest exercițiu a fost extraordinar de dificil de rezolvat.\"\n",
        "string_2.replace(' ', '20%')"
      ],
      "metadata": {
        "colab": {
          "base_uri": "https://localhost:8080/",
          "height": 36
        },
        "id": "GAxg6BxRs6OL",
        "outputId": "28d91d7d-8b5c-4932-a286-2c5cb1bac1b2"
      },
      "execution_count": null,
      "outputs": [
        {
          "output_type": "execute_result",
          "data": {
            "text/plain": [
              "'Acest20%exercițiu20%a20%fost20%extraordinar20%de20%dificil20%de20%rezolvat.'"
            ],
            "application/vnd.google.colaboratory.intrinsic+json": {
              "type": "string"
            }
          },
          "metadata": {},
          "execution_count": 36
        }
      ]
    },
    {
      "cell_type": "markdown",
      "source": [
        "După cum puteți vedea, metodele cu șiruri sunt puternice și vă pot economisi timp. Amintiți-vă una dintre filozofiile Python pe care le-am văzut la început: Simple is better than complex."
      ],
      "metadata": {
        "id": "DjQfr56-tWrv"
      }
    },
    {
      "cell_type": "markdown",
      "source": [
        "# Structuri de date\n",
        "\n",
        "Structurile de date sunt folosite pentru a organiza și stoca datele. Algoritmii acceptă operațiuni pe date.\n",
        "\n",
        "Python are 4 structuri principale de date: Lists, Dictionaries, Tuplesși Sets."
      ],
      "metadata": {
        "id": "HzrR8EfLtYx7"
      }
    },
    {
      "cell_type": "markdown",
      "source": [
        "#Lista\n",
        "\n",
        "O listă este un set de valori ordonate. Fiecare valoare dintr-o listă se numește elementsau itemși poate fi identificată printr-un index. O listă acceptă diferite tipuri de date, putem avea o listă de numere întregi, șiruri de caractere și flotanți.\n",
        "\n",
        "Ce vom vedea cu listele Python:\n",
        "\n",
        "*   Crearea unei liste\n",
        "*   Accesarea elementelor dintr-o listă\n",
        "*   Tăierea unei liste\n",
        "*   Schimbarea elementelor dintr-o listă\n",
        "*   Parcurgerea unei liste\n",
        "*   Operațiuni pe listă\n",
        "*   Liste imbricate\n",
        "*   Enumeră metodele\n",
        "*   Listă și șiruri\n",
        "\n",
        "\n",
        "\n",
        "\n",
        "\n",
        "\n",
        "\n",
        "\n",
        "\n",
        "\n",
        "\n",
        "\n",
        "\n"
      ],
      "metadata": {
        "id": "Ux9k5Wadtiro"
      }
    },
    {
      "cell_type": "markdown",
      "source": [
        "# Crearea unei liste\n",
        "\n",
        "O listă Python poate fi creată prin includerea elementelor de tip de date similare sau diferite între paranteze drepte [...]sau cu functia range()."
      ],
      "metadata": {
        "id": "Tur_p7ASuHN0"
      }
    },
    {
      "cell_type": "code",
      "source": [
        "# Crearea unei liste\n",
        "zilele_săptămânii = ['Luni', 'Marți', 'Miercuri', 'Joi', 'Vineri', 'Sâmbătă', 'Duminicâ']\n",
        "print(zilele_săptămânii)"
      ],
      "metadata": {
        "colab": {
          "base_uri": "https://localhost:8080/"
        },
        "id": "cxxQ2GIYuQUb",
        "outputId": "4f2462db-ca6a-4211-b4d4-6c5ea261f311"
      },
      "execution_count": null,
      "outputs": [
        {
          "output_type": "stream",
          "name": "stdout",
          "text": [
            "['Luni', 'Marți', 'Miercuri', 'Joi', 'Vineri', 'Sâmbătă', 'Duminicâ']\n"
          ]
        }
      ]
    },
    {
      "cell_type": "code",
      "source": [
        "chiar_numere = [1,2,3,4,5,6,7,8,9]\n",
        "print(chiar_numere)"
      ],
      "metadata": {
        "colab": {
          "base_uri": "https://localhost:8080/"
        },
        "id": "pGjTRoyduttl",
        "outputId": "c882a61d-32d9-496a-bab5-565ce6dd4bc6"
      },
      "execution_count": null,
      "outputs": [
        {
          "output_type": "stream",
          "name": "stdout",
          "text": [
            "[1, 2, 3, 4, 5, 6, 7, 8, 9]\n"
          ]
        }
      ]
    },
    {
      "cell_type": "code",
      "source": [
        "lista_mixtă = ['Luni', 1, 'Marți', 2, 'Miercuri', 3]\n",
        "print(lista_mixtă)"
      ],
      "metadata": {
        "colab": {
          "base_uri": "https://localhost:8080/"
        },
        "id": "91qLYLxzu4Qh",
        "outputId": "bf9c9bfb-5859-461e-ada2-f0ebf120b027"
      },
      "execution_count": null,
      "outputs": [
        {
          "output_type": "stream",
          "name": "stdout",
          "text": [
            "['Luni', 1, 'Marți', 2, 'Miercuri', 3]\n"
          ]
        }
      ]
    },
    {
      "cell_type": "code",
      "source": [
        "# Crearea unei liste cu range()\n",
        "numere = range(11)\n",
        "for i in numere:\n",
        "    print(i)"
      ],
      "metadata": {
        "colab": {
          "base_uri": "https://localhost:8080/"
        },
        "id": "MlAfHmUQvFjC",
        "outputId": "577d2e96-c7dd-4a03-8264-61ef68a40bb6"
      },
      "execution_count": null,
      "outputs": [
        {
          "output_type": "stream",
          "name": "stdout",
          "text": [
            "0\n",
            "1\n",
            "2\n",
            "3\n",
            "4\n",
            "5\n",
            "6\n",
            "7\n",
            "8\n",
            "9\n",
            "10\n"
          ]
        }
      ]
    },
    {
      "cell_type": "markdown",
      "source": [
        "# Accesarea elementelor unei liste\n",
        "Putem accesa un anumit element al listei furnizând indexul elementului într-o paranteză. Indexul începe de la 0 în Python."
      ],
      "metadata": {
        "id": "QXJtcLQYv2eB"
      }
    },
    {
      "cell_type": "code",
      "source": [
        "# Accesarea primului element al listei\n",
        "zilele_săptămânii[4]"
      ],
      "metadata": {
        "colab": {
          "base_uri": "https://localhost:8080/",
          "height": 36
        },
        "id": "gPOLOmLkv1vZ",
        "outputId": "db76be0a-cfff-4170-c00c-60be3bb9579a"
      },
      "execution_count": null,
      "outputs": [
        {
          "output_type": "execute_result",
          "data": {
            "text/plain": [
              "'Vineri'"
            ],
            "application/vnd.google.colaboratory.intrinsic+json": {
              "type": "string"
            }
          },
          "metadata": {},
          "execution_count": 44
        }
      ]
    },
    {
      "cell_type": "code",
      "source": [
        "chiar_numere[2]"
      ],
      "metadata": {
        "colab": {
          "base_uri": "https://localhost:8080/"
        },
        "id": "XNXEEGMRwJi6",
        "outputId": "c6c64b2b-44fa-4921-da91-0d9a13de8f4c"
      },
      "execution_count": null,
      "outputs": [
        {
          "output_type": "execute_result",
          "data": {
            "text/plain": [
              "3"
            ]
          },
          "metadata": {},
          "execution_count": 47
        }
      ]
    },
    {
      "cell_type": "code",
      "source": [
        "# Obținerea ultimului element al listei\n",
        "print(chiar_numere[-1])"
      ],
      "metadata": {
        "colab": {
          "base_uri": "https://localhost:8080/"
        },
        "id": "AtlKYzIywZh3",
        "outputId": "71244943-0907-4ec4-a194-10cc041aa583"
      },
      "execution_count": null,
      "outputs": [
        {
          "output_type": "stream",
          "name": "stdout",
          "text": [
            "9\n"
          ]
        }
      ]
    },
    {
      "cell_type": "markdown",
      "source": [
        "# Tăierea unei liste\n",
        "Având o listă, o putem tăia pentru a obține orice părți sau combinații ale elementelor sale formând o altă listă."
      ],
      "metadata": {
        "id": "KPt4uw0sw2_s"
      }
    },
    {
      "cell_type": "code",
      "source": [
        "# Obținerea elementelor de la indexul 0 la 2,indexul 2 ne fiind inclus\n",
        "zilele_săptămânii[0:2]"
      ],
      "metadata": {
        "colab": {
          "base_uri": "https://localhost:8080/"
        },
        "id": "Mc9mFenxxSII",
        "outputId": "b4f7c167-1483-4a5d-e27f-9ec102975482"
      },
      "execution_count": null,
      "outputs": [
        {
          "output_type": "execute_result",
          "data": {
            "text/plain": [
              "['Luni', 'Marți']"
            ]
          },
          "metadata": {},
          "execution_count": 49
        }
      ]
    },
    {
      "cell_type": "code",
      "source": [
        "# Obținerea elementelor de la ultimele 4 elemente\n",
        "zilele_săptămânii[-4:]"
      ],
      "metadata": {
        "colab": {
          "base_uri": "https://localhost:8080/"
        },
        "id": "eEk0fZLuxioG",
        "outputId": "9d5837c5-8bfe-4541-ac08-c02276e74806"
      },
      "execution_count": null,
      "outputs": [
        {
          "output_type": "execute_result",
          "data": {
            "text/plain": [
              "['Joi', 'Vineri', 'Sâmbătă', 'Duminicâ']"
            ]
          },
          "metadata": {},
          "execution_count": 51
        }
      ]
    },
    {
      "cell_type": "code",
      "source": [
        "# Obținerea elementelor de la primul index până la al patrulea index\n",
        "zilele_săptămânii[:4]"
      ],
      "metadata": {
        "colab": {
          "base_uri": "https://localhost:8080/"
        },
        "id": "9NAwmhvoyC7c",
        "outputId": "a2d1007b-bcf2-476d-e831-a4abf62f74c5"
      },
      "execution_count": null,
      "outputs": [
        {
          "output_type": "execute_result",
          "data": {
            "text/plain": [
              "['Luni', 'Marți', 'Miercuri', 'Joi']"
            ]
          },
          "metadata": {},
          "execution_count": 52
        }
      ]
    },
    {
      "cell_type": "code",
      "source": [
        "# Obținerea elementelor de la al doilea până la ultimul index\n",
        "zilele_săptămânii[2:]"
      ],
      "metadata": {
        "colab": {
          "base_uri": "https://localhost:8080/"
        },
        "id": "s3frBxUbyaGj",
        "outputId": "83446648-354b-4324-a171-3ff2d5c1df84"
      },
      "execution_count": null,
      "outputs": [
        {
          "output_type": "execute_result",
          "data": {
            "text/plain": [
              "['Miercuri', 'Joi', 'Vineri', 'Sâmbătă', 'Duminicâ']"
            ]
          },
          "metadata": {},
          "execution_count": 53
        }
      ]
    },
    {
      "cell_type": "code",
      "source": [
        "# Putem utiliza : pentru a copia întreaga listă\n",
        "zilele_săptămânii[:]"
      ],
      "metadata": {
        "colab": {
          "base_uri": "https://localhost:8080/"
        },
        "id": "xFwRIHL3yrkY",
        "outputId": "54d30cee-8dd2-400f-f3b5-946a825d5d41"
      },
      "execution_count": null,
      "outputs": [
        {
          "output_type": "execute_result",
          "data": {
            "text/plain": [
              "['Luni', 'Marți', 'Miercuri', 'Joi', 'Vineri', 'Sâmbătă', 'Duminicâ']"
            ]
          },
          "metadata": {},
          "execution_count": 54
        }
      ]
    },
    {
      "cell_type": "markdown",
      "source": [
        "# Schimbarea elementelor dintr-o listă\n",
        "Listele Python sunt modificabile. Putem șterge sau modifica elementele listei"
      ],
      "metadata": {
        "id": "VAmRyB7Ry3dH"
      }
    },
    {
      "cell_type": "code",
      "source": [
        "nume = ['Ciprian', 'Adi', 'Luca', 'Andy', 'Mihaela']\n",
        "nume"
      ],
      "metadata": {
        "colab": {
          "base_uri": "https://localhost:8080/"
        },
        "id": "C5CxMXqizNP-",
        "outputId": "eab99fb0-2f9b-4dc4-a0f5-6ba5d1092459"
      },
      "execution_count": null,
      "outputs": [
        {
          "output_type": "execute_result",
          "data": {
            "text/plain": [
              "['Ciprian', 'Adi', 'Luca', 'Andy', 'Mihaela']"
            ]
          },
          "metadata": {},
          "execution_count": 55
        }
      ]
    },
    {
      "cell_type": "code",
      "source": [
        "# Schimbăm 'Adi' cu 'Alexia' si 'Andy' cu 'Duțu'\n",
        "nume[1:4]=['Alexia', 'Duțu']\n",
        "nume"
      ],
      "metadata": {
        "colab": {
          "base_uri": "https://localhost:8080/"
        },
        "id": "TK_pQSNWy0xH",
        "outputId": "b7fb4833-407f-4587-9b04-0161119bb766"
      },
      "execution_count": null,
      "outputs": [
        {
          "output_type": "execute_result",
          "data": {
            "text/plain": [
              "['Ciprian', 'Alexia', 'Duțu', 'Mihaela']"
            ]
          },
          "metadata": {},
          "execution_count": 57
        }
      ]
    },
    {
      "cell_type": "code",
      "source": [
        "# Schimbăm ultimul nume din listă cu 'Ayana'\n",
        "nume[-1] = 'Ayana'\n",
        "nume"
      ],
      "metadata": {
        "colab": {
          "base_uri": "https://localhost:8080/"
        },
        "id": "7h6Zwg1B02QV",
        "outputId": "eea986c6-8572-4654-c81c-7579db0d5f53"
      },
      "execution_count": null,
      "outputs": [
        {
          "output_type": "execute_result",
          "data": {
            "text/plain": [
              "['Ciprian', 'Alexia', 'Duțu', 'Ayana']"
            ]
          },
          "metadata": {},
          "execution_count": 59
        }
      ]
    },
    {
      "cell_type": "code",
      "source": [
        "# Schimbăm 'Ciprian' cu 'Buck'\n",
        "nume[0] = 'Buck'\n",
        "nume"
      ],
      "metadata": {
        "colab": {
          "base_uri": "https://localhost:8080/"
        },
        "id": "fuyPEIzu1V6a",
        "outputId": "d68ec55b-a95e-413e-fc19-27d7cf755fe4"
      },
      "execution_count": null,
      "outputs": [
        {
          "output_type": "execute_result",
          "data": {
            "text/plain": [
              "['Buck', 'Alexia', 'Duțu', 'Ayana']"
            ]
          },
          "metadata": {},
          "execution_count": 60
        }
      ]
    },
    {
      "cell_type": "markdown",
      "source": [
        "Pentru a șterge un anumit element dintr-o listă, îl putem goli, dar cel mai bun mod de a șterge un element este să folosiți delcuvântul cheie."
      ],
      "metadata": {
        "id": "s9LmmgB81xTW"
      }
    },
    {
      "cell_type": "code",
      "source": [
        "# Ștergem numele 'Alexia' din listă\n",
        "del nume[0]\n",
        "nume"
      ],
      "metadata": {
        "colab": {
          "base_uri": "https://localhost:8080/"
        },
        "id": "mDUVvN991ulG",
        "outputId": "25d1a11a-1925-4b47-cd94-04116a14ab4a"
      },
      "execution_count": null,
      "outputs": [
        {
          "output_type": "execute_result",
          "data": {
            "text/plain": [
              "['Ayana']"
            ]
          },
          "metadata": {},
          "execution_count": 63
        }
      ]
    },
    {
      "cell_type": "markdown",
      "source": [
        "Dacă cunoașteți indexul elementului pe care doriți să îl eliminați, puteți utiliza pop(). Dacă nu furnizați indexul în pop(), ultimul element va fi șters."
      ],
      "metadata": {
        "id": "zax2Orvo2RRI"
      }
    },
    {
      "cell_type": "code",
      "source": [
        "nume = ['Ciprian', 'Adi', 'Luca', 'Andy', 'Mihaela']\n",
        "nume.pop(3)\n",
        "nume"
      ],
      "metadata": {
        "colab": {
          "base_uri": "https://localhost:8080/"
        },
        "id": "-iG53tm_2TUi",
        "outputId": "e1040f50-b05a-4016-e0cd-98157db1d1c1"
      },
      "execution_count": null,
      "outputs": [
        {
          "output_type": "execute_result",
          "data": {
            "text/plain": [
              "['Ciprian', 'Adi', 'Luca', 'Mihaela']"
            ]
          },
          "metadata": {},
          "execution_count": 65
        }
      ]
    },
    {
      "cell_type": "code",
      "source": [
        "# De asemenea, putem folosi remove() pentru a șterge elementul furnizat în cadrul metodei remove().\n",
        "nume = ['Ciprian', 'Adi', 'Luca', 'Andy', 'Mihaela']\n",
        "nume.remove('Andy')\n",
        "nume"
      ],
      "metadata": {
        "colab": {
          "base_uri": "https://localhost:8080/"
        },
        "id": "lb7-DnNc2hzU",
        "outputId": "5fa30f28-51b4-4b1e-f08d-ef045c9f7618"
      },
      "execution_count": null,
      "outputs": [
        {
          "output_type": "execute_result",
          "data": {
            "text/plain": [
              "['Ciprian', 'Adi', 'Luca', 'Mihaela']"
            ]
          },
          "metadata": {},
          "execution_count": 66
        }
      ]
    },
    {
      "cell_type": "code",
      "source": [
        "# De asemenea, putem folosi append()pentru a adăuga un element în listă.\n",
        "nume = ['Ciprian', 'Adi', 'Luca', 'Andy', 'Mihaela']\n",
        "nume.append('Josh')\n",
        "nume.append('Chimmley')\n",
        "nume"
      ],
      "metadata": {
        "colab": {
          "base_uri": "https://localhost:8080/"
        },
        "id": "UGLFfvgH2tby",
        "outputId": "444f5bad-ef4d-4b37-86af-b4dff2eca791"
      },
      "execution_count": null,
      "outputs": [
        {
          "output_type": "execute_result",
          "data": {
            "text/plain": [
              "['Ciprian', 'Adi', 'Luca', 'Andy', 'Mihaela', 'Josh', 'Chimmley']"
            ]
          },
          "metadata": {},
          "execution_count": 67
        }
      ]
    },
    {
      "cell_type": "markdown",
      "source": [
        "# Parcurgerea unei liste\n",
        "\n",
        "Există momente în care ar putea fi nevoie să trecem peste lista pentru a citi elementele listei sau pentru a efectua operații iterative. Putem folosi for looppentru a parcurge lista."
      ],
      "metadata": {
        "id": "a0YxxgZ829TO"
      }
    },
    {
      "cell_type": "code",
      "source": [
        "nume = ['James', 'Jean', 'Sebastian', 'Prit']\n",
        "for i in nume:\n",
        "    print(nume)"
      ],
      "metadata": {
        "colab": {
          "base_uri": "https://localhost:8080/"
        },
        "id": "Ktbc0c403Eck",
        "outputId": "828e2a7c-174e-4962-f5ec-977e27a5ba8c"
      },
      "execution_count": null,
      "outputs": [
        {
          "output_type": "stream",
          "name": "stdout",
          "text": [
            "['James', 'Jean', 'Sebastian', 'Prit']\n",
            "['James', 'Jean', 'Sebastian', 'Prit']\n",
            "['James', 'Jean', 'Sebastian', 'Prit']\n",
            "['James', 'Jean', 'Sebastian', 'Prit']\n"
          ]
        }
      ]
    },
    {
      "cell_type": "code",
      "source": [
        "# Se dă o listă de numere\n",
        "# Adaugă 1 la primul element, 2 la al doilea, 3 la al treilea etc\n",
        "# Exemplu: numere = [1,2,3,4,5] dupa execuție vor fi numere_noi = [2,4,6,8,10]\n",
        "\n",
        "numere = [1,2,3,4]\n",
        "numere_noi = []\n",
        "\n",
        "for i in range(len(numere)):\n",
        "# len(numere) ne da lungimea listei\n",
        "    numar = numere[i] + i + 1\n",
        "    numere_noi.append(numar)\n",
        "numere_noi"
      ],
      "metadata": {
        "colab": {
          "base_uri": "https://localhost:8080/"
        },
        "id": "QBDYrHKB3jdO",
        "outputId": "c1b431b8-8981-482d-c9eb-685ed19cd46f"
      },
      "execution_count": null,
      "outputs": [
        {
          "output_type": "execute_result",
          "data": {
            "text/plain": [
              "[2, 4, 6, 8]"
            ]
          },
          "metadata": {},
          "execution_count": 74
        }
      ]
    },
    {
      "cell_type": "code",
      "source": [
        "# Operații pe listă\n",
        "a = [1,2,3]\n",
        "b = [4,5,6]\n",
        "c = a + b\n",
        "c"
      ],
      "metadata": {
        "colab": {
          "base_uri": "https://localhost:8080/"
        },
        "id": "KKGgUzja47fo",
        "outputId": "50fa26a5-d4f4-453b-f060-e045d1b2c943"
      },
      "execution_count": null,
      "outputs": [
        {
          "output_type": "execute_result",
          "data": {
            "text/plain": [
              "[1, 2, 3, 4, 5, 6]"
            ]
          },
          "metadata": {},
          "execution_count": 75
        }
      ]
    },
    {
      "cell_type": "code",
      "source": [
        "# Putem folosi operatorul * pentru a repeta un element dintr-o lista de n ori\n",
        "[None] * 5"
      ],
      "metadata": {
        "colab": {
          "base_uri": "https://localhost:8080/"
        },
        "id": "04q8RPQ653kj",
        "outputId": "4577755f-e92e-4c40-f6ec-6d68571205a6"
      },
      "execution_count": null,
      "outputs": [
        {
          "output_type": "execute_result",
          "data": {
            "text/plain": [
              "[None, None, None, None, None]"
            ]
          },
          "metadata": {},
          "execution_count": 2
        }
      ]
    },
    {
      "cell_type": "code",
      "source": [
        "[True] * 4"
      ],
      "metadata": {
        "colab": {
          "base_uri": "https://localhost:8080/"
        },
        "id": "iPF30xfGRhdP",
        "outputId": "e5b8c249-ad47-4b45-d750-14388eb639b8"
      },
      "execution_count": null,
      "outputs": [
        {
          "output_type": "execute_result",
          "data": {
            "text/plain": [
              "[True, True, True, True]"
            ]
          },
          "metadata": {},
          "execution_count": 3
        }
      ]
    },
    {
      "cell_type": "code",
      "source": [
        "[False] * 4"
      ],
      "metadata": {
        "colab": {
          "base_uri": "https://localhost:8080/"
        },
        "id": "6Juv_TtvRj-M",
        "outputId": "eda79039-4de0-4206-f4d8-a717eda79da9"
      },
      "execution_count": null,
      "outputs": [
        {
          "output_type": "execute_result",
          "data": {
            "text/plain": [
              "[False, False, False, False]"
            ]
          },
          "metadata": {},
          "execution_count": 4
        }
      ]
    },
    {
      "cell_type": "code",
      "source": [
        "[1,2,3,4,5] * 2"
      ],
      "metadata": {
        "colab": {
          "base_uri": "https://localhost:8080/"
        },
        "id": "CVTFp6zsRrls",
        "outputId": "450a1455-3868-4063-fd84-0a64eb0177bd"
      },
      "execution_count": null,
      "outputs": [
        {
          "output_type": "execute_result",
          "data": {
            "text/plain": [
              "[1, 2, 3, 4, 5, 1, 2, 3, 4, 5]"
            ]
          },
          "metadata": {},
          "execution_count": 5
        }
      ]
    },
    {
      "cell_type": "markdown",
      "source": [
        "# Liste imbricate"
      ],
      "metadata": {
        "id": "oKbttU_6RxYW"
      }
    },
    {
      "cell_type": "code",
      "source": [
        "# Crearea unei liste în altă listă\n",
        "lista_inclusă = [1,2,3, ['x', 'y', 'z']]\n",
        "# Vom lua lista ['x', 'y', 'z'] din lista_inclusă\n",
        "lista_inclusă[3]"
      ],
      "metadata": {
        "colab": {
          "base_uri": "https://localhost:8080/"
        },
        "id": "dPw7A0QvRwLD",
        "outputId": "465c9b9f-08d0-4bd4-bf2f-6dab1dfa8cae"
      },
      "execution_count": null,
      "outputs": [
        {
          "output_type": "execute_result",
          "data": {
            "text/plain": [
              "['x', 'y', 'z']"
            ]
          },
          "metadata": {},
          "execution_count": 6
        }
      ]
    },
    {
      "cell_type": "code",
      "source": [
        "lista_inclusă2 = ['Andrei', 'Rareș', 'Popescu', [1, 18, 2]]\n",
        "lista_inclusă2[3]"
      ],
      "metadata": {
        "colab": {
          "base_uri": "https://localhost:8080/"
        },
        "id": "J092ERWoScTg",
        "outputId": "f48b8839-054a-47c6-edbe-8293a86b8621"
      },
      "execution_count": null,
      "outputs": [
        {
          "output_type": "execute_result",
          "data": {
            "text/plain": [
              "[1, 18, 2]"
            ]
          },
          "metadata": {},
          "execution_count": 7
        }
      ]
    },
    {
      "cell_type": "code",
      "source": [
        "lista_inclusă2[2]"
      ],
      "metadata": {
        "colab": {
          "base_uri": "https://localhost:8080/",
          "height": 36
        },
        "id": "Hm70UAGsRu8n",
        "outputId": "bc525705-4eaf-4b97-ef56-2066e41f1440"
      },
      "execution_count": null,
      "outputs": [
        {
          "output_type": "execute_result",
          "data": {
            "text/plain": [
              "'Popescu'"
            ],
            "application/vnd.google.colaboratory.intrinsic+json": {
              "type": "string"
            }
          },
          "metadata": {},
          "execution_count": 12
        }
      ]
    },
    {
      "cell_type": "markdown",
      "source": [
        "# Listă metode\n",
        "\n",
        "Python oferă, de asemenea, metode care facilitează lucrul cu liste. Am folosit deja câteva metode de listă, cum ar fi pop() și, append(), dar haideți să revizuim mai multe alte metode."
      ],
      "metadata": {
        "id": "M8xyWY_AT8U6"
      }
    },
    {
      "cell_type": "code",
      "source": [
        "# Sortarea listelor cu sort() în ordine crescătoare\n",
        "numere2 = [2,14,16,12,20,8,10]\n",
        "numere2.sort()\n",
        "numere2"
      ],
      "metadata": {
        "colab": {
          "base_uri": "https://localhost:8080/"
        },
        "id": "kIPviT_VUIjV",
        "outputId": "c8fb1402-0dcc-48fc-984a-1d641e10fa61"
      },
      "execution_count": null,
      "outputs": [
        {
          "output_type": "execute_result",
          "data": {
            "text/plain": [
              "[2, 8, 10, 12, 14, 16, 20]"
            ]
          },
          "metadata": {},
          "execution_count": 14
        }
      ]
    },
    {
      "cell_type": "code",
      "source": [
        "# În ordine inversă\n",
        "numere2.reverse()\n",
        "numere2"
      ],
      "metadata": {
        "colab": {
          "base_uri": "https://localhost:8080/"
        },
        "id": "8cBaWODzUgz-",
        "outputId": "9a702ce6-9814-4d5d-c022-5ec145eccbef"
      },
      "execution_count": null,
      "outputs": [
        {
          "output_type": "execute_result",
          "data": {
            "text/plain": [
              "[20, 16, 14, 12, 10, 8, 2]"
            ]
          },
          "metadata": {},
          "execution_count": 15
        }
      ]
    },
    {
      "cell_type": "code",
      "source": [
        "# Adăugarea altor elemente într-o listă\n",
        "numere3 = [5, 10, 2, 33, 44, 50]\n",
        "numere3.append(55)\n",
        "numere3"
      ],
      "metadata": {
        "colab": {
          "base_uri": "https://localhost:8080/"
        },
        "id": "tcNDI1UxUq9Z",
        "outputId": "42ec9792-0472-45cc-f418-8b119997a6bc"
      },
      "execution_count": null,
      "outputs": [
        {
          "output_type": "execute_result",
          "data": {
            "text/plain": [
              "[5, 10, 2, 33, 44, 50, 55]"
            ]
          },
          "metadata": {},
          "execution_count": 16
        }
      ]
    },
    {
      "cell_type": "code",
      "source": [
        "# Înlăturarea primului element dintr-o listă\n",
        "numere3.remove(5)\n",
        "numere3"
      ],
      "metadata": {
        "colab": {
          "base_uri": "https://localhost:8080/"
        },
        "id": "3b6oPAMGU8C_",
        "outputId": "dc2028ae-3e31-493c-9dab-d42bf2869e78"
      },
      "execution_count": null,
      "outputs": [
        {
          "output_type": "execute_result",
          "data": {
            "text/plain": [
              "[10, 33, 44, 50, 55]"
            ]
          },
          "metadata": {},
          "execution_count": 18
        }
      ]
    },
    {
      "cell_type": "code",
      "source": [
        "numere3.append(2)\n",
        "numere3"
      ],
      "metadata": {
        "colab": {
          "base_uri": "https://localhost:8080/"
        },
        "id": "2omVehkQVMIl",
        "outputId": "8f20baf6-2c56-4d8f-bd82-0d11ce7700fe"
      },
      "execution_count": null,
      "outputs": [
        {
          "output_type": "execute_result",
          "data": {
            "text/plain": [
              "[10, 33, 44, 50, 55, 2]"
            ]
          },
          "metadata": {},
          "execution_count": 19
        }
      ]
    },
    {
      "cell_type": "code",
      "source": [
        "# Returnăm elementul din listă specific indexului precizat\n",
        "numere3.pop(0)"
      ],
      "metadata": {
        "colab": {
          "base_uri": "https://localhost:8080/"
        },
        "id": "KuhmEvQBVQbj",
        "outputId": "eff13131-c424-4d0a-df41-0b7c857b49ac"
      },
      "execution_count": null,
      "outputs": [
        {
          "output_type": "execute_result",
          "data": {
            "text/plain": [
              "10"
            ]
          },
          "metadata": {},
          "execution_count": 20
        }
      ]
    },
    {
      "cell_type": "code",
      "source": [
        "# Functia pop() fără o valoare dată va returna întotdeauna ultimul element din listă\n",
        "numere3.pop()"
      ],
      "metadata": {
        "colab": {
          "base_uri": "https://localhost:8080/"
        },
        "id": "05YjAVl2VhHR",
        "outputId": "04e2fa95-df07-4d3a-eb7f-42b8eef632fa"
      },
      "execution_count": null,
      "outputs": [
        {
          "output_type": "execute_result",
          "data": {
            "text/plain": [
              "2"
            ]
          },
          "metadata": {},
          "execution_count": 21
        }
      ]
    },
    {
      "cell_type": "code",
      "source": [
        "# Numără de căte ori apare un element în listă\n",
        "numere4 = [1, 3, 3, 3, 4]\n",
        "numere4.count(3)"
      ],
      "metadata": {
        "colab": {
          "base_uri": "https://localhost:8080/"
        },
        "id": "nMy3NHGxVvMh",
        "outputId": "be28a8ce-2d00-400b-d419-a8d9373b24e6"
      },
      "execution_count": null,
      "outputs": [
        {
          "output_type": "execute_result",
          "data": {
            "text/plain": [
              "3"
            ]
          },
          "metadata": {},
          "execution_count": 22
        }
      ]
    },
    {
      "cell_type": "markdown",
      "source": [
        "# Listă și apeluri\n",
        "\n",
        "Am învățat anterior despre șiruri. Șirurile sunt o secvență de caractere. Lista este o succesiune de valori."
      ],
      "metadata": {
        "id": "udUgyTX7WgX8"
      }
    },
    {
      "cell_type": "code",
      "source": [
        "# Putem converti un sir în listă\n",
        "stri = 'Soare'\n",
        "list(stri)"
      ],
      "metadata": {
        "colab": {
          "base_uri": "https://localhost:8080/"
        },
        "id": "mXGs5H6zWdLK",
        "outputId": "023b9302-ac3a-4f66-afc4-eb49eb27f388"
      },
      "execution_count": null,
      "outputs": [
        {
          "output_type": "execute_result",
          "data": {
            "text/plain": [
              "['S', 'o', 'a', 'r', 'e']"
            ]
          },
          "metadata": {},
          "execution_count": 25
        }
      ]
    },
    {
      "cell_type": "code",
      "source": [
        "# Împărțirea unui șir în cuvinte individuale introduse intr-o listă\n",
        "string3 = \"Liste și șiruri\"\n",
        "string3.split()"
      ],
      "metadata": {
        "colab": {
          "base_uri": "https://localhost:8080/"
        },
        "id": "dl0UsjpYXOSw",
        "outputId": "d35c101f-9804-4622-a42a-6cbf35040215"
      },
      "execution_count": null,
      "outputs": [
        {
          "output_type": "execute_result",
          "data": {
            "text/plain": [
              "['Liste', 'și', 'șiruri']"
            ]
          },
          "metadata": {},
          "execution_count": 26
        }
      ]
    },
    {
      "cell_type": "markdown",
      "source": [
        "Metoda șirului split() permite specificarea caracterului care să folosească o limită în timp ce împărțirea șirului. Se numește delimitator.\n"
      ],
      "metadata": {
        "id": "V1DQTYllXtjr"
      }
    },
    {
      "cell_type": "code",
      "source": [
        "string4 = \"state-of-the-art\"\n",
        "string4.split('-')"
      ],
      "metadata": {
        "colab": {
          "base_uri": "https://localhost:8080/"
        },
        "id": "x4N91ha3Xzs2",
        "outputId": "856a0e83-b4d8-4fd9-de81-7b308a47f188"
      },
      "execution_count": null,
      "outputs": [
        {
          "output_type": "execute_result",
          "data": {
            "text/plain": [
              "['state', 'of', 'the', 'art']"
            ]
          },
          "metadata": {},
          "execution_count": 27
        }
      ]
    },
    {
      "cell_type": "markdown",
      "source": [
        "# Dicționare\n",
        "\n",
        "Dicționarele sunt structuri puternice de date încorporate în Python, care sunt folosite pentru a stoca date ale cheilor și ale valorilor. Un dicționar este ca o listă, dar în loc să folosească numere întregi ca indici, indicii din dicționar pot fi orice tip de date. De asemenea, spre deosebire de liste, dicționarul este neordonat. Dicționarele nu garantează păstrarea ordinii datelor.\n",
        "\n",
        "În general, un dicționar este o colecție de chei și valori. Un dicționar stochează o mapare a cheilor și a valorilor. O cheie este ceea ce ne putem referi la index.\n",
        "\n",
        "Ce vom vedea:\n",
        "\n",
        "*   Crearea unui dicționar\n",
        "*   Accesarea valorilor și cheilor în dicționar\n",
        "*   Rezolvarea problemelor de numărare cu dicționar\n",
        "*   Parcurgerea unui dicționar\n",
        "*  Metoda setdefault().\n",
        "\n",
        "\n",
        "\n",
        "\n",
        "\n"
      ],
      "metadata": {
        "id": "3FGLqLAHYW-1"
      }
    },
    {
      "cell_type": "markdown",
      "source": [
        "# Crearea unui dicționar\n",
        "\n",
        "Putem crea cu funcția dict() și adăugă elemente mai târziu sau putem introduce chei și valori imediat în paranteze {}. Să începem cu funcția dict() pentru a crea un dicționar gol."
      ],
      "metadata": {
        "id": "j6-hNK84ZOAX"
      }
    },
    {
      "cell_type": "code",
      "source": [
        "# Crearea unui dicționar\n",
        "\n",
        "codul_țărilor = dict()\n",
        "print(codul_țărilor)"
      ],
      "metadata": {
        "colab": {
          "base_uri": "https://localhost:8080/"
        },
        "id": "yINdfuNtYWOS",
        "outputId": "64db8a50-ab05-4ae5-9a97-ee854f6c4ce5"
      },
      "execution_count": null,
      "outputs": [
        {
          "output_type": "stream",
          "name": "stdout",
          "text": [
            "{}\n"
          ]
        }
      ]
    },
    {
      "cell_type": "code",
      "source": [
        "type(codul_țărilor)"
      ],
      "metadata": {
        "colab": {
          "base_uri": "https://localhost:8080/"
        },
        "id": "HBm7aBCIZcbA",
        "outputId": "aa29cc10-3713-47ee-d075-17885417f259"
      },
      "execution_count": null,
      "outputs": [
        {
          "output_type": "execute_result",
          "data": {
            "text/plain": [
              "dict"
            ]
          },
          "metadata": {},
          "execution_count": 29
        }
      ]
    },
    {
      "cell_type": "code",
      "source": [
        "# Adăugăm elemente în dicționarul gol\n",
        "codul_țărilor[\"Statele Unite\"] = 1\n",
        "codul_țărilor"
      ],
      "metadata": {
        "colab": {
          "base_uri": "https://localhost:8080/"
        },
        "id": "GHnt5Uf9Z9Oj",
        "outputId": "b6097ec6-41cb-43d8-ee49-3163291d5da7"
      },
      "execution_count": null,
      "outputs": [
        {
          "output_type": "execute_result",
          "data": {
            "text/plain": [
              "{'Statele Unite': 1}"
            ]
          },
          "metadata": {},
          "execution_count": 31
        }
      ]
    },
    {
      "cell_type": "code",
      "source": [
        "# Să creăm un dictionar cu {}, este o modalitate obișnuită de a crea un dicționar\n",
        "codul_țărilor = {\n",
        "    \"Statele Unite\": 1,\n",
        "    \"China\": 86,\n",
        "    \"Rwanda\": 250,\n",
        "    \"Germany\": 49,\n",
        "    \"India\": 91\n",
        "}\n",
        "codul_țărilor"
      ],
      "metadata": {
        "colab": {
          "base_uri": "https://localhost:8080/"
        },
        "id": "ZN34aOoGaTw3",
        "outputId": "e6fce96f-39e1-4ddb-dbdf-f88f7454461b"
      },
      "execution_count": null,
      "outputs": [
        {
          "output_type": "execute_result",
          "data": {
            "text/plain": [
              "{'Statele Unite': 1, 'China': 86, 'Rwanda': 250, 'Germany': 49, 'India': 91}"
            ]
          },
          "metadata": {},
          "execution_count": 32
        }
      ]
    },
    {
      "cell_type": "markdown",
      "source": [
        "Pentru a adăuga cheie și valori la un dicționar, adăugăm noua cheie la [] și setăm noua ei valoare."
      ],
      "metadata": {
        "id": "AJwRaSscbSVq"
      }
    },
    {
      "cell_type": "code",
      "source": [
        "codul_țărilor[\"Australia\"] = 61\n",
        "codul_țărilor"
      ],
      "metadata": {
        "colab": {
          "base_uri": "https://localhost:8080/"
        },
        "id": "4OEYd-ACbX7F",
        "outputId": "3caa6bd6-8ef5-4c8f-ac6f-a74dda07e8fd"
      },
      "execution_count": null,
      "outputs": [
        {
          "output_type": "execute_result",
          "data": {
            "text/plain": [
              "{'Statele Unite': 1,\n",
              " 'China': 86,\n",
              " 'Rwanda': 250,\n",
              " 'Germany': 49,\n",
              " 'India': 91,\n",
              " 'Australia': 61}"
            ]
          },
          "metadata": {},
          "execution_count": 33
        }
      ]
    },
    {
      "cell_type": "markdown",
      "source": [
        "# Accesarea valorilor și cheilor dintr-un dicționar\n",
        "La fel ca și cum obținem valori într-o listă folosind indicii lor, în dicționar, putem folosi o cheie pentru a obține valoarea corespunzătoare."
      ],
      "metadata": {
        "id": "BYao8qErbtKE"
      }
    },
    {
      "cell_type": "code",
      "source": [
        "# Obținerea codului pentru India\n",
        "codul_țărilor[\"India\"]"
      ],
      "metadata": {
        "colab": {
          "base_uri": "https://localhost:8080/"
        },
        "id": "h7Flckz6b-r_",
        "outputId": "41e6e094-9e78-4c3d-fc20-b28bc9834a05"
      },
      "execution_count": null,
      "outputs": [
        {
          "output_type": "execute_result",
          "data": {
            "text/plain": [
              "91"
            ]
          },
          "metadata": {},
          "execution_count": 34
        }
      ]
    },
    {
      "cell_type": "markdown",
      "source": [
        "De asemenea, putem verifica dacă o cheie există într-un dicționar folosind un inoperator clasic."
      ],
      "metadata": {
        "id": "yfddUiI7cOj-"
      }
    },
    {
      "cell_type": "code",
      "source": [
        "\"India\" in codul_țărilor"
      ],
      "metadata": {
        "colab": {
          "base_uri": "https://localhost:8080/"
        },
        "id": "WckEbLh8cKnN",
        "outputId": "47cf5bf5-2829-4730-a4ea-89623221b98b"
      },
      "execution_count": null,
      "outputs": [
        {
          "output_type": "execute_result",
          "data": {
            "text/plain": [
              "True"
            ]
          },
          "metadata": {},
          "execution_count": 35
        }
      ]
    },
    {
      "cell_type": "code",
      "source": [
        "\"România\" in codul_țărilor"
      ],
      "metadata": {
        "colab": {
          "base_uri": "https://localhost:8080/"
        },
        "id": "SVgcNEVTcWND",
        "outputId": "ecc785e3-1d85-4286-91e2-4377b84943af"
      },
      "execution_count": null,
      "outputs": [
        {
          "output_type": "execute_result",
          "data": {
            "text/plain": [
              "False"
            ]
          },
          "metadata": {},
          "execution_count": 36
        }
      ]
    },
    {
      "cell_type": "code",
      "source": [
        "# Obținerea cheilor și a valorilor și elementelor dicționarului\n",
        "\n",
        "dict_keys = codul_țărilor.keys()\n",
        "dict_values = codul_țărilor.values()\n",
        "dict_items = codul_țărilor.items()\n",
        "\n",
        "print(f\"Keys: {dict_keys}\\n Values:{dict_values}\\n Items:{dict_items}\")\n"
      ],
      "metadata": {
        "colab": {
          "base_uri": "https://localhost:8080/"
        },
        "id": "JS4nYsRRcanU",
        "outputId": "68d8823c-bce8-44b7-ef35-358581ec1454"
      },
      "execution_count": null,
      "outputs": [
        {
          "output_type": "stream",
          "name": "stdout",
          "text": [
            "Keys: dict_keys(['Statele Unite', 'China', 'Rwanda', 'Germany', 'India', 'Australia'])\n",
            " Values:dict_values([1, 86, 250, 49, 91, 61])\n",
            " Items:dict_items([('Statele Unite', 1), ('China', 86), ('Rwanda', 250), ('Germany', 49), ('India', 91), ('Australia', 61)])\n"
          ]
        }
      ]
    },
    {
      "cell_type": "markdown",
      "source": [
        "În cele din urmă, putem folosi get()metoda pentru a returna valoarea unei chei specificate. Metoda get permite, de asemenea, să furnizeze o valoare care va fi returnată în cazul în care cheia nu există. Aceasta este o caracteristică cool!!"
      ],
      "metadata": {
        "id": "wzUn1qxwggnw"
      }
    },
    {
      "cell_type": "code",
      "source": [
        "# Obținerea valorii pentru Australia\n",
        "codul_țărilor.get('Australia')"
      ],
      "metadata": {
        "colab": {
          "base_uri": "https://localhost:8080/"
        },
        "id": "_UL3z97Dg3Fu",
        "outputId": "f92ec32c-b0b6-475c-8622-cca67351c0ba"
      },
      "execution_count": null,
      "outputs": [
        {
          "output_type": "execute_result",
          "data": {
            "text/plain": [
              "61"
            ]
          },
          "metadata": {},
          "execution_count": 39
        }
      ]
    },
    {
      "cell_type": "code",
      "source": [
        "# În cazul în care cheia este absentă"
      ],
      "metadata": {
        "id": "1htoHINehFyZ"
      },
      "execution_count": null,
      "outputs": []
    },
    {
      "cell_type": "code",
      "source": [
        "codul_țărilor.get('UK', 41)"
      ],
      "metadata": {
        "colab": {
          "base_uri": "https://localhost:8080/"
        },
        "id": "FvnISWtbg_mm",
        "outputId": "95cbb5a5-501b-4469-95f3-f4fa5532d828"
      },
      "execution_count": null,
      "outputs": [
        {
          "output_type": "execute_result",
          "data": {
            "text/plain": [
              "41"
            ]
          },
          "metadata": {},
          "execution_count": 41
        }
      ]
    },
    {
      "cell_type": "markdown",
      "source": [
        "# Rezolvarea problemelor de dicționar\n",
        "\n",
        "Atunci când rezolvi probleme din lumea reală sau, poate, faci interviuri, majoritatea problemelor implică numărarea anumitor elemente. Să luăm un exemplu simplu: dat un șir, scrieți un algoritm care poate număra apariția fiecărui caracter.\n",
        "\n",
        "Soluţie:\n",
        "\n",
        "Prima abordare ar fi crearea unei liste de 128 de elemente având în vedere că dimensiunea standard a caracterelor în ASCII este de 128, convertiți fiecare caracter într-un număr cu ord() metoda ( char()conversia din număr în șir), utilizați numărul ca index al șirului, și apoi creșteți-l pe măsură ce vedeți un personaj recurent. Codul ar dori asa...."
      ],
      "metadata": {
        "id": "sYdazrzahVWE"
      }
    },
    {
      "cell_type": "code",
      "source": [
        "string = 'aaaaajjj222@@@sss^^^888'\n",
        "ct = [0] * 128 # Crează o listă cu 128 de elemente, inițial fiecare caracter are ct=0\n",
        "for counter in string:\n",
        "    counter_numere = ord(counter)\n",
        "    ct[counter_numere] = ct[counter_numere] + 1\n",
        "ct"
      ],
      "metadata": {
        "id": "L3U9otNJhUop",
        "colab": {
          "base_uri": "https://localhost:8080/"
        },
        "outputId": "b1cef162-b701-40ab-d24b-4846727292c4"
      },
      "execution_count": null,
      "outputs": [
        {
          "output_type": "execute_result",
          "data": {
            "text/plain": [
              "[0,\n",
              " 0,\n",
              " 0,\n",
              " 0,\n",
              " 0,\n",
              " 0,\n",
              " 0,\n",
              " 0,\n",
              " 0,\n",
              " 0,\n",
              " 0,\n",
              " 0,\n",
              " 0,\n",
              " 0,\n",
              " 0,\n",
              " 0,\n",
              " 0,\n",
              " 0,\n",
              " 0,\n",
              " 0,\n",
              " 0,\n",
              " 0,\n",
              " 0,\n",
              " 0,\n",
              " 0,\n",
              " 0,\n",
              " 0,\n",
              " 0,\n",
              " 0,\n",
              " 0,\n",
              " 0,\n",
              " 0,\n",
              " 0,\n",
              " 0,\n",
              " 0,\n",
              " 0,\n",
              " 0,\n",
              " 0,\n",
              " 0,\n",
              " 0,\n",
              " 0,\n",
              " 0,\n",
              " 0,\n",
              " 0,\n",
              " 0,\n",
              " 0,\n",
              " 0,\n",
              " 0,\n",
              " 0,\n",
              " 0,\n",
              " 3,\n",
              " 0,\n",
              " 0,\n",
              " 0,\n",
              " 0,\n",
              " 0,\n",
              " 3,\n",
              " 0,\n",
              " 0,\n",
              " 0,\n",
              " 0,\n",
              " 0,\n",
              " 0,\n",
              " 0,\n",
              " 3,\n",
              " 0,\n",
              " 0,\n",
              " 0,\n",
              " 0,\n",
              " 0,\n",
              " 0,\n",
              " 0,\n",
              " 0,\n",
              " 0,\n",
              " 0,\n",
              " 0,\n",
              " 0,\n",
              " 0,\n",
              " 0,\n",
              " 0,\n",
              " 0,\n",
              " 0,\n",
              " 0,\n",
              " 0,\n",
              " 0,\n",
              " 0,\n",
              " 0,\n",
              " 0,\n",
              " 0,\n",
              " 0,\n",
              " 0,\n",
              " 0,\n",
              " 0,\n",
              " 0,\n",
              " 3,\n",
              " 0,\n",
              " 0,\n",
              " 5,\n",
              " 0,\n",
              " 0,\n",
              " 0,\n",
              " 0,\n",
              " 0,\n",
              " 0,\n",
              " 0,\n",
              " 0,\n",
              " 3,\n",
              " 0,\n",
              " 0,\n",
              " 0,\n",
              " 0,\n",
              " 0,\n",
              " 0,\n",
              " 0,\n",
              " 0,\n",
              " 3,\n",
              " 0,\n",
              " 0,\n",
              " 0,\n",
              " 0,\n",
              " 0,\n",
              " 0,\n",
              " 0,\n",
              " 0,\n",
              " 0,\n",
              " 0,\n",
              " 0,\n",
              " 0]"
            ]
          },
          "metadata": {},
          "execution_count": 1
        }
      ]
    },
    {
      "cell_type": "markdown",
      "source": [
        "Folosind dicționarul, nu ar trebui să ne facem griji cu privire la dimensiunea șirului sau numărul de caractere de păstrat în prealabil. Am crea doar un dicționar ale cărui chei sunt caractere și valorile sunt numărătoare de caractere corespunzătoare. Vedeți caracterul pentru prima dată, adăugați-l în dicționar cu valoarea 1, deoarece este primul număr, apoi creșteți-l dacă caracterul există în dicționar."
      ],
      "metadata": {
        "id": "dZ-i9IxyINFL"
      }
    },
    {
      "cell_type": "code",
      "source": [
        "string = \"jdjjdjdjdjjdjdjdj\"\n",
        "counts_dict = {}\n",
        "for c in string:\n",
        "  if c not in counts_dict:\n",
        "      counts_dict[c] =1\n",
        "  else:\n",
        "      counts_dict[c] = counts_dict[c] + 1\n",
        "print(counts_dict)"
      ],
      "metadata": {
        "id": "JqlUd95FiA3h",
        "colab": {
          "base_uri": "https://localhost:8080/"
        },
        "outputId": "ea395c85-766a-492d-c4ea-de358e1dd5b1"
      },
      "execution_count": null,
      "outputs": [
        {
          "output_type": "stream",
          "name": "stdout",
          "text": [
            "{'j': 10, 'd': 7}\n"
          ]
        }
      ]
    },
    {
      "cell_type": "code",
      "source": [
        "string2 = \"abcdaabbccdabbcdd\"\n",
        "counts_dict = {}\n",
        "for c in string:\n",
        "  if c not in counts_dict:\n",
        "      counts_dict[c] = 1\n",
        "  else:\n",
        "      counts_dict[c] = counts_dict[c] + 1\n",
        "print(counts_dict)"
      ],
      "metadata": {
        "colab": {
          "base_uri": "https://localhost:8080/"
        },
        "id": "M2oP8vGZJyXU",
        "outputId": "bb74b4f3-f184-40f0-e0d3-9954e858ccde"
      },
      "execution_count": null,
      "outputs": [
        {
          "output_type": "stream",
          "name": "stdout",
          "text": [
            "{'j': 10, 'd': 7}\n"
          ]
        }
      ]
    },
    {
      "cell_type": "markdown",
      "source": [
        "# Parcurgerea unui dicționar\n",
        "\n",
        "Am folosit anterior pentru buclă în dicționar pentru a itera prin valori. Să-l revizuim din nou."
      ],
      "metadata": {
        "id": "HDsnKcI9Ku5w"
      }
    },
    {
      "cell_type": "code",
      "source": [
        "codul_țărilor = {\n",
        "    \"Statele Unite\": 1,\n",
        "    \"China\": 86,\n",
        "    \"Rwanda\":250,\n",
        "    \"Germania\":49,\n",
        "    \"India\":91,\n",
        "    \"Australia\":61\n",
        "}"
      ],
      "metadata": {
        "id": "g7SjJVzEK_cH"
      },
      "execution_count": null,
      "outputs": []
    },
    {
      "cell_type": "code",
      "source": [
        "for țară in codul_țărilor:\n",
        "  print(țară)"
      ],
      "metadata": {
        "colab": {
          "base_uri": "https://localhost:8080/"
        },
        "id": "gCjuiqehLoYL",
        "outputId": "d986db60-db5b-42ba-f72f-895e773c6b66"
      },
      "execution_count": null,
      "outputs": [
        {
          "output_type": "stream",
          "name": "stdout",
          "text": [
            "Statele Unite\n",
            "China\n",
            "Rwanda\n",
            "Germania\n",
            "India\n",
            "Australia\n"
          ]
        }
      ]
    },
    {
      "cell_type": "markdown",
      "source": [
        "De asemenea, putem itera elementele (cheie, valori) din dicționar."
      ],
      "metadata": {
        "id": "CKjU_k2DMWVF"
      }
    },
    {
      "cell_type": "code",
      "source": [
        "for țară"
      ],
      "metadata": {
        "id": "1fr2SrrIMfp8"
      },
      "execution_count": null,
      "outputs": []
    }
  ]
}