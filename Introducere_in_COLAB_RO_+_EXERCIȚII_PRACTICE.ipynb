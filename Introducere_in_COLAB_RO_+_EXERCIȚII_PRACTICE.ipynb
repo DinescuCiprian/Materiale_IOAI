{
  "nbformat": 4,
  "nbformat_minor": 0,
  "metadata": {
    "colab": {
      "provenance": [],
      "collapsed_sections": [
        "6pJAkNYbhmr8"
      ]
    },
    "kernelspec": {
      "display_name": "Python 3",
      "name": "python3"
    },
    "language_info": {
      "name": "python"
    }
  },
  "cells": [
    {
      "cell_type": "markdown",
      "metadata": {
        "id": "VbyKtLC3V2MN"
      },
      "source": [
        " <img src = 'https://drive.google.com/uc?id=1cPtoRUIVZ2jWaiIl8z1fm4R4V3kwQfZh\n",
        "' width=\"170\" height=\"190\" align = \"left\">\n",
        "# <font color = \"darkgreen\" > <b>Obiective</b></font>\n",
        "---\n",
        "\n",
        "Prin parcurgerea acestui capitol veți învăța să:\n",
        " * folosiți mediul **Colab**\n",
        " * scrieți și rulați secvențe de cod în **Colab**\n",
        " * reprezentați grafic date și funcții\n"
      ]
    },
    {
      "cell_type": "markdown",
      "metadata": {
        "id": "JuXURngoKO-S"
      },
      "source": [
        "# Introducere in Colaboratory (***Colab***)\n",
        " <img src = 'https://drive.google.com/uc?id=1VnyVj_qckmxevuZMuUzsX25xIs3eO7kO\n",
        "' width=\"10%\" align = \"right\"> <br>\n",
        "\n",
        "  >[Jupyter](http://jupyter.org/) este un proiect care susține standardele deschise, într-un mod interactiv, pentru zeci de limbaje de programare.\n",
        "  Un *caiet Jupyter* este o aplicație web open-source ce permite crearea și partajarea de documente care conțin linii de cod, ecuații, reprezentări vizuale și text.\n",
        "# ***Colab*** - Colaboratory\n",
        "\n",
        "  >[Colaboratory](https://colab.sandbox.google.com/notebooks/welcome.ipynb) sau pe scurt ***Colab*** este un caiet [Jupyter](http://jupyter.org/) care nu necesită nicio configurare prealabilă, fiind suficient doar un cont `Google`.\n",
        "  \n",
        " Cu ajutorul Colab vom putea crea și partaja documente care conțin:\n",
        "\n",
        "- cod care rulează în timp real, <br>\n",
        "- reprezentări vizuale <br>\n",
        "- text\n",
        "\n",
        "  ***Colab*** poate fi, de asemenea, și o modalitatea la îndemână pentru scrierea rapidă de cod sursă sau realizarea prototipurilor.\n",
        "\n",
        "  Pentru toate exercițiile propuse se va folosi limbajul `Python`\n",
        "\n",
        "\n",
        "---\n",
        "\n",
        "\n",
        "  >Un document Colab folosește *celule*.\n",
        "  \n",
        ">Celulele pot fi de tip text sau de tip cod sursă. Prin trecerea mouse-ului pe deasupra spațiului dintre două celule, veți vedea opțiunile: `+Code` și `+Text`  \n",
        "\n",
        "❗️Țineți cont de faptul că textul este diferit de comentariile pe care le scrieți în codul sursă ❗️\n"
      ]
    },
    {
      "cell_type": "markdown",
      "metadata": {
        "id": "Hw1J3VRRPOjB"
      },
      "source": [
        "---\n",
        "Celula de tip text are două zone:\n",
        "  - zona editabilă, în partea stângă\n",
        "  - zona de previzualizare (needitabilă), în partea dreaptă"
      ]
    },
    {
      "cell_type": "markdown",
      "metadata": {
        "id": "yXGagxjRTL40"
      },
      "source": [
        "\n",
        "\n",
        "---\n",
        "\n",
        "\n",
        "Pentru a rula codul dintr-o celulă `code`, deplasați cursorul mouse-ului în celulă și:\n",
        "* apăsați butonul \"play\" din partea stăngă a celulei\n",
        "\n",
        "sau\n",
        "* folosiți combinația de taste **`Shift + Enter`**."
      ]
    },
    {
      "cell_type": "code",
      "metadata": {
        "colab": {
          "base_uri": "https://localhost:8080/"
        },
        "id": "Tuggil_pT4Kl",
        "outputId": "86e56d52-f70b-4b78-d1af-397c9f6e97d1"
      },
      "source": [
        "# Prima mea celula 'Code'\n",
        "print('Hello, PyML!')"
      ],
      "execution_count": null,
      "outputs": [
        {
          "output_type": "stream",
          "name": "stdout",
          "text": [
            "Hello, PyML!\n"
          ]
        }
      ]
    },
    {
      "cell_type": "markdown",
      "metadata": {
        "id": "nF2-Qbj8UCEV"
      },
      "source": [
        "Mesajul `Hello, PyML!` apare după rularea codului de mai sus."
      ]
    },
    {
      "cell_type": "markdown",
      "metadata": {
        "id": "G1QLoUw2chzu"
      },
      "source": [
        " <img src = 'https://drive.google.com/uc?id=1QBt0gOS0h0itKWF9Ok08Q99sfNMwAIOJ\n",
        "' width=\"10%\" align = \"center\">\n",
        "<br>\n",
        "\n",
        "*   Crează un caiet Jupyter și adaugă o celulă text și o celulă cod.\n",
        "*  În celula cod adugă codul de mai sus și rulează-l.\n",
        "\n",
        "\n"
      ]
    },
    {
      "cell_type": "markdown",
      "metadata": {
        "id": "GWRej9wbvQlO"
      },
      "source": [
        "\n",
        "\n",
        "> ❗️❗️ **Important** ❗️❗️\n",
        "\n",
        ">Codurile și textele disponibile în aceste lecții pot fi modificate, însă nu puteți salva modificările deoarece s-ar suprascrie materialul de curs.\n",
        "Pentru a putea salva modificarile efectuate, va trebui să vă creați o copie în Google Drive-ul personal: `File -> Save a copy in Drive`"
      ]
    },
    {
      "cell_type": "markdown",
      "metadata": {
        "id": "6OgK7-WGUS8t"
      },
      "source": [
        "\n",
        "\n",
        "---\n",
        "\n",
        "\n",
        "Codul scris este executat într-o mașină virtuală dedicată contului din care lucrați și rezultatul este trimis înapoi browserului. Acest mecanism are câteva consecințe, atât pozitive, cât și negative."
      ]
    },
    {
      "cell_type": "markdown",
      "metadata": {
        "id": "kbLB7u9LXvCt"
      },
      "source": [
        "## Aspecte pozitive: utilizarea GPU sau TPU\n",
        "\n",
        "  Dacă nu aveți un accelerator grafic [GPU](https://en.wikipedia.org/wiki/Graphics_processing_unit) sau un chip [TPU](https://en.wikipedia.org/wiki/Tensor_Processing_Unit) instalate pe calculatorul personal, vă puteți conecta la o mașină virtuală care are astfel de dispozitive. Acest lucru vă va permite să executați mai multe operații în paralel. Așa cum veți observa pe parcursul cursului, multe calcule în Machine Learning pot fi executate în același timp, prin urmare folosirea acceleratoarelor va spori viteza de procesare.\n",
        "\n",
        "  De exemplu, să presupunem că vrem să adunăm două matrice, element cu element:\n",
        "  ![CodeCogsEqn (9).png](data:image/png;base64,iVBORw0KGgoAAAANSUhEUgAAAXMAAAAsBAMAAABlO0U3AAAAMFBMVEX///8AAAAAAAAAAAAAAAAAAAAAAAAAAAAAAAAAAAAAAAAAAAAAAAAAAAAAAAAAAAAv3aB7AAAAD3RSTlMAdlSJRJkiZhAyu92rze/mcn/EAAAACXBIWXMAAA7EAAAOxAGVKw4bAAAEyUlEQVRoBe2ZTWhcVRTHz8TpfKRpOiguFMFQiKJQGFqsG9HBCm6zUhddRCxuRBKJVrCboSuhC4cuXAiSdCWu7KKLLgOuhBGCuNSt0l3QTVw9//fj3I8zZ+68F5Q2kMcl8+ac8z/nlzt3JnNO6PnqLypfy1UlAhZqfqgOhYQWaqSg+NwyPVUMcc7zIqaGZga9hkZUKT8FU52Up+jlbWzoPd11ZcPqnPWeotNNSuSj3fXuSAedtSqRJx/9zXfefk/8qu3165+N2aZ8wvTXaWmD/e4xM2kHJssJjd/LOxu0nmeiGpFu1/tr32zf771MWOG60//u7OjWHr34CkwK+q3VyfIAfiy+2GQlGjrnZI1D7609pLul6sifRy7tYNMceot2x9tLFwkrXIP+UZcuHHQGK0MVfbRLq5MLBwgJEm9yEg3d5wwaB9TuH9LDUvWAzpHv04+MTvQc3B/bFUBa+0Sdg/5Bd09Fp9doF36zwuVMTqKhk8vpNdemP/82BQM9sQ/4QnWSkd/SFxH9F2QQ4nNrBh2Jhzr6fXpWonuTlajoPif/um7X6eyotVeqDjYRSZcZvd05ooEQj7bGLYt+e6yi947orkBnExmJhs45BfpX4+Vi9YjOkb0HjH6z+6C7maN3790c37DoP0GpvE3psPOPQGcTGYmCHnIK9PO0NSlVj+gcuTJh9A9euPqSODCdS9cvTQxaa7Kpo+/sHEp0b7ISBT3kFOjdV98oVo/oHPlMh9Hhw/WRXe7e/+zco7doENHH3m6/bbY2CH6seDmTlSjoLi7R+BNM9HSxOnR5ZHvUytDbr9/Aihjm7uqfH1bVMKJ/6t1APzda3YR/E8sb2eQkc9ETTW9spb/SH1SqjqA8cqv6O0NnAO2Rz3qCvkLvysjMNBddqoj2z2zPGlVLGgkm++KrgdGooHc/WYt+d5eZGqB//qTMNO95Gnl89HnZ2e7Qr01xmT879baIxXUe/2/0hKHOq5uEL7xtgn5mOv19Oh2anDUwGhyYhZRqQBN0JEjepmq6xHji0U/PevJqhtvTAxO2It7UOetKnx8TZHdKZMNd/9Ln+48+YcI3kwxTe6JENkTnrI8R+gmfCKDNnpkIoLcvTgTg5O4eL4idCLBEO+t2IpBo3DGwE4FSdaTOI+VEAG320kU+EUSme0dvf6U0EfgaTjERgMlJNHSfM2gckO3zS9UDOkfKiYBps9FZhwvdO3r770sTAdP7c8djdJgIBImGbiYCUZP1+aXq+UQAkTMTAbTZKbrp3k1vX5oIwJmim4kAS1R0n5M1/nPDTgQK1cEhIuVEAG12gm67d9PbY2lttW3/4WQM5GdTeSKQaDyQ7fML1SM6R8qJANrsiO66d9PblyYCcCbodiLAEmXXQ07WeHTb5xeqR3SOlBMBtNkR3XXv6O2LEwE4GQP5yUwEWKKgh5ys8ei2zy9Uj+gcKSYCps3GUCC70NtnEwF22j9JaP/hlBMBlijoTp1oPLqZCJSqQ5dHyokA2mw5EehU1ZVsIpCgm4kA/EMxEQiSeeipJunzS9VRNY88zkQgQc/af2fPTPPQOUXymPb5iVm5TSOP/x0ma/9dlczUAD3t8xXexJRGHh89SajeNkBX9QuNQF/8D/DH9R/t/wL8/BSaF7gMbQAAAABJRU5ErkJggg==)\n",
        "\n",
        "  Execuția secvențială va calcula pe rând x_{11}+y_{11}, x_{12}+y_{12}, ș.a.m.d.\n",
        "  Prin executarea în paralel a tuturor adunărilor se va reduce considerabil timpul de execuție (de aproximativ 4 ori mai rapid), neavând astfel nicun motiv să efectuăm calcule secvențiale."
      ]
    },
    {
      "cell_type": "markdown",
      "metadata": {
        "id": "ODJKGd4mwyfJ"
      },
      "source": [
        "  Pentru selectarea hardware-ului pe care vreți să-l folosiți, alegeți:\n",
        "\n",
        "`Edit > Notebook settings`\n",
        "\n",
        "sau\n",
        "\n",
        "`Runtime > Change runtime type`\n",
        "\n",
        "și selectați un accelerator. În exercițiile propuse, vom folosi GPU."
      ]
    },
    {
      "cell_type": "markdown",
      "metadata": {
        "id": "CM-uhwtLX01b"
      },
      "source": [
        "## Aspecte negative: pierderea conexiunii\n",
        "\n",
        "Conexiunea cu mașina virtuală se poate pierde. Cele mai comune două cauze pot fi:\n",
        " - mașinile virtuale se dezactivează atunci când nu sunt folosite pentru un timp, având o perioadă de viață maximă stabilită de sistem.\n",
        " - calculele de lungă durată din spate programului, în special cele efectuate în GPU, se pot opri\n",
        "\n",
        "Dacă se pierde conexiunea, statusul notebook-ului va deveni cel mai probabil inactiv și va fi necesară execuția tuturor celulelor de cod anterioare celei curente, astfel:\n",
        "\n",
        "1.   Selectați (plasați cursorul mouse-ului în) celula curentă.\n",
        "2.   Accesați meniul `Runtime > Run before.`\n"
      ]
    },
    {
      "cell_type": "markdown",
      "metadata": {
        "id": "sy_cXyZFtcWs"
      },
      "source": [
        "# Afișarea datelor în Colab (Pretty Printing)\n",
        "  1) Dacă ultima operație a unei celule returnează o valoare, aceasta se va afișa prin execuția codului."
      ]
    },
    {
      "cell_type": "code",
      "metadata": {
        "colab": {
          "base_uri": "https://localhost:8080/"
        },
        "id": "WrRfKMgSwY-v",
        "outputId": "4d8a3c7f-b82c-4332-bb96-5e303ba0064a"
      },
      "source": [
        "6 * 7"
      ],
      "execution_count": null,
      "outputs": [
        {
          "data": {
            "text/plain": [
              "42"
            ]
          },
          "execution_count": 19,
          "metadata": {
            "tags": []
          },
          "output_type": "execute_result"
        }
      ]
    },
    {
      "cell_type": "markdown",
      "metadata": {
        "id": "4dCzEanwwj41"
      },
      "source": [
        "  Celulă de mai jos nu va afișa nimic deoarece atribuirea nu returnează niciun rezultat și nu există nicio valoare de ieșire."
      ]
    },
    {
      "cell_type": "code",
      "metadata": {
        "id": "JhvZIvkXwhQG"
      },
      "source": [
        "my_dict = {'one': 1, 'some set': {4, 2, 2}, 'a regular list': range(5)}"
      ],
      "execution_count": null,
      "outputs": []
    },
    {
      "cell_type": "markdown",
      "metadata": {
        "id": "-pN-7E9BxizF"
      },
      "source": [
        "2) Se poate afișa explicit orice înainte de ultima operație sau suprima afișarea adăugând caracterul `;` , așa cum este în cazul ultimei instrucțiuni din exemplul de mai jos."
      ]
    },
    {
      "cell_type": "code",
      "metadata": {
        "colab": {
          "base_uri": "https://localhost:8080/"
        },
        "id": "dxMOReTtxm6H",
        "outputId": "a0469e25-0980-4b4f-a284-fc235768a10a"
      },
      "source": [
        "print(my_dict)\n",
        "my_dict['one'] * 10 + 1;"
      ],
      "execution_count": null,
      "outputs": [
        {
          "output_type": "stream",
          "name": "stdout",
          "text": [
            "{'one': 1, 'some set': {2, 4}, 'a regular list': range(0, 5), \"I've been changed!\": True}\n"
          ]
        }
      ]
    },
    {
      "cell_type": "markdown",
      "metadata": {
        "id": "Jptauq4Yy0Bl"
      },
      "source": [
        "# Domeniul de vizibilitate al variabilelor și modul de execuție"
      ]
    },
    {
      "cell_type": "markdown",
      "metadata": {
        "id": "6pO7_2YJznNF"
      },
      "source": [
        "Observați că în celula de cod anterioară am accesat variabila`my_dict`, chiar dacă aceasta a fost definită într-o celulă anterioară."
      ]
    },
    {
      "cell_type": "markdown",
      "metadata": {
        "id": "oCPEQ2blz8MU"
      },
      "source": [
        "1) În ***Colabs***, variabilele definite la începutul unei celule au vizibilitate globală.\n",
        "\n",
        "Modificăm ` my_dict`:"
      ]
    },
    {
      "cell_type": "code",
      "metadata": {
        "id": "IP-0NoGX0Owb"
      },
      "source": [
        "my_dict['I\\'ve been changed!'] = True"
      ],
      "execution_count": null,
      "outputs": []
    },
    {
      "cell_type": "markdown",
      "metadata": {
        "id": "pqprAwyb0p6s"
      },
      "source": [
        "2) Celulele cod pot fi rulate în orice ordine, variabilele globale păstrându-și proprietatea de vizibilitate în tot documentul.\n",
        "\n",
        "Executați din nou celula în care se afișează `my_dict`. Veți vedea cum se afișează noul item `\"I've been changed!\": True.`"
      ]
    },
    {
      "cell_type": "markdown",
      "metadata": {
        "id": "20Fcw2Hy1vP4"
      },
      "source": [
        "3) Refolosirea neintenționată a unei variabile globale poate conduce la erori. Dacă orice altă încercare de a depana codul eșuează, puteți executa următoarul linie pentru a reseta toate variabilele globale. ( pentru a obține rezultatul dorit, eliminați comentariul din fața liniei de cod)"
      ]
    },
    {
      "cell_type": "code",
      "metadata": {
        "id": "tUjVAvL813ib"
      },
      "source": [
        " # %reset -f"
      ],
      "execution_count": null,
      "outputs": []
    },
    {
      "cell_type": "markdown",
      "metadata": {
        "id": "8aMrPH2O16kS"
      },
      "source": [
        "# Completarea automată/ Accesul la documentație\n",
        "Dacă apasați `Ctrl+Space` după prefixul unei comenzi, vi se va afișa o listă a variabilelor/ comenzilor disponibile.\n",
        "\n",
        "Dacă apasați `Space` după prefixul unei comenzi, vi se va afișa o listă doar a comenzilor disponibile.\n",
        "\n",
        "Dacă apasați `Space` în timp ce scrieți lista de parametrii a unei funcții, vi se vor afișa detalii despre funcție.\n",
        "\n",
        "Notă: acest lucru funcționează doar pentru variabile definite anterior, nu în timpul scrierii codului."
      ]
    },
    {
      "cell_type": "code",
      "metadata": {
        "id": "PcC9Xjvu2QYc"
      },
      "source": [
        "direction_a, direction_b = ['UP', 'DOWN']"
      ],
      "execution_count": null,
      "outputs": []
    },
    {
      "cell_type": "markdown",
      "metadata": {
        "id": "A9ktZerT2S4b"
      },
      "source": [
        " <img src = 'https://drive.google.com/uc?id=1QBt0gOS0h0itKWF9Ok08Q99sfNMwAIOJ\n",
        "' width=\"10%\" align = \"center\">\n",
        "<br>\n",
        "\n",
        "Decomentează linia de cod de mai jos și apasă `<Ctrl+Space>` după `dir`."
      ]
    },
    {
      "cell_type": "code",
      "metadata": {
        "id": "naPt29M22U9m"
      },
      "source": [
        "direction_a, direction_b = ['UP', 'DOWN']"
      ],
      "execution_count": null,
      "outputs": []
    },
    {
      "cell_type": "markdown",
      "metadata": {
        "id": "mYHKxDBY2XRb"
      },
      "source": [
        "\n",
        "\n",
        "---\n",
        "\n",
        "\n",
        "Decomentează linia de cod de mai jos și apasă <Ctrl+Space> după `print`(."
      ]
    },
    {
      "cell_type": "markdown",
      "metadata": {
        "id": "gHIUlDaI2b57"
      },
      "source": [
        "Semnul întrebării (`?`) este un caracter special care vă oferă informații despre variabile și funcții.\n",
        "\n",
        "<img src = 'https://drive.google.com/uc?id=1QBt0gOS0h0itKWF9Ok08Q99sfNMwAIOJ\n",
        "' width=\"10%\" align = \"center\">\n",
        "<br>\n",
        "\n",
        "Execută celula cod de mai jos.\n",
        "\n",
        "\n",
        "---\n",
        "\n"
      ]
    },
    {
      "cell_type": "code",
      "metadata": {
        "id": "rcsuDL3F2dqL"
      },
      "source": [
        "range?"
      ],
      "execution_count": null,
      "outputs": []
    },
    {
      "cell_type": "markdown",
      "metadata": {
        "id": "YWxt4P4lTCll"
      },
      "source": [
        "# Comenzi rapide\n",
        "Cele mai utilizate comenzi rapide în `colab` sunt:\n",
        "\n",
        "- `Ctrl + /` comentează/ decomentează celule cod. Poate fi aplicat pentru mai multe linii (în prealabil se vor selecta toate liniile de cod ce urmează a fi comentate/ decomentate)\n",
        "- `Ctrl + m + b ` crează o celulă cod nouă sub cea curentă și poziționează cursorul în noua celulă.\n",
        "- `Ctrl + m + -` împarte celula curentă în 2 celule\n",
        "- `Ctrl + M + d` șterge celula curentă.\n"
      ]
    },
    {
      "cell_type": "code",
      "metadata": {
        "colab": {
          "base_uri": "https://localhost:8080/"
        },
        "id": "yd5l0j2PU-Vr",
        "outputId": "e06bb78c-7ad8-4dbb-bd7c-d6a7b6bedafe"
      },
      "source": [
        "print('comment')\n",
        "print('me')\n",
        "print('out')\n",
        "print('in one go')"
      ],
      "execution_count": null,
      "outputs": [
        {
          "output_type": "stream",
          "name": "stdout",
          "text": [
            "comment\n",
            "me\n",
            "out\n",
            "in one go\n"
          ]
        }
      ]
    },
    {
      "cell_type": "markdown",
      "metadata": {
        "id": "Y3v2kQp0Tvya"
      },
      "source": [
        "# Configurare și importuri\n",
        "Bibliotecile (pachetele) Python trebuie importate în `colab` în același mod în care se importă într-un script normal. De exemplu, pentru a importa `numpy`, veți folosi:"
      ]
    },
    {
      "cell_type": "code",
      "metadata": {
        "id": "vCq1ZgozUiqC"
      },
      "source": [
        "import numpy as np"
      ],
      "execution_count": null,
      "outputs": []
    },
    {
      "cell_type": "markdown",
      "metadata": {
        "id": "XmiLam-3UoDR"
      },
      "source": [
        "Pachetele de care aveți nevoie se pot importa sau instala. S-ar putea ca unele dintre ele să nu fie disponibile direct (cum ar fi `ipyplot`, o librărie pentru reprezentări grafice).\n",
        "\n",
        "În `colab` se poate instala orice pachet python folosind comanda`pip`, pe durata conexiunii."
      ]
    },
    {
      "cell_type": "code",
      "metadata": {
        "id": "U3jNs6RxVxwa",
        "colab": {
          "base_uri": "https://localhost:8080/"
        },
        "outputId": "7895e137-ff2f-4a1a-84e7-c7a09d24f17d"
      },
      "source": [
        "# uncomment the following line to install ipyplot\n",
        "!pip install -q ipyplot"
      ],
      "execution_count": null,
      "outputs": [
        {
          "output_type": "stream",
          "name": "stdout",
          "text": [
            "\u001b[2K     \u001b[90m━━━━━━━━━━━━━━━━━━━━━━━━━━━━━━━━━━━━━━━━\u001b[0m \u001b[32m1.6/1.6 MB\u001b[0m \u001b[31m8.6 MB/s\u001b[0m eta \u001b[36m0:00:00\u001b[0m\n",
            "\u001b[?25h"
          ]
        }
      ]
    },
    {
      "cell_type": "markdown",
      "metadata": {
        "id": "PRdvFZsV0ORP"
      },
      "source": [
        "Importul se poate face cu sau fără un alias pentru bibilotecă.\n",
        "> Ce este un `alias`❓\n",
        "\n",
        "> Un alias este un al doilea nume atriubuit unei variabile/ biblioteci. În programare se folosește pentru a înlocui denumiri mari cu denumiri de lungime mai mică/ prescurtări, astfel încât să devină mai ușor de codat."
      ]
    },
    {
      "cell_type": "markdown",
      "metadata": {
        "id": "1bonX2-OMPi8"
      },
      "source": [
        "În secvența de cod de mai jos, vom crea un tablou unidimensional, îl vom inițializa cu valorile 1, 2, 3, 4, 5 și vom afișa prima valoare din tablou. (mai multe despre tablouri veți afla în *Lecția 2 - Introducere în numpy*)\n",
        "\n",
        "Importul se va face folosind `alias`:"
      ]
    },
    {
      "cell_type": "code",
      "metadata": {
        "colab": {
          "base_uri": "https://localhost:8080/"
        },
        "id": "R3Lh7pN4I73W",
        "outputId": "0e1c1a16-a766-4e89-b11b-b8fafe7158d6"
      },
      "source": [
        "#import with alias\n",
        "import numpy as np\n",
        "a = np.array([1, 2, 3, 4, 5])\n",
        "print(a[0])"
      ],
      "execution_count": null,
      "outputs": [
        {
          "name": "stdout",
          "output_type": "stream",
          "text": [
            "1\n"
          ]
        }
      ]
    },
    {
      "cell_type": "code",
      "source": [
        "# import with alias\n",
        "import numpy as np\n",
        "a = np.array([1,2,3,4,5])\n",
        "print(a[0])"
      ],
      "metadata": {
        "colab": {
          "base_uri": "https://localhost:8080/"
        },
        "id": "wCHtMUoxPA5u",
        "outputId": "1215851b-e788-416c-ab22-a68aac40ec31"
      },
      "execution_count": null,
      "outputs": [
        {
          "output_type": "stream",
          "name": "stdout",
          "text": [
            "1\n"
          ]
        }
      ]
    },
    {
      "cell_type": "markdown",
      "metadata": {
        "id": "gcHbV1eIV2GZ"
      },
      "source": [
        "Astfel, `numpy` se poate importa ca `np`.\n",
        "\n"
      ]
    },
    {
      "cell_type": "markdown",
      "metadata": {
        "id": "o6PcxTwbMM6c"
      },
      "source": [
        "Vom rescrie codul de mai sus, dar fără alias:"
      ]
    },
    {
      "cell_type": "code",
      "metadata": {
        "colab": {
          "base_uri": "https://localhost:8080/"
        },
        "id": "LgzI1nLBLidt",
        "outputId": "06ddd0e8-5534-4e27-af1d-08490c78b908"
      },
      "source": [
        "# uncomment the following lines to install numpy -  import without alias\n",
        "import numpy\n",
        "a = numpy.array([1, 2, 3, 4, 5])\n",
        "print(a[0])"
      ],
      "execution_count": null,
      "outputs": [
        {
          "name": "stdout",
          "output_type": "stream",
          "text": [
            "1\n"
          ]
        }
      ]
    },
    {
      "cell_type": "code",
      "source": [
        "import numpy\n",
        "a =numpy.array([1,2,3,4,5])\n",
        "print(a[0])"
      ],
      "metadata": {
        "colab": {
          "base_uri": "https://localhost:8080/"
        },
        "id": "Ri04LQb2PTfk",
        "outputId": "d408c452-5fe4-45f2-ee39-dc96d04fd130"
      },
      "execution_count": null,
      "outputs": [
        {
          "output_type": "stream",
          "name": "stdout",
          "text": [
            "1\n"
          ]
        }
      ]
    },
    {
      "cell_type": "markdown",
      "metadata": {
        "id": "aHkCY-VnWDKq"
      },
      "source": [
        "# Depanarea codului\n",
        "\n",
        "Codul poate fi depanat cu `pdb`, adăugând linia de cod `import pdb; pdb.set_trace()` pe linia unde dorim întreruperea execuției programului, pentru a verifica valorile unor variable."
      ]
    },
    {
      "cell_type": "code",
      "source": [
        "print('Lasă-mă să încep.')\n",
        "message = ' Noi suntem aproape gata.'\n",
        "import pdb; pdb.set_trace()\n",
        "print('Poți vedea variabilele globale, pas cu pas prin cod, etc.')"
      ],
      "metadata": {
        "id": "MDEUsQEePiQC"
      },
      "execution_count": null,
      "outputs": []
    },
    {
      "cell_type": "code",
      "metadata": {
        "colab": {
          "base_uri": "https://localhost:8080/"
        },
        "id": "q6asfoprXhah",
        "outputId": "ba8b9829-ac2c-4ddf-f33a-92bd0ff0bf47"
      },
      "source": [
        "print('Let me get started.')\n",
        "message = 'We are almost done.'\n",
        "import pdb; pdb.set_trace()\n",
        "print('You can see the global variables, step through code, etc.')"
      ],
      "execution_count": null,
      "outputs": [
        {
          "output_type": "stream",
          "name": "stderr",
          "text": [
            "\n",
            "PYDEV DEBUGGER WARNING:\n",
            "sys.settrace() should not be used when the debugger is being used.\n",
            "This may cause the debugger to stop working correctly.\n",
            "If this is needed, please check: \n",
            "http://pydev.blogspot.com/2007/06/why-cant-pydev-debugger-work-with.html\n",
            "to see how to restore the debug tracing back correctly.\n",
            "Call Location:\n",
            "  File \"/usr/lib/python3.10/bdb.py\", line 336, in set_trace\n",
            "    sys.settrace(self.trace_dispatch)\n",
            "\n"
          ]
        },
        {
          "output_type": "stream",
          "name": "stdout",
          "text": [
            "Let me get started.\n",
            "--Return--\n",
            "None\n",
            "> \u001b[0;32m<ipython-input-15-69cf57701807>\u001b[0m(3)\u001b[0;36m<cell line: 3>\u001b[0;34m()\u001b[0m\n",
            "\u001b[0;32m      1 \u001b[0;31m\u001b[0mprint\u001b[0m\u001b[0;34m(\u001b[0m\u001b[0;34m'Let me get started.'\u001b[0m\u001b[0;34m)\u001b[0m\u001b[0;34m\u001b[0m\u001b[0;34m\u001b[0m\u001b[0m\n",
            "\u001b[0m\u001b[0;32m      2 \u001b[0;31m\u001b[0mmessage\u001b[0m \u001b[0;34m=\u001b[0m \u001b[0;34m'We are almost done.'\u001b[0m\u001b[0;34m\u001b[0m\u001b[0;34m\u001b[0m\u001b[0m\n",
            "\u001b[0m\u001b[0;32m----> 3 \u001b[0;31m\u001b[0;32mimport\u001b[0m \u001b[0mpdb\u001b[0m\u001b[0;34m;\u001b[0m \u001b[0mpdb\u001b[0m\u001b[0;34m.\u001b[0m\u001b[0mset_trace\u001b[0m\u001b[0;34m(\u001b[0m\u001b[0;34m)\u001b[0m\u001b[0;34m\u001b[0m\u001b[0;34m\u001b[0m\u001b[0m\n",
            "\u001b[0m\u001b[0;32m      4 \u001b[0;31m\u001b[0mprint\u001b[0m\u001b[0;34m(\u001b[0m\u001b[0;34m'You can see the global variables, step through code, etc.'\u001b[0m\u001b[0;34m)\u001b[0m\u001b[0;34m\u001b[0m\u001b[0;34m\u001b[0m\u001b[0m\n",
            "\u001b[0m\n",
            "ipdb> 6\n",
            "6\n"
          ]
        },
        {
          "output_type": "stream",
          "name": "stderr",
          "text": [
            "\n",
            "PYDEV DEBUGGER WARNING:\n",
            "sys.settrace() should not be used when the debugger is being used.\n",
            "This may cause the debugger to stop working correctly.\n",
            "If this is needed, please check: \n",
            "http://pydev.blogspot.com/2007/06/why-cant-pydev-debugger-work-with.html\n",
            "to see how to restore the debug tracing back correctly.\n",
            "Call Location:\n",
            "  File \"/usr/lib/python3.10/bdb.py\", line 361, in set_quit\n",
            "    sys.settrace(None)\n",
            "\n",
            "\n",
            "PYDEV DEBUGGER WARNING:\n",
            "sys.settrace() should not be used when the debugger is being used.\n",
            "This may cause the debugger to stop working correctly.\n",
            "If this is needed, please check: \n",
            "http://pydev.blogspot.com/2007/06/why-cant-pydev-debugger-work-with.html\n",
            "to see how to restore the debug tracing back correctly.\n",
            "Call Location:\n",
            "  File \"/usr/local/lib/python3.10/dist-packages/IPython/core/debugger.py\", line 1075, in cmdloop\n",
            "    sys.settrace(None)\n",
            "\n"
          ]
        },
        {
          "output_type": "stream",
          "name": "stdout",
          "text": [
            "--KeyboardInterrupt--\n",
            "\n",
            "KeyboardInterrupt: Interrupted by user\n",
            "You can see the global variables, step through code, etc.\n"
          ]
        }
      ]
    },
    {
      "cell_type": "markdown",
      "metadata": {
        "id": "XDyM3cgyX6ZZ"
      },
      "source": [
        "# Formulare\n",
        "Datele de intrare pot fi preluate cu ușurință de către utilizator prin intermediul formularelor.\n"
      ]
    },
    {
      "cell_type": "code",
      "source": [
        "#@ Crearea unui formular cu parametrii\n",
        "\n",
        "a = 5#@param {type: 'integer'}\n",
        "b = 3 #@param\n",
        "print('a+b =', str(a+b))"
      ],
      "metadata": {
        "colab": {
          "base_uri": "https://localhost:8080/"
        },
        "id": "VuSiPDRWQMlJ",
        "outputId": "9bcbabb8-bacd-4333-b415-f60fc2afe786"
      },
      "execution_count": null,
      "outputs": [
        {
          "output_type": "stream",
          "name": "stdout",
          "text": [
            "a+b = 8\n"
          ]
        }
      ]
    },
    {
      "cell_type": "code",
      "metadata": {
        "id": "0WPTpgjzYQFI",
        "colab": {
          "base_uri": "https://localhost:8080/"
        },
        "cellView": "form",
        "outputId": "7d9a81e4-d6f1-4e52-c774-2917b7bca91e"
      },
      "source": [
        "#@ Crearea unui formular cu parametrii\n",
        "\n",
        "a = 7#@param {type: 'integer'}\n",
        "b = 3  #@param\n",
        "\n",
        "print('a+b =', str(a+b))"
      ],
      "execution_count": null,
      "outputs": [
        {
          "output_type": "stream",
          "name": "stdout",
          "text": [
            "a+b = 10\n"
          ]
        }
      ]
    },
    {
      "cell_type": "markdown",
      "metadata": {
        "id": "uIkLf6ixYaHg"
      },
      "source": [
        " <img src = 'https://drive.google.com/uc?id=1QBt0gOS0h0itKWF9Ok08Q99sfNMwAIOJ\n",
        "' width=\"10%\" align = \"center\">\n",
        "<br>\n",
        "\n",
        "* Modifica parametrii din partea dreaptă și execută codul cu noile valori.\n",
        "* Inițializează valoarea lui `a `cu `5` și execută din nou.\n",
        "\n",
        "\n",
        "---\n",
        "\n",
        "\n",
        "Există mai multe tipuri de parametrii, puteți studia\n",
        "mai mult pe site-ul oficial `colab`\n",
        "[Colab Intro](https://colab.research.google.com/notebooks/intro.ipynb#scrollTo=GJBs_flRovLc)\n",
        "\n",
        "\n",
        "---\n",
        "\n"
      ]
    },
    {
      "cell_type": "markdown",
      "metadata": {
        "id": "LBwrvr27aCiX"
      },
      "source": [
        "În celulele cu formular puteți să faceți vizibil sau nu\n",
        "codul, formularul sau ambele.\n",
        "\n",
        "Încercați să schimbați între ele cele trei opțiuni, astfel:\n",
        "\n",
        "1. Faceți click oriunde în celula cu formular pentru a-l evidenția.\n",
        "2. Faceți click în colțul dreapta-sus pe cele trei puncte verticale..\n",
        "3. Mergeți la \"`Form >`\" și selectați acțiunea dorită.\n",
        "\n",
        " <img src = 'https://drive.google.com/uc?id=1U68VvIpbmfePu9Lr7LVxInQo8X8uCTHu\n",
        "' width=\"70%\" align = \"left\">"
      ]
    },
    {
      "cell_type": "markdown",
      "metadata": {
        "id": "6pJAkNYbhmr8"
      },
      "source": [
        "### Alte acțiuni cu formulare\n",
        "\n",
        "* Puteți naviga prin capitolele documentului colab cu ajutorul săgeților din colțul dreapta-sus.\n",
        "* [Colecția oficială colab](https://colab.sandbox.google.com/notebooks/welcome.ipynb) conține mai multe informații și exemple."
      ]
    },
    {
      "cell_type": "markdown",
      "metadata": {
        "id": "rkEuYGgKklO7"
      },
      "source": [
        "## Lucrul cu fișiere în mașina virtuală"
      ]
    },
    {
      "cell_type": "markdown",
      "metadata": {
        "id": "i2QU-1ZQko2a"
      },
      "source": [
        "Sunt situații când datele trebuie citite sau scrise în fișiere. Deoarece codul este rulat pe o mașină virtuală, veți vedea cum se încarcă temporar fișiere în vederea citirii sau cum se scriu datele în fișiere pentru a fi descărcate.  \n",
        "\n",
        "Pentru exemplificare, vom folosi un fișier care conține cărți despre IA recomandate de Elon Musk și Bill Gates (sursa [aici](https://towardsdatascience.com/the-top-10-books-on-ai-recommended-by-elon-musk-and-bill-gates-b57fdc9cac0))."
      ]
    },
    {
      "cell_type": "markdown",
      "metadata": {
        "id": "HGCUteKbmAFq"
      },
      "source": [
        "### Încărcarea fișierelor și citirea conținutului"
      ]
    },
    {
      "cell_type": "markdown",
      "metadata": {
        "id": "7KSesFLrmDI2"
      },
      "source": [
        "Descarcati folderul [resources](https://drive.google.com/drive/folders/1M9otFTE7NsY-zBa9CCOTnZLuXF3a9qEj?usp=sharing), si încărcați fișierul 'AIbooks.csv' urmând pașii:\n",
        "* Apăsați icon-ul `Files` din bara verticală din partea stângă. Vor apărea trei icon-uri diferite: `Upload to session storage / Refresh / Mount Drive`\n",
        "* Folosiți prima opțiune, cea de încărcare a unui fișier stocat pe masina locală. Dacă fișierul este stocat pe Drive-ul Google, puteți instala drive-ul și citi fișierele de acolo.\n",
        "* Alegeți '`Upload to session storage`' și selectați fișierul `\"AIbooks.csv\"` de pe mașina locală. Va apărea un mesaj de avertizare că fișierul va fi disponibil numai pe parcursul sesiunii și va deveni indisponibil atunci când sesiunea se termină. Apăsați `OK.`"
      ]
    },
    {
      "cell_type": "code",
      "metadata": {
        "id": "XDdv6BrV-uEt",
        "colab": {
          "base_uri": "https://localhost:8080/"
        },
        "outputId": "b2bef918-88de-491f-e51d-a46c3020edca"
      },
      "source": [
        "from google.colab import drive\n",
        "drive.mount('/content/drive')"
      ],
      "execution_count": null,
      "outputs": [
        {
          "output_type": "stream",
          "name": "stdout",
          "text": [
            "Drive already mounted at /content/drive; to attempt to forcibly remount, call drive.mount(\"/content/drive\", force_remount=True).\n"
          ]
        }
      ]
    },
    {
      "cell_type": "markdown",
      "metadata": {
        "id": "RIb5nrS1oXEc"
      },
      "source": [
        "Fișierul va apărea în partea stângă, în fereastra Files.\n",
        "\n",
        "* extrageți calea către el prin click dreapta pe numele fișierului și alegerea opțiunii `Copy path` din meniul contextual.\n",
        "\n",
        "* Lipiți calea în celula cod. Deoarece este un fișier `csv`, vom folosi pachetul `csv` pentru a citi conținutul."
      ]
    },
    {
      "cell_type": "code",
      "source": [
        "import csv\n",
        "\"\"\"\n",
        "  Aceasta definește calea fișierului CSV pe care vrei să-l citești.\n",
        "În acest caz, fișierul se numește AIbooks.csv și se află în directorul /content.\n",
        "\"\"\"\n",
        "filename = '/content/AIbooks.csv'\n",
        "\"\"\"\n",
        "'num_lines': Aceasta va stoca numărul de rânduri din fișier.\n",
        "'lines': O listă goală care va stoca fiecare rând citit din fișier.\n",
        "\"\"\"\n",
        "num_lines = 0\n",
        "lines = []\n",
        "\"\"\"\n",
        "open(filename, 'r'): Deschide fișierul în modul de citire ('r').\n",
        "as csvfile: Asociază fișierul deschis cu variabila csvfile.\n",
        "\"\"\"\n",
        "with open(filename) as csvfile:\n",
        "  # Creează un obiect csv.reader, care va citi rândurile din fișierul CSV.\n",
        "  datareader = csv.reader(csvfile)\n",
        "  # Iterează prin fiecare rând din fișier.\n",
        "  for row in datareader:\n",
        "    # Incrementează variabila num_lines pentru fiecare rând citit.\n",
        "    num_lines = num_lines + 1\n",
        "    # Afișează rândul curent în consolă.\n",
        "    print(row)\n",
        "    # Adaugă rândul curent la lista lines.\n",
        "    lines.append(row)\n",
        "  csvfile.close()\n",
        "print('Number of lines {}'.format(num_lines))"
      ],
      "metadata": {
        "colab": {
          "base_uri": "https://localhost:8080/"
        },
        "id": "kRJtVJ7nV-kI",
        "outputId": "7f0d52d2-88df-4f85-8f61-5c24d72de6b2"
      },
      "execution_count": null,
      "outputs": [
        {
          "output_type": "stream",
          "name": "stdout",
          "text": [
            "['Title', 'Author', 'Year', 'Number of pages']\n",
            "['Superintelligence: Paths, Dangers, Strategies', 'Nick Bostrom', '2014', '352']\n",
            "['The Singularity Is Near: When Humans Transcend Biology', 'Ray Kurzweil', '2005', '652']\n",
            "['Life 3.0: Being Human in the Age of Artificial Intelligence', 'Max Tegmark', '2017', '384']\n",
            "['Singularity Rising: Surviving and Thriving in a Smarter, Richer, and More Dangerous World', 'James Miller', '2012', '288']\n",
            "['The Second Machine Age: Work, Progress, and Prosperity in a Time of Brilliant Technologies', 'Erik Brynjolfsson, Andrew McAfee', '2014', '320']\n",
            "['Machine, Platform, Crowd: Harnessing Our Digital Future', 'Andrew McAfee, Erik Brynjolfsson', '2017', '416']\n",
            "['AI Superpowers: China, Silicon Valley, and the New World Order', 'Kai-Fu Lee', '2019', '272']\n",
            "['The Sentient Machine: The Coming Age of Artificial Intelligence', 'Amir Husain', '2017', '214']\n",
            "['Our Final Invention: Artificial Intelligence and the End of the Human Era', 'James Barrat', '2015', '336']\n",
            "['Army of None: Autonomous Weapons and the Future of War', 'Paul Scharre', '2018', '448']\n",
            "['Deep Learning (Educational)', 'Ian Goodfellow, Yoshua Bengio, Aaron Courville', '2015', '800']\n",
            "Number of lines 12\n"
          ]
        }
      ]
    },
    {
      "cell_type": "code",
      "metadata": {
        "id": "guMbG8wepYW-",
        "colab": {
          "base_uri": "https://localhost:8080/"
        },
        "outputId": "d790f330-46d3-4e1d-a5ed-4c83968591d7"
      },
      "source": [
        "import csv\n",
        "filename = '/content/AIbooks.csv'\n",
        "num_lines = 0\n",
        "lines = []\n",
        "with open(filename) as csvfile:\n",
        "  datareader = csv.reader(csvfile)\n",
        "  for row in datareader:\n",
        "    num_lines += 1\n",
        "    print(row)\n",
        "    lines.append(row)\n",
        "  csvfile.close()\n",
        "print('Number of lines {}'.format(num_lines))"
      ],
      "execution_count": null,
      "outputs": [
        {
          "output_type": "stream",
          "name": "stdout",
          "text": [
            "['Title', 'Author', 'Year', 'Number of pages']\n",
            "['Superintelligence: Paths, Dangers, Strategies', 'Nick Bostrom', '2014', '352']\n",
            "['The Singularity Is Near: When Humans Transcend Biology', 'Ray Kurzweil', '2005', '652']\n",
            "['Life 3.0: Being Human in the Age of Artificial Intelligence', 'Max Tegmark', '2017', '384']\n",
            "['Singularity Rising: Surviving and Thriving in a Smarter, Richer, and More Dangerous World', 'James Miller', '2012', '288']\n",
            "['The Second Machine Age: Work, Progress, and Prosperity in a Time of Brilliant Technologies', 'Erik Brynjolfsson, Andrew McAfee', '2014', '320']\n",
            "['Machine, Platform, Crowd: Harnessing Our Digital Future', 'Andrew McAfee, Erik Brynjolfsson', '2017', '416']\n",
            "['AI Superpowers: China, Silicon Valley, and the New World Order', 'Kai-Fu Lee', '2019', '272']\n",
            "['The Sentient Machine: The Coming Age of Artificial Intelligence', 'Amir Husain', '2017', '214']\n",
            "['Our Final Invention: Artificial Intelligence and the End of the Human Era', 'James Barrat', '2015', '336']\n",
            "['Army of None: Autonomous Weapons and the Future of War', 'Paul Scharre', '2018', '448']\n",
            "['Deep Learning (Educational)', 'Ian Goodfellow, Yoshua Bengio, Aaron Courville', '2015', '800']\n",
            "Number of lines 12\n"
          ]
        }
      ]
    },
    {
      "cell_type": "markdown",
      "metadata": {
        "id": "_2q6Je42rZbH"
      },
      "source": [
        "### Scrierea datelor în fișiere și decărcarea fișierelor"
      ]
    },
    {
      "cell_type": "markdown",
      "metadata": {
        "id": "UnuyoCb3q06L"
      },
      "source": [
        "\n",
        "\n",
        "---\n",
        "\n",
        "\n",
        "Observați că fișierul are un antet cu numele coloanelor și apoi lista de cărți.\n",
        "\n",
        "Vom șterge antetul și vom scrie un nou fișier care conține numai lista cărților."
      ]
    },
    {
      "cell_type": "code",
      "source": [
        "lines_no_header = lines[1:]\n",
        "print(lines_no_header)"
      ],
      "metadata": {
        "colab": {
          "base_uri": "https://localhost:8080/"
        },
        "id": "6FAr-lAMY6EG",
        "outputId": "5ef04d64-3b7a-4bc3-be14-ccdd90a5593e"
      },
      "execution_count": null,
      "outputs": [
        {
          "output_type": "stream",
          "name": "stdout",
          "text": [
            "[['Superintelligence: Paths, Dangers, Strategies', 'Nick Bostrom', '2014', '352'], ['The Singularity Is Near: When Humans Transcend Biology', 'Ray Kurzweil', '2005', '652'], ['Life 3.0: Being Human in the Age of Artificial Intelligence', 'Max Tegmark', '2017', '384'], ['Singularity Rising: Surviving and Thriving in a Smarter, Richer, and More Dangerous World', 'James Miller', '2012', '288'], ['The Second Machine Age: Work, Progress, and Prosperity in a Time of Brilliant Technologies', 'Erik Brynjolfsson, Andrew McAfee', '2014', '320'], ['Machine, Platform, Crowd: Harnessing Our Digital Future', 'Andrew McAfee, Erik Brynjolfsson', '2017', '416'], ['AI Superpowers: China, Silicon Valley, and the New World Order', 'Kai-Fu Lee', '2019', '272'], ['The Sentient Machine: The Coming Age of Artificial Intelligence', 'Amir Husain', '2017', '214'], ['Our Final Invention: Artificial Intelligence and the End of the Human Era', 'James Barrat', '2015', '336'], ['Army of None: Autonomous Weapons and the Future of War', 'Paul Scharre', '2018', '448'], ['Deep Learning (Educational)', 'Ian Goodfellow, Yoshua Bengio, Aaron Courville', '2015', '800']]\n"
          ]
        }
      ]
    },
    {
      "cell_type": "code",
      "metadata": {
        "id": "0nTUX85urk4K"
      },
      "source": [
        "lines_no_header = lines[1:]\n",
        "print(lines_no_header)"
      ],
      "execution_count": null,
      "outputs": []
    },
    {
      "cell_type": "code",
      "source": [
        "filename = '/content/AIbooks_new.csv'\n",
        "with open(filename, 'w') as csvfile:\n",
        "  datawriter = csv.writer(csvfile)\n",
        "  for row in lines_no_header:\n",
        "    datawriter.writerow(row)\n",
        "  csvfile.close()"
      ],
      "metadata": {
        "id": "pqFxkQkVZJBd"
      },
      "execution_count": null,
      "outputs": []
    },
    {
      "cell_type": "code",
      "metadata": {
        "id": "hWhk8sZ9rqK_"
      },
      "source": [
        "filename = '/content/AIbooks_new.csv'\n",
        "with open(filename, 'w') as csvfile:\n",
        "  datawriter = csv.writer(csvfile)\n",
        "  for row in lines_no_header:\n",
        "    datawriter.writerow(row)\n",
        "  csvfile.close()"
      ],
      "execution_count": null,
      "outputs": []
    },
    {
      "cell_type": "markdown",
      "metadata": {
        "id": "qnUQfIeNrtav"
      },
      "source": [
        "Noul fișier poate fi descărcat apăsând click dreapta și alegând `Download`\n",
        "\n",
        "Folosind pașii descriși mai sus, se poate încărca/ descărca orice tip de fișier ( text, imagini, etc )"
      ]
    },
    {
      "cell_type": "markdown",
      "metadata": {
        "id": "6T1zLLaLsWi-"
      },
      "source": [
        "# Librăria pentru afișare: `matplotlib`"
      ]
    },
    {
      "cell_type": "markdown",
      "metadata": {
        "id": "_Lr9gxWQsfXO"
      },
      "source": [
        "Pe parcursul acestui curs, vom reprezenta grafic diferite obiecte: puncte 2D, funcții, imagini. Este util să știm să lucrăm cu o librărie puternică ce ne permite astfel de operații: `matplotlib`.\n",
        "\n",
        ">În acest capitol vom oferi exemple despre cum se lucrează cu puncte și funcții. Imaginile vor fi discutate mai detaliat într-o lecție viitoare.\n",
        "\n",
        "❗️ Funcționalitățile pe care le veți învăța aici vă vor fi utile și în cadrul altor discipline de studiu. De exemplu, dacă trebuie să scrieți un raport și doriți să adăugați figuri sau grafice, în loc să le desenați în aplicații de tip Paint, le puteți genera din cod.\n",
        "\n",
        "În această lecție vom folosi doar o mică parte din caracteristicile `matplotlib`. Pentru detalii despre alte caracteristici, accesați [documentația matplotlib](https://matplotlib.org/stable/contents.html)."
      ]
    },
    {
      "cell_type": "code",
      "source": [
        "# matplotlib este o bibliotecă mare, vom importa doar câteva subpachete\n",
        "from matplotlib import pyplot as plt"
      ],
      "metadata": {
        "id": "xcE3vD-maWtx"
      },
      "execution_count": null,
      "outputs": []
    },
    {
      "cell_type": "code",
      "metadata": {
        "id": "eAfXBzMIvBkK"
      },
      "source": [
        "# matplotlib is a big library, we will import only some subpackages\n",
        "from matplotlib import pyplot as plt"
      ],
      "execution_count": null,
      "outputs": []
    },
    {
      "cell_type": "markdown",
      "metadata": {
        "id": "amd4UvDfvO03"
      },
      "source": [
        "### Puncte 2D\n",
        "Vom reprezenta într-un grafic cu puncte populația României între 1948-2011 (conform wikipedia).\n",
        "\n",
        "Avem puncte 2D în care prima dimensiune, `x`, este anul recensământului și a doua dimensiune, `y`, este numărul de cetățeni.\n",
        "\n",
        "\n",
        "Vom declara dimensiunile ca liste separate și vom folosi funcția `scatter` pentru a le reprezenta grafic."
      ]
    },
    {
      "cell_type": "code",
      "source": [
        "x_pts = [1948, 1956, 1966, 1977, 1992, 2002, 2011]\n",
        "y_pts = [15872624, 17489450, 19103163, 21559910, 22810035, 21680974, 20121641]"
      ],
      "metadata": {
        "id": "xVeUoAzlaqMs"
      },
      "execution_count": null,
      "outputs": []
    },
    {
      "cell_type": "code",
      "metadata": {
        "id": "C--oEQuowJH9"
      },
      "source": [
        "x_pts = [1948, 1956, 1966, 1977, 1992, 2002, 2011]\n",
        "y_pts = [15872624, 17489450, 19103163, 21559910, 22810035, 21680974, 20121641]"
      ],
      "execution_count": null,
      "outputs": []
    },
    {
      "cell_type": "code",
      "source": [
        "plt.figure()\n",
        "plt.title('Numărul cetățenilor în România între 1948-2011')\n",
        "plt.scatter(x=x_pts, y=y_pts, c='blue')\n",
        "# plt.show()"
      ],
      "metadata": {
        "colab": {
          "base_uri": "https://localhost:8080/",
          "height": 470
        },
        "id": "hoOfzoyRa5-N",
        "outputId": "18f02ae2-b8e7-454b-f20e-4dceacc8f044"
      },
      "execution_count": null,
      "outputs": [
        {
          "output_type": "execute_result",
          "data": {
            "text/plain": [
              "<matplotlib.collections.PathCollection at 0x7855869a59f0>"
            ]
          },
          "metadata": {},
          "execution_count": 32
        },
        {
          "output_type": "display_data",
          "data": {
            "text/plain": [
              "<Figure size 640x480 with 1 Axes>"
            ],
            "image/png": "[encoded data removed]"
          },
          "metadata": {}
        }
      ]
    },
    {
      "cell_type": "code",
      "metadata": {
        "id": "i4nfofIiwLTV"
      },
      "source": [
        "plt.figure()\n",
        "plt.title('Number of citizens in Romania between 1948-2011')\n",
        "plt.scatter(x=x_pts, y=y_pts, c='blue')\n",
        "# plt.show()"
      ],
      "execution_count": null,
      "outputs": []
    },
    {
      "cell_type": "markdown",
      "metadata": {
        "id": "NFHaK9Q9wRft"
      },
      "source": [
        ">Imaginea rezultată va apărea in Files și poate fi salvată:"
      ]
    },
    {
      "cell_type": "code",
      "source": [
        "plt.savefig('Populatia_Romaniei.png', bbox_inches='tight')"
      ],
      "metadata": {
        "colab": {
          "base_uri": "https://localhost:8080/",
          "height": 34
        },
        "id": "vtCnqQbMcPNK",
        "outputId": "09199152-4072-485c-eecb-5f37bb8318b5"
      },
      "execution_count": null,
      "outputs": [
        {
          "output_type": "display_data",
          "data": {
            "text/plain": [
              "<Figure size 640x480 with 0 Axes>"
            ]
          },
          "metadata": {}
        }
      ]
    },
    {
      "cell_type": "code",
      "metadata": {
        "id": "DsfeGbtawgeF"
      },
      "source": [
        "plt.savefig('Ro_population.png', bbox_inches='tight')"
      ],
      "execution_count": null,
      "outputs": []
    },
    {
      "cell_type": "markdown",
      "metadata": {
        "id": "BYJjXEFvwj0C"
      },
      "source": [
        ">Același puncte pot fi reprezentate grafic sub forma unei linii curbe cu ajutorul funcției `plot`. Putem modifica stilul punctelor, culoarea, etc."
      ]
    },
    {
      "cell_type": "code",
      "source": [
        "plt.figure()\n",
        "plt.title('Numărul cetățenilor în românia între anii 1948-2011')\n",
        "plt.plot(x_pts,y_pts, 'r+-')\n",
        "# plt.show()"
      ],
      "metadata": {
        "colab": {
          "base_uri": "https://localhost:8080/",
          "height": 470
        },
        "id": "yGl9-bDxcbNB",
        "outputId": "7c438df6-84b6-450c-f4b9-3691dce51f6b"
      },
      "execution_count": null,
      "outputs": [
        {
          "output_type": "execute_result",
          "data": {
            "text/plain": [
              "[<matplotlib.lines.Line2D at 0x7855868eaec0>]"
            ]
          },
          "metadata": {},
          "execution_count": 35
        },
        {
          "output_type": "display_data",
          "data": {
            "text/plain": [
              "<Figure size 640x480 with 1 Axes>"
            ],
            "image/png": "[encoded data removed]"
          },
          "metadata": {}
        }
      ]
    },
    {
      "cell_type": "code",
      "metadata": {
        "id": "PLEaPcKwxEoe"
      },
      "source": [
        "plt.figure()\n",
        "plt.title('Number of citizens in Romania between 1948-2011')\n",
        "plt.plot(x_pts,y_pts, 'r+-')\n",
        "# plt.show()"
      ],
      "execution_count": null,
      "outputs": []
    },
    {
      "cell_type": "markdown",
      "metadata": {
        "id": "RiJK1lVdxLDV"
      },
      "source": [
        ">Graficul de tip coloană se obține cu ajutorul funcției `bar`."
      ]
    },
    {
      "cell_type": "code",
      "source": [
        "plt.figure()\n",
        "plt.title('Numărul cetățenilor românii între anii 1948-2011')\n",
        "plt.bar(x_pts,y_pts, width=5)\n",
        "  #plt show"
      ],
      "metadata": {
        "colab": {
          "base_uri": "https://localhost:8080/",
          "height": 470
        },
        "id": "6B72j75pc3ky",
        "outputId": "b488ee55-51cf-46cd-fc09-7c5af1f59815"
      },
      "execution_count": null,
      "outputs": [
        {
          "output_type": "execute_result",
          "data": {
            "text/plain": [
              "<BarContainer object of 7 artists>"
            ]
          },
          "metadata": {},
          "execution_count": 37
        },
        {
          "output_type": "display_data",
          "data": {
            "text/plain": [
              "<Figure size 640x480 with 1 Axes>"
            ],
            "image/png": "[encoded data removed]"
          },
          "metadata": {}
        }
      ]
    },
    {
      "cell_type": "code",
      "metadata": {
        "id": "wWp7qzLgxW3s"
      },
      "source": [
        "plt.figure()\n",
        "plt.title('Number of citizens in Romania between 1948-2011')\n",
        "plt.bar(x_pts,y_pts, width=5)  # since the census was carried out approximately every 10 years, it makes sense to set the width of a bar to 5 so the bars remain well separated.\n",
        "# plt.show()"
      ],
      "execution_count": null,
      "outputs": []
    },
    {
      "cell_type": "markdown",
      "metadata": {
        "id": "NS2o2NkCxch9"
      },
      "source": [
        "**Observație**:\n",
        "\n",
        "Pe axa `Oy`, valorile sunt afișate ca valori între `0.0` și `3.0` înmulțite cu `1e7`, dar pe axa `Ox` sunt afișate cu valorile lor reale. S-a efectuat acest artificiu de calcul pentru ca graficul să se încadreze pe ecran, având în vedere că valorile de pe axa `Oy` sunt de ordinul milioanelor, cu mult mai mari decât valorile de pe axa `Ox`."
      ]
    },
    {
      "cell_type": "markdown",
      "metadata": {
        "id": "39-3mSbTzFeG"
      },
      "source": [
        "### Funcții\n",
        "Am văzut până acum cum pot fi reprezentate punctele 2D.\n",
        "\n",
        "Vom vedea cum sunt reprezentate funcțiile continue, cum ar fi `sin, cos, funcția pătratică`.\n",
        "\n",
        "Funcțiile continue sunt de fapt simulate prin utilizarea unei mulțimi dense de puncte discrete și prin interpolare între acestea."
      ]
    },
    {
      "cell_type": "code",
      "metadata": {
        "id": "I30EKom60BaM"
      },
      "source": [
        "\"\"\"\n",
        "  Vom folosi aici pachetul numpy, care include multe funcții convenabile pentru\n",
        "lucrul cu matrice. Vom vedea mai multe funcții din acest pachet în următoarea lecție.\n",
        "\"\"\"\n",
        "import numpy as np"
      ],
      "execution_count": null,
      "outputs": []
    },
    {
      "cell_type": "code",
      "metadata": {
        "id": "VWKejK_S0D-s"
      },
      "source": [
        "# Definim mai întâi domeniul pe care sunt definite aceste funcții.\n",
        "# Pentru sinus și cosinus, dorim să definim de ex. intervalul [-pi, pi] să aibă o perioadă completă.\n",
        "\"\"\"\n",
        "    Putem realiza acest lucru cu ușurință creând mai întâi un interval uniform\n",
        "distanțat între [-1, 1] cu de ex. 60 de elemente folosind funcția „linspace” și\n",
        "apoi înmulțind toate elementele prin pi.\n",
        "\"\"\"\n",
        "xs = np.linspace(start=-1, stop=1, num=60)\n",
        "xs_pi = xs * np.pi"
      ],
      "execution_count": null,
      "outputs": []
    },
    {
      "cell_type": "code",
      "metadata": {
        "id": "JkkZr8740GiM"
      },
      "source": [
        "# Definiți funcția sine apelând funcția de bibliotecă din pachetul numpy\n",
        "y_sin = np.sin(xs_pi)"
      ],
      "execution_count": null,
      "outputs": []
    },
    {
      "cell_type": "code",
      "metadata": {
        "colab": {
          "base_uri": "https://localhost:8080/",
          "height": 452
        },
        "id": "6rvq6dXd0I0k",
        "outputId": "fbf440c8-aa48-42ce-ea14-649a607eddb7"
      },
      "source": [
        "# Să diagramăm funcția sinus\n",
        "plt.figure()\n",
        "plt.title('Sine(x)')\n",
        "plt.plot(xs_pi, y_sin, c='b', label='Sine')\n",
        "plt.legend()\n",
        "plt.show()"
      ],
      "execution_count": null,
      "outputs": [
        {
          "output_type": "display_data",
          "data": {
            "text/plain": [
              "<Figure size 640x480 with 1 Axes>"
            ],
            "image/png": "[encoded data removed]"
          },
          "metadata": {}
        }
      ]
    },
    {
      "cell_type": "code",
      "metadata": {
        "id": "aNXesRFy0REE"
      },
      "source": [
        "# Folosind același domeniu, definim cosinus și pătratul\n",
        "y_cos = np.cos(xs_pi)\n",
        "y_sq = np.square(xs_pi)"
      ],
      "execution_count": null,
      "outputs": []
    },
    {
      "cell_type": "code",
      "metadata": {
        "id": "XcBIjlFA0TbD",
        "colab": {
          "base_uri": "https://localhost:8080/",
          "height": 452
        },
        "outputId": "7a6bd44c-bfc6-459b-9559-fdce743e2f08"
      },
      "source": [
        "# Să le reprezentăm pe toate cu culori diferite.\n",
        "plt.figure()\n",
        "plt.title('Math functions')\n",
        "plt.plot(xs_pi, y_sin, c='b', label='Sine')\n",
        "plt.plot(xs_pi, y_cos, c='y', label='Cosine')\n",
        "plt.plot(xs_pi, y_sq, c='r', label='Square')\n",
        "plt.legend()  # la trasarea mai multor funcții, afișarea legendei este utilă pentru a ști care este care.\n",
        "plt.show()"
      ],
      "execution_count": null,
      "outputs": [
        {
          "output_type": "display_data",
          "data": {
            "text/plain": [
              "<Figure size 640x480 with 1 Axes>"
            ],
            "image/png": "[encoded data removed]"
          },
          "metadata": {}
        }
      ]
    },
    {
      "cell_type": "code",
      "metadata": {
        "id": "92JXNI0U0aKO",
        "colab": {
          "base_uri": "https://localhost:8080/",
          "height": 452
        },
        "outputId": "d0abd814-4a03-4d46-a39e-2c61e73c0307"
      },
      "source": [
        "\"\"\"\n",
        "    Putem schimba modul în care sunt afișate valorile pe axele x și y, intervalul,\n",
        "densitatea lor, prin utilizarea funcțiilor „xticks” sau „yticks”.\n",
        "\"\"\"\n",
        "plt.figure()\n",
        "plt.title('Math functions')\n",
        "plt.plot(xs_pi, y_sin, c='b', label='Sine')\n",
        "plt.plot(xs_pi, y_cos, c='y', label='Cosine')\n",
        "plt.plot(xs_pi, y_sq, c='r', label='Square')\n",
        "plt.xticks(ticks=np.arange(-np.pi, np.pi, step=0.5))\n",
        "plt.legend()\n",
        "plt.show()"
      ],
      "execution_count": null,
      "outputs": [
        {
          "output_type": "display_data",
          "data": {
            "text/plain": [
              "<Figure size 640x480 with 1 Axes>"
            ],
            "image/png": "[encoded data removed]"
          },
          "metadata": {}
        }
      ]
    },
    {
      "cell_type": "code",
      "metadata": {
        "id": "WpJe2ME50e89",
        "colab": {
          "base_uri": "https://localhost:8080/",
          "height": 484
        },
        "outputId": "d6870e7c-1d55-40ff-d426-e275e660ae0b"
      },
      "source": [
        "# Acest lucru nu arată foarte frumos, să afișăm xticks-urile rotite\n",
        "plt.figure()\n",
        "plt.title('Math functions')\n",
        "plt.plot(xs_pi, y_sin, c='b', label='Sine')\n",
        "plt.plot(xs_pi, y_cos, c='y', label='Cosine')\n",
        "plt.plot(xs_pi, y_sq, c='r', label='Square')\n",
        "plt.xticks(ticks=np.arange(-np.pi, np.pi, step=0.5), rotation=45)  # you can also try rotation='vertical'\n",
        "plt.legend()\n",
        "plt.show()"
      ],
      "execution_count": null,
      "outputs": [
        {
          "output_type": "display_data",
          "data": {
            "text/plain": [
              "<Figure size 640x480 with 1 Axes>"
            ],
            "image/png": "[encoded data removed]"
          },
          "metadata": {}
        }
      ]
    },
    {
      "cell_type": "markdown",
      "metadata": {
        "id": "xlTGcPY70j1s"
      },
      "source": [
        "# Concluzii"
      ]
    },
    {
      "cell_type": "markdown",
      "metadata": {
        "id": "MR974Zrp0pBk"
      },
      "source": [
        "În acest capitol ne-am familiarizat cu **Colab** și funcționalitățile sale de bază și cu librăria *matplotlib* pentru reprezentarea graficelor asociate datelor și funcțiilor."
      ]
    }
  ]
}