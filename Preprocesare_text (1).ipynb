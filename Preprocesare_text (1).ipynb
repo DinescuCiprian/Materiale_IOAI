{
  "nbformat": 4,
  "nbformat_minor": 0,
  "metadata": {
    "colab": {
      "provenance": []
    },
    "kernelspec": {
      "name": "python3",
      "display_name": "Python 3"
    },
    "language_info": {
      "name": "python"
    }
  },
  "cells": [
    {
      "cell_type": "markdown",
      "source": [
        "# Preprocesare\n",
        "\n",
        "Limbajul scris conține o serie de elemente care nu transmit neapărat informații relevante pentru problema pe care încercăm să o rezolvăm. Mai jos este o listă de acțiuni pe care le putem face asupra textului pentru a elimina caracterele nedorite:\n",
        "- tokenizare (împărțim în cuvinte / tokeni)\n",
        "- transformarea tuturor literelor în litere mici\n",
        "- eliminarea cifrelor / transformarea lor în cuvinte\n",
        "- eliminarea semnelor de punctuație\n",
        "- eliminarea (sau înlocuirea) linkurilor [LINK], tagurilor [TAG] și mențiunilor [USER]\n",
        "- eliminarea (sau înlocuirea) emoticoanelor ( :) :D) și emojiurilor (💙 🐱)\n",
        "- eliminarea cuvintelor de legătură (stopwords)\n",
        "- transformarea cuvintelor în cea mai simplă formă a lor (lematizare / stemming)"
      ],
      "metadata": {
        "id": "dl4d-KNd7vcv"
      }
    },
    {
      "cell_type": "markdown",
      "source": [
        "    import nltk\n",
        "Biblioteca NLTK este importată pentru a putea utiliza funcțiile și datele disponibile pentru procesarea limbajului natural.\n",
        "\n",
        "    nltk.download('punkt')\n",
        "'punkt' este un pachet care conține un tokenizer de propoziții și cuvinte. Este utilizat pentru a împărți textul în propoziții și cuvinte.\n",
        "\n",
        "    nltk.download('stopwords')\n",
        "'stopwords' este un pachet care conține liste de cuvinte comune (cum ar fi \"the\", \"is\", \"in\" etc.) care sunt adesea eliminate din textul procesat deoarece nu adaugă semnificație semnificativă la analiza textului.\n",
        "\n",
        "\n",
        "    nltk.download('wordnet'_\n",
        "'wordnet' este o bază de date lexicală pentru limba engleză, care grupează cuvintele în seturi de sinonime (synsets) și oferă definiții, exemple și relații între aceste seturi. Este utilizat pentru a efectua analiza semantică și pentru a găsi sinonime sau antonime ale cuvintelor.\n",
        "\n",
        "\n",
        "    nltk.download('twitter_samples')\n",
        "'twitter_samples' este un set de date care conține mostre de tweet-uri de pe Twitter. Este utilizat pentru a antrena și testa modele de procesare a limbajului natural pe date reale de la Twitter."
      ],
      "metadata": {
        "id": "DfhVWuxhabvE"
      }
    },
    {
      "cell_type": "code",
      "source": [
        "import nltk\n",
        "nltk.download('punkt')\n",
        "nltk.download('stopwords')\n",
        "nltk.download('wordnet')\n",
        "nltk.download('twitter_samples')"
      ],
      "metadata": {
        "colab": {
          "base_uri": "https://localhost:8080/"
        },
        "id": "JOlGlpz5YvbF",
        "outputId": "ad360925-596c-44ed-a335-955b311729cc"
      },
      "execution_count": null,
      "outputs": [
        {
          "output_type": "stream",
          "name": "stderr",
          "text": [
            "[nltk_data] Downloading package punkt to /root/nltk_data...\n",
            "[nltk_data]   Unzipping tokenizers/punkt.zip.\n",
            "[nltk_data] Downloading package stopwords to /root/nltk_data...\n",
            "[nltk_data]   Unzipping corpora/stopwords.zip.\n",
            "[nltk_data] Downloading package wordnet to /root/nltk_data...\n",
            "[nltk_data] Downloading package twitter_samples to /root/nltk_data...\n",
            "[nltk_data]   Unzipping corpora/twitter_samples.zip.\n"
          ]
        },
        {
          "output_type": "execute_result",
          "data": {
            "text/plain": [
              "True"
            ]
          },
          "metadata": {},
          "execution_count": 1
        }
      ]
    },
    {
      "cell_type": "code",
      "source": [
        "import nltk\n",
        "nltk.download('punkt')\n",
        "nltk.download('stopwords')\n",
        "nltk.download('wordnet')\n",
        "nltk.download('twitter_samples')"
      ],
      "metadata": {
        "id": "rsxlLK-y8IeR",
        "colab": {
          "base_uri": "https://localhost:8080/"
        },
        "outputId": "978b5762-4b3f-49bf-ecaa-e5926eb392a9"
      },
      "execution_count": null,
      "outputs": [
        {
          "output_type": "stream",
          "name": "stderr",
          "text": [
            "[nltk_data] Downloading package punkt to /root/nltk_data...\n",
            "[nltk_data]   Unzipping tokenizers/punkt.zip.\n",
            "[nltk_data] Downloading package stopwords to /root/nltk_data...\n",
            "[nltk_data]   Unzipping corpora/stopwords.zip.\n",
            "[nltk_data] Downloading package wordnet to /root/nltk_data...\n",
            "[nltk_data] Downloading package twitter_samples to /root/nltk_data...\n",
            "[nltk_data]   Unzipping corpora/twitter_samples.zip.\n"
          ]
        },
        {
          "output_type": "execute_result",
          "data": {
            "text/plain": [
              "True"
            ]
          },
          "metadata": {},
          "execution_count": 2
        }
      ]
    },
    {
      "cell_type": "markdown",
      "source": [
        "Vom folosi un set de date pentru sentiment analysis:"
      ],
      "metadata": {
        "id": "d9IEhS5P78D6"
      }
    },
    {
      "cell_type": "markdown",
      "source": [
        "    from nltk.corpus import twitter_samples\n",
        "Această linie importă setul de date twitter_samples din corpul de date al bibliotecii NLTK. Acest set de date conține tweet-uri etichetate ca pozitive sau negative.\n",
        "\n",
        "    tweets = twitter_samples.strings('positive_tweets.json')\n",
        "Această linie încarcă toate tweet-urile pozitive din fișierul positive_tweets.json și le stochează în variabila tweets. Fiecare tweet este stocat ca un șir de caractere (string).\n",
        "\n",
        "    negative_tweets = twitter_samples.strings('negative_tweets.json')\n",
        "Această linie încarcă toate tweet-urile negative din fișierul negative_tweets.json și le stochează în variabila negative_tweets. Fiecare tweet este stocat ca un șir de caractere (string).  \n",
        "\n",
        "    tweets[:20]\n",
        "Această linie afișează primele 20 de tweet-uri pozitive din lista tweets."
      ],
      "metadata": {
        "id": "WnJHNbNub2vl"
      }
    },
    {
      "cell_type": "code",
      "source": [
        "from nltk.corpus import twitter_samples\n",
        "tweets = twitter_samples.strings('positive_tweets.json')\n",
        "negative_tweets = twitter_samples.strings('negative_tweets.json')\n",
        "tweets[:20]"
      ],
      "metadata": {
        "colab": {
          "base_uri": "https://localhost:8080/"
        },
        "id": "tDONNTGIZSKr",
        "outputId": "54577cf6-ffff-40ed-b8ca-ce3d85937649"
      },
      "execution_count": null,
      "outputs": [
        {
          "output_type": "execute_result",
          "data": {
            "text/plain": [
              "['#FollowFriday @France_Inte @PKuchly57 @Milipol_Paris for being top engaged members in my community this week :)',\n",
              " '@Lamb2ja Hey James! How odd :/ Please call our Contact Centre on 02392441234 and we will be able to assist you :) Many thanks!',\n",
              " '@DespiteOfficial we had a listen last night :) As You Bleed is an amazing track. When are you in Scotland?!',\n",
              " '@97sides CONGRATS :)',\n",
              " 'yeaaaah yippppy!!!  my accnt verified rqst has succeed got a blue tick mark on my fb profile :) in 15 days',\n",
              " '@BhaktisBanter @PallaviRuhail This one is irresistible :)\\n#FlipkartFashionFriday http://t.co/EbZ0L2VENM',\n",
              " \"We don't like to keep our lovely customers waiting for long! We hope you enjoy! Happy Friday! - LWWF :) https://t.co/smyYriipxI\",\n",
              " '@Impatientraider On second thought, there’s just not enough time for a DD :) But new shorts entering system. Sheep must be buying.',\n",
              " 'Jgh , but we have to go to Bayan :D bye',\n",
              " 'As an act of mischievousness, am calling the ETL layer of our in-house warehousing app Katamari.\\n\\nWell… as the name implies :p.',\n",
              " '#FollowFriday @wncer1 @Defense_gouv for being top influencers in my community this week :)',\n",
              " \"Who Wouldn't Love These Big....Juicy....Selfies :) - http://t.co/QVzjgd1uFo http://t.co/oWBL11eQRY\",\n",
              " '@Mish23615351  follow @jnlazts &amp; http://t.co/RCvcYYO0Iq follow u back :)',\n",
              " \"@jjulieredburn Perfect, so you already know what's waiting for you :)\",\n",
              " 'Great new opportunity for junior triathletes aged 12 and 13 at the Gatorade series! Get your entries in :) http://t.co/of3DyOzML0',\n",
              " 'Laying out a greetings card range for print today - love my job :-)',\n",
              " \"Friend's lunch... yummmm :)\\n#Nostalgia #TBS #KU.\",\n",
              " \"@RookieSenpai @arcadester it is the id conflict thanks for the help :D here's the screenshot of it working\",\n",
              " '@oohdawg_ Hi liv :))',\n",
              " 'Hello I need to know something can u fm me on Twitter?? — sure thing :) dm me x http://t.co/W6Dy130BV7']"
            ]
          },
          "metadata": {},
          "execution_count": 3
        }
      ]
    },
    {
      "cell_type": "code",
      "execution_count": null,
      "metadata": {
        "colab": {
          "base_uri": "https://localhost:8080/"
        },
        "id": "3oyMrHP6FlpR",
        "outputId": "a1fbc94c-dc24-4d7e-ab08-7eb11b3f0331"
      },
      "outputs": [
        {
          "output_type": "execute_result",
          "data": {
            "text/plain": [
              "['#FollowFriday @France_Inte @PKuchly57 @Milipol_Paris for being top engaged members in my community this week :)',\n",
              " '@Lamb2ja Hey James! How odd :/ Please call our Contact Centre on 02392441234 and we will be able to assist you :) Many thanks!',\n",
              " '@DespiteOfficial we had a listen last night :) As You Bleed is an amazing track. When are you in Scotland?!',\n",
              " '@97sides CONGRATS :)',\n",
              " 'yeaaaah yippppy!!!  my accnt verified rqst has succeed got a blue tick mark on my fb profile :) in 15 days',\n",
              " '@BhaktisBanter @PallaviRuhail This one is irresistible :)\\n#FlipkartFashionFriday http://t.co/EbZ0L2VENM',\n",
              " \"We don't like to keep our lovely customers waiting for long! We hope you enjoy! Happy Friday! - LWWF :) https://t.co/smyYriipxI\",\n",
              " '@Impatientraider On second thought, there’s just not enough time for a DD :) But new shorts entering system. Sheep must be buying.',\n",
              " 'Jgh , but we have to go to Bayan :D bye',\n",
              " 'As an act of mischievousness, am calling the ETL layer of our in-house warehousing app Katamari.\\n\\nWell… as the name implies :p.',\n",
              " '#FollowFriday @wncer1 @Defense_gouv for being top influencers in my community this week :)',\n",
              " \"Who Wouldn't Love These Big....Juicy....Selfies :) - http://t.co/QVzjgd1uFo http://t.co/oWBL11eQRY\",\n",
              " '@Mish23615351  follow @jnlazts &amp; http://t.co/RCvcYYO0Iq follow u back :)',\n",
              " \"@jjulieredburn Perfect, so you already know what's waiting for you :)\",\n",
              " 'Great new opportunity for junior triathletes aged 12 and 13 at the Gatorade series! Get your entries in :) http://t.co/of3DyOzML0',\n",
              " 'Laying out a greetings card range for print today - love my job :-)',\n",
              " \"Friend's lunch... yummmm :)\\n#Nostalgia #TBS #KU.\",\n",
              " \"@RookieSenpai @arcadester it is the id conflict thanks for the help :D here's the screenshot of it working\",\n",
              " '@oohdawg_ Hi liv :))',\n",
              " 'Hello I need to know something can u fm me on Twitter?? — sure thing :) dm me x http://t.co/W6Dy130BV7']"
            ]
          },
          "metadata": {},
          "execution_count": 3
        }
      ],
      "source": [
        "from nltk.corpus import twitter_samples\n",
        "\n",
        "tweets = twitter_samples.strings('positive_tweets.json')\n",
        "negative_tweets = twitter_samples.strings('negative_tweets.json')\n",
        "tweets[:20]"
      ]
    },
    {
      "cell_type": "markdown",
      "source": [
        "Din această listă ne vom uita la tweetul numărul 6:"
      ],
      "metadata": {
        "id": "M3Qn2ruK-VXD"
      }
    },
    {
      "cell_type": "code",
      "source": [
        "text = tweets[4]\n",
        "text"
      ],
      "metadata": {
        "colab": {
          "base_uri": "https://localhost:8080/",
          "height": 36
        },
        "id": "4UBV6kuD8yci",
        "outputId": "13f49cae-b989-4e38-8036-e5f53704581c"
      },
      "execution_count": null,
      "outputs": [
        {
          "output_type": "execute_result",
          "data": {
            "text/plain": [
              "'yeaaaah yippppy!!!  my accnt verified rqst has succeed got a blue tick mark on my fb profile :) in 15 days'"
            ],
            "application/vnd.google.colaboratory.intrinsic+json": {
              "type": "string"
            }
          },
          "metadata": {},
          "execution_count": 4
        }
      ]
    },
    {
      "cell_type": "markdown",
      "source": [
        "## RegEx\n",
        "\n",
        "Un [RegEx](https://www.w3schools.com/python/python_regex.asp) (_Regular Expression_ / _Expresie Regulată_) reprezintă un șir de caractere care definește un șablon de căutare. Poate fi folosit pentru a identifica un subșir într-un string, pentru a-l înlocui sau pentru a împărți textul în jurul lui.\n",
        "\n",
        "Puteți vedea cum funcționează un regex pe un text anume folosind acest link: https://pythex.org/."
      ],
      "metadata": {
        "id": "gw3eZLKkU-fP"
      }
    },
    {
      "cell_type": "code",
      "source": [
        "import re\n",
        "\n",
        "txt = \"The rain  in Spain stays mainly  in the plain\"\n",
        "x = re.search(\"Spai.\", txt)\n",
        "x"
      ],
      "metadata": {
        "colab": {
          "base_uri": "https://localhost:8080/"
        },
        "id": "L5u7yojkaqEg",
        "outputId": "0c22bba0-80bf-413d-9681-36f366b85376"
      },
      "execution_count": null,
      "outputs": [
        {
          "output_type": "execute_result",
          "data": {
            "text/plain": [
              "<re.Match object; span=(13, 18), match='Spain'>"
            ]
          },
          "metadata": {},
          "execution_count": 4
        }
      ]
    },
    {
      "cell_type": "code",
      "source": [
        "import re\n",
        "\n",
        "txt = \"The rain   in Spain stays mainly   in the plain\"\n",
        "x = re.search(\"Spai.\", txt)\n",
        "x"
      ],
      "metadata": {
        "colab": {
          "base_uri": "https://localhost:8080/"
        },
        "id": "JY3TpT-V5QX3",
        "outputId": "701cfb31-3d46-46bf-e10f-45cc3475b37e"
      },
      "execution_count": null,
      "outputs": [
        {
          "output_type": "execute_result",
          "data": {
            "text/plain": [
              "<re.Match object; span=(14, 19), match='Spain'>"
            ]
          },
          "metadata": {},
          "execution_count": 5
        }
      ]
    },
    {
      "cell_type": "markdown",
      "source": [
        "Căutarea unui string nu returnează nimic dacă nu găsește niciun match, altfel returnează un obiect cu matchul exact și poziția la care se află. Stringul devine relevant când folosim alte simboluri pentru pattern matching, cum ar fi:\n",
        "- . - orice caracter\n",
        "- \\+ - mai multe apariții ale caracterului anterior\n",
        "- \\* - un număr nedefinit de apariții are caracterului anterior, incluzând 0"
      ],
      "metadata": {
        "id": "6XX0_VEtWJAr"
      }
    },
    {
      "cell_type": "code",
      "source": [
        "x = re.split(\" +.\", txt)\n",
        "print(x)"
      ],
      "metadata": {
        "colab": {
          "base_uri": "https://localhost:8080/"
        },
        "id": "razZmCMga-rH",
        "outputId": "e063f8f2-324c-4095-f125-a69b203b88f8"
      },
      "execution_count": null,
      "outputs": [
        {
          "output_type": "stream",
          "name": "stdout",
          "text": [
            "['The', 'ain', 'n', 'pain', 'tays', 'ainly', 'n', 'he', 'lain']\n"
          ]
        }
      ]
    },
    {
      "cell_type": "code",
      "source": [
        "x = re.split(\" +.\", txt)\n",
        "print(x)"
      ],
      "metadata": {
        "colab": {
          "base_uri": "https://localhost:8080/"
        },
        "id": "37jcxol7D7yu",
        "outputId": "bf890c58-5359-4882-bcaa-da3151ddc291"
      },
      "execution_count": null,
      "outputs": [
        {
          "output_type": "stream",
          "name": "stdout",
          "text": [
            "['The', 'ain', 'n', 'pain', 'tays', 'ainly', 'n', 'he', 'lain']\n"
          ]
        }
      ]
    },
    {
      "cell_type": "markdown",
      "source": [
        "Alte caractere speciale:\n",
        "- \\d - cifre\n",
        "- \\D - nu cifre\n",
        "- \\s - spațiu\n",
        "- \\S - nu spațiu\n",
        "- \\w - litere mici, majuscule, caracterul \"_\"\n",
        "- \\W - tot ce nu e \\w\n",
        "- [a-m] - setul de caractere din interior. Poate include intervale\n",
        "\n",
        "Librăria completă poate fi găsită aici https://docs.python.org/3/library/re.html."
      ],
      "metadata": {
        "id": "7c-ppOwgEszZ"
      }
    },
    {
      "cell_type": "markdown",
      "source": [
        "Putem folosi un regex să identificăm toate cuvintele care includ secvența \"ai\":\n"
      ],
      "metadata": {
        "id": "iZBBAPXQtMAz"
      }
    },
    {
      "cell_type": "code",
      "source": [
        "x = re.findall(\"\\w*ai\\w\", txt)\n",
        "print(x)"
      ],
      "metadata": {
        "colab": {
          "base_uri": "https://localhost:8080/"
        },
        "id": "ncg_6UiZbUAV",
        "outputId": "7218d28a-e78a-4459-fcd6-a62901fc2d9a"
      },
      "execution_count": null,
      "outputs": [
        {
          "output_type": "stream",
          "name": "stdout",
          "text": [
            "['rain', 'Spain', 'main', 'plain']\n"
          ]
        }
      ]
    },
    {
      "cell_type": "code",
      "source": [
        "x = re.findall(\"\\w*ai\\w\", txt)\n",
        "print(x)"
      ],
      "metadata": {
        "colab": {
          "base_uri": "https://localhost:8080/"
        },
        "id": "Oxme5CAus_uJ",
        "outputId": "a2f96a3e-51bb-4b8e-d790-2106cc7008bc"
      },
      "execution_count": null,
      "outputs": [
        {
          "output_type": "stream",
          "name": "stdout",
          "text": [
            "['rain', 'Spain', 'main', 'plain']\n"
          ]
        }
      ]
    },
    {
      "cell_type": "markdown",
      "source": [
        "## Tokenizare"
      ],
      "metadata": {
        "id": "tn5YBCwU-aWa"
      }
    },
    {
      "cell_type": "markdown",
      "source": [
        "Putem separa cuvintele în funcție de spațiu:"
      ],
      "metadata": {
        "id": "IJD7UdyZ-Yuo"
      }
    },
    {
      "cell_type": "code",
      "source": [
        "txt.split()"
      ],
      "metadata": {
        "colab": {
          "base_uri": "https://localhost:8080/"
        },
        "id": "7ifHRz6Zbxic",
        "outputId": "ad32849a-3eb1-4d4a-882b-d3a999d6070c"
      },
      "execution_count": null,
      "outputs": [
        {
          "output_type": "execute_result",
          "data": {
            "text/plain": [
              "['The', 'rain', 'in', 'Spain', 'stays', 'mainly', 'in', 'the', 'plain']"
            ]
          },
          "metadata": {},
          "execution_count": 12
        }
      ]
    },
    {
      "cell_type": "code",
      "source": [
        "txt.split()"
      ],
      "metadata": {
        "colab": {
          "base_uri": "https://localhost:8080/"
        },
        "id": "NOCqYz_4-IKO",
        "outputId": "59e1b15a-2520-4a0a-9587-0a5a16fc8592"
      },
      "execution_count": null,
      "outputs": [
        {
          "output_type": "execute_result",
          "data": {
            "text/plain": [
              "['The', 'rain', 'in', 'Spain', 'stays', 'mainly', 'in', 'the', 'plain']"
            ]
          },
          "metadata": {},
          "execution_count": 13
        }
      ]
    },
    {
      "cell_type": "markdown",
      "source": [
        "Sau cu ajutorul unei funcții:"
      ],
      "metadata": {
        "id": "NKLq4kvk-qGk"
      }
    },
    {
      "cell_type": "code",
      "source": [
        "from nltk import word_tokenize\n",
        "word_tokenize(txt)"
      ],
      "metadata": {
        "id": "RdBv3cj-cKEM"
      },
      "execution_count": null,
      "outputs": []
    },
    {
      "cell_type": "code",
      "source": [
        "from nltk import word_tokenize\n",
        "\n",
        "word_tokenize(txt)"
      ],
      "metadata": {
        "colab": {
          "base_uri": "https://localhost:8080/"
        },
        "id": "PdfxhJDV-L6Z",
        "outputId": "6bd8b5a3-4f7c-4a6c-af70-dda8b282c9b3"
      },
      "execution_count": null,
      "outputs": [
        {
          "output_type": "execute_result",
          "data": {
            "text/plain": [
              "['The', 'rain', 'in', 'Spain', 'stays', 'mainly', 'in', 'the', 'plain']"
            ]
          },
          "metadata": {},
          "execution_count": 15
        }
      ]
    },
    {
      "cell_type": "code",
      "source": [
        "word_tokenize(\"we don't like to keep our lovely customers waiting for long! we hope you enjoy! happy friday! - lwwf :) https://t.co/smyyriipxi\")"
      ],
      "metadata": {
        "colab": {
          "base_uri": "https://localhost:8080/"
        },
        "id": "WMwTYeKdSeZg",
        "outputId": "1b9d248e-0a6c-40c3-9c26-17cab258364e"
      },
      "execution_count": null,
      "outputs": [
        {
          "output_type": "execute_result",
          "data": {
            "text/plain": [
              "['we',\n",
              " 'do',\n",
              " \"n't\",\n",
              " 'like',\n",
              " 'to',\n",
              " 'keep',\n",
              " 'our',\n",
              " 'lovely',\n",
              " 'customers',\n",
              " 'waiting',\n",
              " 'for',\n",
              " 'long',\n",
              " '!',\n",
              " 'we',\n",
              " 'hope',\n",
              " 'you',\n",
              " 'enjoy',\n",
              " '!',\n",
              " 'happy',\n",
              " 'friday',\n",
              " '!',\n",
              " '-',\n",
              " 'lwwf',\n",
              " ':',\n",
              " ')',\n",
              " 'https',\n",
              " ':',\n",
              " '//t.co/smyyriipxi']"
            ]
          },
          "metadata": {},
          "execution_count": 16
        }
      ]
    },
    {
      "cell_type": "markdown",
      "source": [
        "Putem separa propozițiile între ele tot cu ajutorul unei funcții:"
      ],
      "metadata": {
        "id": "z0F6UHtj-x7a"
      }
    },
    {
      "cell_type": "code",
      "source": [
        "from nltk import sent_tokenize\n",
        "\n",
        "sent_tokenize(text)"
      ],
      "metadata": {
        "colab": {
          "base_uri": "https://localhost:8080/"
        },
        "id": "X1-tSrGR-Ldo",
        "outputId": "90fdedcf-a779-4d78-ccc9-4cad0e7d611e"
      },
      "execution_count": null,
      "outputs": [
        {
          "output_type": "execute_result",
          "data": {
            "text/plain": [
              "['yeaaaah yippppy!!!',\n",
              " 'my accnt verified rqst has succeed got a blue tick mark on my fb profile :) in 15 days']"
            ]
          },
          "metadata": {},
          "execution_count": 11
        }
      ]
    },
    {
      "cell_type": "markdown",
      "source": [
        "## Litere mici (lowercase)\n",
        "\n",
        "Transformarea literelor în minuscule este cea mai simplă operație:"
      ],
      "metadata": {
        "id": "wfdewSsB--21"
      }
    },
    {
      "cell_type": "code",
      "source": [
        "txt.lower()"
      ],
      "metadata": {
        "colab": {
          "base_uri": "https://localhost:8080/",
          "height": 141
        },
        "id": "zF3dy8GHAmjQ",
        "outputId": "365d5708-67b9-47db-bb58-6d9e984b2de5"
      },
      "execution_count": null,
      "outputs": [
        {
          "output_type": "error",
          "ename": "NameError",
          "evalue": "name 'txt' is not defined",
          "traceback": [
            "\u001b[0;31m---------------------------------------------------------------------------\u001b[0m",
            "\u001b[0;31mNameError\u001b[0m                                 Traceback (most recent call last)",
            "\u001b[0;32m<ipython-input-1-dce995bd3a4b>\u001b[0m in \u001b[0;36m<cell line: 1>\u001b[0;34m()\u001b[0m\n\u001b[0;32m----> 1\u001b[0;31m \u001b[0mtxt\u001b[0m\u001b[0;34m.\u001b[0m\u001b[0mlower\u001b[0m\u001b[0;34m(\u001b[0m\u001b[0;34m)\u001b[0m\u001b[0;34m\u001b[0m\u001b[0;34m\u001b[0m\u001b[0m\n\u001b[0m",
            "\u001b[0;31mNameError\u001b[0m: name 'txt' is not defined"
          ]
        }
      ]
    },
    {
      "cell_type": "code",
      "source": [
        "text.lower()"
      ],
      "metadata": {
        "colab": {
          "base_uri": "https://localhost:8080/",
          "height": 36
        },
        "id": "pnJNtg65_AJj",
        "outputId": "38b45281-f026-4980-a899-ed019a5c35b8"
      },
      "execution_count": null,
      "outputs": [
        {
          "output_type": "execute_result",
          "data": {
            "text/plain": [
              "'yeaaaah yippppy!!!  my accnt verified rqst has succeed got a blue tick mark on my fb profile :) in 15 days'"
            ],
            "application/vnd.google.colaboratory.intrinsic+json": {
              "type": "string"
            }
          },
          "metadata": {},
          "execution_count": 12
        }
      ]
    },
    {
      "cell_type": "markdown",
      "source": [
        "## Eliminarea cifrelor"
      ],
      "metadata": {
        "id": "cnAi1PAP_VJv"
      }
    },
    {
      "cell_type": "code",
      "source": [
        "\"63\".isdigit()"
      ],
      "metadata": {
        "colab": {
          "base_uri": "https://localhost:8080/"
        },
        "id": "USTJIfgw_dMH",
        "outputId": "b664dee3-608b-468f-d4d1-5469b8bd95e4"
      },
      "execution_count": null,
      "outputs": [
        {
          "output_type": "execute_result",
          "data": {
            "text/plain": [
              "True"
            ]
          },
          "metadata": {},
          "execution_count": 13
        }
      ]
    },
    {
      "cell_type": "code",
      "source": [
        "\"not5\".isdigit()"
      ],
      "metadata": {
        "id": "0MnC2qjUSxzV",
        "outputId": "1d05b63c-ced3-48f4-a21f-aece4631c912",
        "colab": {
          "base_uri": "https://localhost:8080/"
        }
      },
      "execution_count": null,
      "outputs": [
        {
          "output_type": "execute_result",
          "data": {
            "text/plain": [
              "False"
            ]
          },
          "metadata": {},
          "execution_count": 14
        }
      ]
    },
    {
      "cell_type": "markdown",
      "source": [
        "Pentru a transforma numerele în cuvinte putem folosi librăria num2words:"
      ],
      "metadata": {
        "id": "DPnhn5xzBf9T"
      }
    },
    {
      "cell_type": "code",
      "source": [
        "!pip install num2words"
      ],
      "metadata": {
        "colab": {
          "base_uri": "https://localhost:8080/"
        },
        "id": "nf-7W373A1vx",
        "outputId": "d765e31b-f721-462c-9ee8-e19828d093b6"
      },
      "execution_count": null,
      "outputs": [
        {
          "output_type": "stream",
          "name": "stdout",
          "text": [
            "Collecting num2words\n",
            "  Downloading num2words-0.5.13-py3-none-any.whl (143 kB)\n",
            "\u001b[2K     \u001b[90m━━━━━━━━━━━━━━━━━━━━━━━━━━━━━━━━━━━━━━━━\u001b[0m \u001b[32m143.3/143.3 kB\u001b[0m \u001b[31m3.1 MB/s\u001b[0m eta \u001b[36m0:00:00\u001b[0m\n",
            "\u001b[?25hCollecting docopt>=0.6.2 (from num2words)\n",
            "  Downloading docopt-0.6.2.tar.gz (25 kB)\n",
            "  Preparing metadata (setup.py) ... \u001b[?25l\u001b[?25hdone\n",
            "Building wheels for collected packages: docopt\n",
            "  Building wheel for docopt (setup.py) ... \u001b[?25l\u001b[?25hdone\n",
            "  Created wheel for docopt: filename=docopt-0.6.2-py2.py3-none-any.whl size=13706 sha256=60bff3195f7cd736454c7e685db896147723101e10343304fd3db2a8a78d5542\n",
            "  Stored in directory: /root/.cache/pip/wheels/fc/ab/d4/5da2067ac95b36618c629a5f93f809425700506f72c9732fac\n",
            "Successfully built docopt\n",
            "Installing collected packages: docopt, num2words\n",
            "Successfully installed docopt-0.6.2 num2words-0.5.13\n"
          ]
        }
      ]
    },
    {
      "cell_type": "code",
      "source": [
        "!pip install num2words"
      ],
      "metadata": {
        "colab": {
          "base_uri": "https://localhost:8080/"
        },
        "id": "bXRBmKlZBeFc",
        "outputId": "f78925b2-1b38-468d-f5a5-4c6c16b46ff5"
      },
      "execution_count": null,
      "outputs": [
        {
          "output_type": "stream",
          "name": "stdout",
          "text": [
            "Collecting num2words\n",
            "  Downloading num2words-0.5.13-py3-none-any.whl (143 kB)\n",
            "\u001b[?25l     \u001b[90m━━━━━━━━━━━━━━━━━━━━━━━━━━━━━━━━━━━━━━━━\u001b[0m \u001b[32m0.0/143.3 kB\u001b[0m \u001b[31m?\u001b[0m eta \u001b[36m-:--:--\u001b[0m\r\u001b[2K     \u001b[91m━━━━━━━━━━━━━━━━━━━━━━━━━━━━━━━\u001b[0m\u001b[90m╺\u001b[0m\u001b[90m━━━━━━━━\u001b[0m \u001b[32m112.6/143.3 kB\u001b[0m \u001b[31m3.1 MB/s\u001b[0m eta \u001b[36m0:00:01\u001b[0m\r\u001b[2K     \u001b[90m━━━━━━━━━━━━━━━━━━━━━━━━━━━━━━━━━━━━━━━━\u001b[0m \u001b[32m143.3/143.3 kB\u001b[0m \u001b[31m3.0 MB/s\u001b[0m eta \u001b[36m0:00:00\u001b[0m\n",
            "\u001b[?25hCollecting docopt>=0.6.2 (from num2words)\n",
            "  Downloading docopt-0.6.2.tar.gz (25 kB)\n",
            "  Preparing metadata (setup.py) ... \u001b[?25l\u001b[?25hdone\n",
            "Building wheels for collected packages: docopt\n",
            "  Building wheel for docopt (setup.py) ... \u001b[?25l\u001b[?25hdone\n",
            "  Created wheel for docopt: filename=docopt-0.6.2-py2.py3-none-any.whl size=13706 sha256=e290356e73fe163454784d0c7c42910b5993cd48bba638257ef07ce57ad8e9c3\n",
            "  Stored in directory: /root/.cache/pip/wheels/fc/ab/d4/5da2067ac95b36618c629a5f93f809425700506f72c9732fac\n",
            "Successfully built docopt\n",
            "Installing collected packages: docopt, num2words\n",
            "Successfully installed docopt-0.6.2 num2words-0.5.13\n"
          ]
        }
      ]
    },
    {
      "cell_type": "code",
      "source": [
        "from num2words import num2words\n",
        "num2words(16)"
      ],
      "metadata": {
        "colab": {
          "base_uri": "https://localhost:8080/",
          "height": 36
        },
        "id": "1LGyAl8LA9sp",
        "outputId": "92c98632-1484-4f13-8fb9-199cc1bc3d7f"
      },
      "execution_count": null,
      "outputs": [
        {
          "output_type": "execute_result",
          "data": {
            "text/plain": [
              "'sixteen'"
            ],
            "application/vnd.google.colaboratory.intrinsic+json": {
              "type": "string"
            }
          },
          "metadata": {},
          "execution_count": 3
        }
      ]
    },
    {
      "cell_type": "code",
      "source": [
        "from num2words import num2words\n",
        "\n",
        "num2words(15)"
      ],
      "metadata": {
        "colab": {
          "base_uri": "https://localhost:8080/",
          "height": 36
        },
        "id": "4pB0jEDjCIv7",
        "outputId": "d7573fcc-ec55-41a1-df29-9121548db02d"
      },
      "execution_count": null,
      "outputs": [
        {
          "output_type": "execute_result",
          "data": {
            "text/plain": [
              "'fifteen'"
            ],
            "application/vnd.google.colaboratory.intrinsic+json": {
              "type": "string"
            }
          },
          "metadata": {},
          "execution_count": 16
        }
      ]
    },
    {
      "cell_type": "markdown",
      "source": [
        "Cum putem identifica toate numerele dintr-un text?"
      ],
      "metadata": {
        "id": "HY0WljcjZZMC"
      }
    },
    {
      "cell_type": "code",
      "source": [
        "text = \"yeaaaah yippppy!!!  my accnt verified rqst has succeed got a blue tick mark on my fb profile :) in 15 days\""
      ],
      "metadata": {
        "id": "nqK41Kwofk_O"
      },
      "execution_count": null,
      "outputs": []
    },
    {
      "cell_type": "code",
      "source": [
        "# TODO: Parcurge tokenii din text si afiseaza numerele\n",
        "def get_numbers_1(text):\n",
        "  \"\"\"Varianta C++\"\"\"\n",
        "  numbers = []\n",
        "  for token in word_tokenize(text):\n",
        "    if token.isdigit():\n",
        "      numbers.append(token)\n",
        "  return numbers\n",
        "\n",
        "def get_numbers_2(text):\n",
        "  \"\"\"Varianta cu list comprehension \"\"\"\n",
        "  return [token for token in word_tokenize(text) if token.isdigit()]\n",
        "\n",
        "def get_numbers_3(text):\n",
        "  \"\"\"Varianta cu RegEx\"\"\"\n",
        "  return re.findall(r\"\\d+\", text)\n",
        "\n",
        "  get_numbers_3(text)"
      ],
      "metadata": {
        "id": "Jry1LR7iBcr-"
      },
      "execution_count": null,
      "outputs": []
    },
    {
      "cell_type": "code",
      "source": [
        "# TODO: Parcurge tokenii din text si afiseaza numerele\n",
        "def get_numbers_1(text):\n",
        "  \"\"\" Varianta C++ \"\"\"\n",
        "  numbers = []\n",
        "  for token in word_tokenize(text):\n",
        "    if token.isdigit():\n",
        "      numbers.append(token)\n",
        "  return numbers\n",
        "\n",
        "\n",
        "def get_numbers_2(text):\n",
        "  \"\"\" Varianta cu list comprehension \"\"\"\n",
        "  return [token for token in word_tokenize(text) if token.isdigit()]\n",
        "\n",
        "\n",
        "def get_numbers_3(text):\n",
        "  \"\"\" Varianta cu RegEx \"\"\"\n",
        "  return re.findall(r\"\\d+\", text)\n",
        "\n",
        "\n",
        "get_numbers_3(text)"
      ],
      "metadata": {
        "id": "Ml0uzTHyZVfE",
        "outputId": "50c498ef-4c4f-469c-eb89-f170d0c05b67",
        "colab": {
          "base_uri": "https://localhost:8080/",
          "height": 297
        }
      },
      "execution_count": null,
      "outputs": [
        {
          "output_type": "error",
          "ename": "NameError",
          "evalue": "name 're' is not defined",
          "traceback": [
            "\u001b[0;31m---------------------------------------------------------------------------\u001b[0m",
            "\u001b[0;31mNameError\u001b[0m                                 Traceback (most recent call last)",
            "\u001b[0;32m<ipython-input-13-c90ace50b124>\u001b[0m in \u001b[0;36m<cell line: 21>\u001b[0;34m()\u001b[0m\n\u001b[1;32m     19\u001b[0m \u001b[0;34m\u001b[0m\u001b[0m\n\u001b[1;32m     20\u001b[0m \u001b[0;34m\u001b[0m\u001b[0m\n\u001b[0;32m---> 21\u001b[0;31m \u001b[0mget_numbers_3\u001b[0m\u001b[0;34m(\u001b[0m\u001b[0mtext\u001b[0m\u001b[0;34m)\u001b[0m\u001b[0;34m\u001b[0m\u001b[0;34m\u001b[0m\u001b[0m\n\u001b[0m",
            "\u001b[0;32m<ipython-input-13-c90ace50b124>\u001b[0m in \u001b[0;36mget_numbers_3\u001b[0;34m(text)\u001b[0m\n\u001b[1;32m     16\u001b[0m \u001b[0;32mdef\u001b[0m \u001b[0mget_numbers_3\u001b[0m\u001b[0;34m(\u001b[0m\u001b[0mtext\u001b[0m\u001b[0;34m)\u001b[0m\u001b[0;34m:\u001b[0m\u001b[0;34m\u001b[0m\u001b[0;34m\u001b[0m\u001b[0m\n\u001b[1;32m     17\u001b[0m   \u001b[0;34m\"\"\" Varianta cu RegEx \"\"\"\u001b[0m\u001b[0;34m\u001b[0m\u001b[0;34m\u001b[0m\u001b[0m\n\u001b[0;32m---> 18\u001b[0;31m   \u001b[0;32mreturn\u001b[0m \u001b[0mre\u001b[0m\u001b[0;34m.\u001b[0m\u001b[0mfindall\u001b[0m\u001b[0;34m(\u001b[0m\u001b[0;34mr\"\\d+\"\u001b[0m\u001b[0;34m,\u001b[0m \u001b[0mtext\u001b[0m\u001b[0;34m)\u001b[0m\u001b[0;34m\u001b[0m\u001b[0;34m\u001b[0m\u001b[0m\n\u001b[0m\u001b[1;32m     19\u001b[0m \u001b[0;34m\u001b[0m\u001b[0m\n\u001b[1;32m     20\u001b[0m \u001b[0;34m\u001b[0m\u001b[0m\n",
            "\u001b[0;31mNameError\u001b[0m: name 're' is not defined"
          ]
        }
      ]
    },
    {
      "cell_type": "code",
      "source": [
        "# TODO: Creeaza o lista cu toate cuvintele din text inafara de numere\n",
        "def filter_numbers(text):\n",
        "  return [token for token in word_tokenize(text) if not token.isdigit()]\n",
        "\n",
        "\n",
        "filter_numbers(text)"
      ],
      "metadata": {
        "id": "MkfpwWgZZ-AI",
        "outputId": "c167ac37-1cf3-411b-fa98-dda4ab58b53f",
        "colab": {
          "base_uri": "https://localhost:8080/"
        }
      },
      "execution_count": null,
      "outputs": [
        {
          "output_type": "execute_result",
          "data": {
            "text/plain": [
              "['yeaaaah',\n",
              " 'yippppy',\n",
              " '!',\n",
              " '!',\n",
              " '!',\n",
              " 'my',\n",
              " 'accnt',\n",
              " 'verified',\n",
              " 'rqst',\n",
              " 'has',\n",
              " 'succeed',\n",
              " 'got',\n",
              " 'a',\n",
              " 'blue',\n",
              " 'tick',\n",
              " 'mark',\n",
              " 'on',\n",
              " 'my',\n",
              " 'fb',\n",
              " 'profile',\n",
              " ':',\n",
              " ')',\n",
              " 'in',\n",
              " 'days']"
            ]
          },
          "metadata": {},
          "execution_count": 35
        }
      ]
    },
    {
      "cell_type": "markdown",
      "source": [
        "## Eliminarea semnelor de punctuatie\n",
        "\n",
        "Exista o librarie care deja contine toate semnele de punctuatie:"
      ],
      "metadata": {
        "id": "piTV6d9O8uG_"
      }
    },
    {
      "cell_type": "code",
      "source": [
        "from string import punctuation\n",
        "\n",
        "print(punctuation)"
      ],
      "metadata": {
        "colab": {
          "base_uri": "https://localhost:8080/"
        },
        "id": "Y6nY6Ca_bvr_",
        "outputId": "ba94d037-0161-49eb-91f5-e6827415b6bc"
      },
      "execution_count": null,
      "outputs": [
        {
          "output_type": "stream",
          "name": "stdout",
          "text": [
            "!\"#$%&'()*+,-./:;<=>?@[\\]^_`{|}~\n"
          ]
        }
      ]
    },
    {
      "cell_type": "markdown",
      "source": [
        "Elimina toate semnele de punctuatie din text:"
      ],
      "metadata": {
        "id": "L859kvPqcC-J"
      }
    },
    {
      "cell_type": "code",
      "source": [
        "# TODO: Creeaza o lista cu toate cuvintele din text inafara de semnele de punctuatie\n",
        "def filter_punctuation(text):\n",
        "  return [token for token in word_tokenize(text) if token not in punctuation]\n",
        "\n",
        "\n",
        "filter_punctuation(text)"
      ],
      "metadata": {
        "id": "Nr8nvT14cJq_",
        "outputId": "ded616dc-e316-41c2-ab98-06972ff6fd23",
        "colab": {
          "base_uri": "https://localhost:8080/"
        }
      },
      "execution_count": null,
      "outputs": [
        {
          "output_type": "execute_result",
          "data": {
            "text/plain": [
              "['yeaaaah',\n",
              " 'yippppy',\n",
              " 'my',\n",
              " 'accnt',\n",
              " 'verified',\n",
              " 'rqst',\n",
              " 'has',\n",
              " 'succeed',\n",
              " 'got',\n",
              " 'a',\n",
              " 'blue',\n",
              " 'tick',\n",
              " 'mark',\n",
              " 'on',\n",
              " 'my',\n",
              " 'fb',\n",
              " 'profile',\n",
              " 'in',\n",
              " '15',\n",
              " 'days']"
            ]
          },
          "metadata": {},
          "execution_count": 38
        }
      ]
    },
    {
      "cell_type": "markdown",
      "source": [
        "## Eliminarea linkurilor, tagurilor si mentiunilor\n",
        "\n",
        "Linkurile incep (de obicei) cu caracterele \"http\", tagurile cu \"#\" si mentiunile cu \"@\". Cum ne putem folosi de informatia asta pentru a le elimina din text?"
      ],
      "metadata": {
        "id": "9HJ7C9UrcORA"
      }
    },
    {
      "cell_type": "code",
      "source": [
        "# TODO: Elimina linkurile, tagurile si mentiunile din text\n",
        "text = \"@BhaktisBanter @PallaviRuhail This one is irresistible :)\\n#FlipkartFashionFriday http://t.co/EbZ0L2VENM\"\n",
        "\n",
        "def filter_other(text):\n",
        "  return re.sub(r\"(@|#|http)(\\w|:|/|\\.)*\", \"\", text)\n",
        "\n",
        "\n",
        "filter_other(text)"
      ],
      "metadata": {
        "id": "w-wsmugZcUlc",
        "outputId": "404f37b9-f059-47f8-c6d8-e34abd8c530b",
        "colab": {
          "base_uri": "https://localhost:8080/",
          "height": 36
        }
      },
      "execution_count": null,
      "outputs": [
        {
          "output_type": "execute_result",
          "data": {
            "text/plain": [
              "'  This one is irresistible :)\\n '"
            ],
            "application/vnd.google.colaboratory.intrinsic+json": {
              "type": "string"
            }
          },
          "metadata": {},
          "execution_count": 65
        }
      ]
    },
    {
      "cell_type": "markdown",
      "source": [
        "## Emoticoane & emojiuri\n",
        "\n",
        "Tokenizarea se bazează de obicei pe spații și punctuație, ceea ce înseamnă că nu știe să gestioneze emoticoanele. O variantă este să ne creăm propriul regex care să identifice simbolurile să să le înlocuiască cu emoția corespunzătoare.\n",
        "\n",
        "Un scurt exemplu:"
      ],
      "metadata": {
        "id": "izNSmtGue7gD"
      }
    },
    {
      "cell_type": "code",
      "source": [
        "emoticons = {\n",
        "    \"happy\": r\":[\\)|D+]\",\n",
        "    \"laugh\": r\":\\)\\)+\",\n",
        "    \"sad\": r\":\\(+\"\n",
        "}"
      ],
      "metadata": {
        "id": "JVKGAPTzKrwP"
      },
      "execution_count": null,
      "outputs": []
    },
    {
      "cell_type": "markdown",
      "source": [
        "Pentru emoticoane putem folosi biblioteca [emoji](https://pypi.org/project/emoji/):"
      ],
      "metadata": {
        "id": "dL_3jA0j-HrL"
      }
    },
    {
      "cell_type": "code",
      "source": [
        "!pip install emoji"
      ],
      "metadata": {
        "colab": {
          "base_uri": "https://localhost:8080/"
        },
        "id": "_2jGoaJnQUGD",
        "outputId": "0071f7f6-5086-4441-de28-0f40fd0064e5"
      },
      "execution_count": null,
      "outputs": [
        {
          "output_type": "stream",
          "name": "stdout",
          "text": [
            "Collecting emoji\n",
            "  Downloading emoji-2.11.0-py2.py3-none-any.whl (433 kB)\n",
            "\u001b[?25l     \u001b[90m━━━━━━━━━━━━━━━━━━━━━━━━━━━━━━━━━━━━━━━━\u001b[0m \u001b[32m0.0/433.8 kB\u001b[0m \u001b[31m?\u001b[0m eta \u001b[36m-:--:--\u001b[0m\r\u001b[2K     \u001b[91m━━━━━━━━━━━━━━━━━\u001b[0m\u001b[91m╸\u001b[0m\u001b[90m━━━━━━━━━━━━━━━━━━━━━━\u001b[0m \u001b[32m194.6/433.8 kB\u001b[0m \u001b[31m5.8 MB/s\u001b[0m eta \u001b[36m0:00:01\u001b[0m\r\u001b[2K     \u001b[91m━━━━━━━━━━━━━━━━━━━━━━━━━━━━━━━━━━━━━━━\u001b[0m\u001b[91m╸\u001b[0m \u001b[32m430.1/433.8 kB\u001b[0m \u001b[31m7.9 MB/s\u001b[0m eta \u001b[36m0:00:01\u001b[0m\r\u001b[2K     \u001b[90m━━━━━━━━━━━━━━━━━━━━━━━━━━━━━━━━━━━━━━━━\u001b[0m \u001b[32m433.8/433.8 kB\u001b[0m \u001b[31m5.8 MB/s\u001b[0m eta \u001b[36m0:00:00\u001b[0m\n",
            "\u001b[?25hInstalling collected packages: emoji\n",
            "Successfully installed emoji-2.11.0\n"
          ]
        }
      ]
    },
    {
      "cell_type": "code",
      "source": [
        "import emoji\n",
        "\n",
        "print(tweets[24])\n",
        "emoji.demojize(tweets[24])"
      ],
      "metadata": {
        "colab": {
          "base_uri": "https://localhost:8080/",
          "height": 53
        },
        "id": "MgVVPDioOeFx",
        "outputId": "93d31552-6015-4444-f813-00fc994a2f0f"
      },
      "execution_count": null,
      "outputs": [
        {
          "output_type": "stream",
          "name": "stdout",
          "text": [
            "💅🏽💋 - :)))) haven't seen you in years\n"
          ]
        },
        {
          "output_type": "execute_result",
          "data": {
            "text/plain": [
              "\":nail_polish_medium_skin_tone::kiss_mark: - :)))) haven't seen you in years\""
            ],
            "application/vnd.google.colaboratory.intrinsic+json": {
              "type": "string"
            }
          },
          "metadata": {},
          "execution_count": 68
        }
      ]
    },
    {
      "cell_type": "markdown",
      "source": [
        "## Eliminarea cuvintelor de legatura (stopwords)"
      ],
      "metadata": {
        "id": "PL8o18mSf7Fo"
      }
    },
    {
      "cell_type": "code",
      "source": [
        "from nltk.corpus import stopwords\n",
        "\n",
        "stop_words = stopwords.words('english')\n",
        "stop_words[:10]"
      ],
      "metadata": {
        "colab": {
          "base_uri": "https://localhost:8080/"
        },
        "id": "LISzqvjfgD98",
        "outputId": "9a461832-7410-461f-9c00-99993f71bd5c"
      },
      "execution_count": null,
      "outputs": [
        {
          "output_type": "execute_result",
          "data": {
            "text/plain": [
              "['i', 'me', 'my', 'myself', 'we', 'our', 'ours', 'ourselves', 'you', \"you're\"]"
            ]
          },
          "metadata": {},
          "execution_count": 69
        }
      ]
    },
    {
      "cell_type": "markdown",
      "source": [
        "Elimina toate cuvintele din text care se regasesc in lista de cuvinte de legatura:"
      ],
      "metadata": {
        "id": "g4XC4Lm6gbss"
      }
    },
    {
      "cell_type": "code",
      "source": [
        "# TODO: Elimina stopwords din text\n",
        "def filter_stopwords(text):\n",
        "  return ' '.join([token for token in word_tokenize(text) if token not in stop_words])\n",
        "\n",
        "filter_stopwords(text)"
      ],
      "metadata": {
        "id": "DZlrpdIggb4u",
        "outputId": "f74f09b1-1f71-4a5e-d07c-8483c7d796db",
        "colab": {
          "base_uri": "https://localhost:8080/",
          "height": 36
        }
      },
      "execution_count": null,
      "outputs": [
        {
          "output_type": "execute_result",
          "data": {
            "text/plain": [
              "'@ BhaktisBanter @ PallaviRuhail This one irresistible : ) # FlipkartFashionFriday http : //t.co/EbZ0L2VENM'"
            ],
            "application/vnd.google.colaboratory.intrinsic+json": {
              "type": "string"
            }
          },
          "metadata": {},
          "execution_count": 71
        }
      ]
    },
    {
      "cell_type": "markdown",
      "source": [
        "## Lematizare sau Stemming\n",
        "\n",
        "Ne amintim ca lematizarea aduce un cuvant la forma sa de dictionar, in timp ce stemmingul elimina o serie de prefixe / sufixe predefinite:"
      ],
      "metadata": {
        "id": "HmORcnTsgyV8"
      }
    },
    {
      "cell_type": "markdown",
      "source": [
        "![1_HLQgkMt5-g5WO5VpNuTl_g.jpeg](https://miro.medium.com/max/564/1*HLQgkMt5-g5WO5VpNuTl_g.jpeg)"
      ],
      "metadata": {
        "id": "gV_8FD4Jj8df"
      }
    },
    {
      "cell_type": "code",
      "source": [
        "from nltk.stem import WordNetLemmatizer\n",
        "\n",
        "lemmatizer = WordNetLemmatizer()\n",
        "\n",
        "print(\"leaves :\", lemmatizer.lemmatize(\"leaves\"))"
      ],
      "metadata": {
        "colab": {
          "base_uri": "https://localhost:8080/"
        },
        "id": "dVqVnRi0kOXP",
        "outputId": "15fdeb29-2a07-41e6-cb0e-fd0a1348e92d"
      },
      "execution_count": null,
      "outputs": [
        {
          "output_type": "stream",
          "name": "stdout",
          "text": [
            "leaves : leaf\n"
          ]
        }
      ]
    },
    {
      "cell_type": "code",
      "source": [
        "from nltk.stem import PorterStemmer\n",
        "\n",
        "stemmer = PorterStemmer()\n",
        "\n",
        "print(\"leaves :\", stemmer.stem(\"leaves\"))"
      ],
      "metadata": {
        "colab": {
          "base_uri": "https://localhost:8080/"
        },
        "id": "4VguW1v_kV6L",
        "outputId": "051c138f-8311-49f6-e988-fea9199083a1"
      },
      "execution_count": null,
      "outputs": [
        {
          "output_type": "stream",
          "name": "stdout",
          "text": [
            "leaves : leav\n"
          ]
        }
      ]
    },
    {
      "cell_type": "markdown",
      "source": [
        "# Exercitiu\n",
        "\n",
        "Creaza o functie care primeste un tweet ca parametru si returneaza o lista de cuvinte asupra carora am aplicat toate operatiile de preprocesare discutate până acum."
      ],
      "metadata": {
        "id": "_BbhEbABcXBN"
      }
    },
    {
      "cell_type": "code",
      "source": [
        "def preprocess(text):\n",
        "  return [lemmatizer.lemmatize(token.lower()) for token in emoji.demojize(text).split() \\\n",
        "          if not token.isdigit() and \\\n",
        "          token not in punctuation and \\\n",
        "          token[0] not in ['#', '@'] and token[:3] not in ['htt', 'www'] and \\\n",
        "          token not in stop_words]\n",
        "\n",
        "preprocess(text)"
      ],
      "metadata": {
        "id": "TbT0qgRkcmSp",
        "outputId": "8b13c830-fba4-41a2-a402-b5f6b52eef04",
        "colab": {
          "base_uri": "https://localhost:8080/"
        }
      },
      "execution_count": null,
      "outputs": [
        {
          "output_type": "execute_result",
          "data": {
            "text/plain": [
              "['this', 'one', 'irresistible', ':)']"
            ]
          },
          "metadata": {},
          "execution_count": 76
        }
      ]
    },
    {
      "cell_type": "markdown",
      "source": [
        "# Exercitiu\n",
        "\n",
        "Testează mai multe combinații de preprocesări și embeddings pe setul de date de azi folosind unul din modelele de data trecută."
      ],
      "metadata": {
        "id": "PLfjtrVxFu9r"
      }
    },
    {
      "cell_type": "code",
      "source": [],
      "metadata": {
        "id": "MFlXZfQoFu91"
      },
      "execution_count": null,
      "outputs": []
    }
  ]
}