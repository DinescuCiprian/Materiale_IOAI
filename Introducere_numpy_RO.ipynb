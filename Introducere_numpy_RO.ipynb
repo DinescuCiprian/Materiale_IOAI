{
  "nbformat": 4,
  "nbformat_minor": 0,
  "metadata": {
    "colab": {
      "provenance": []
    },
    "kernelspec": {
      "name": "python3",
      "display_name": "Python 3"
    }
  },
  "cells": [
    {
      "cell_type": "markdown",
      "metadata": {
        "id": "RD3nD_hyiN_J"
      },
      "source": [
        "<img src = 'https://drive.google.com/uc?id=1cPtoRUIVZ2jWaiIl8z1fm4R4V3kwQfZh\n",
        "' width=\"170\" height=\"190\" align = \"left\">\n",
        "# <font color = \"darkgreen\" > <b>Obiective</b></font>\n",
        "---\n",
        "\n",
        "În această lecție veți învăța despre:\n",
        "- pachetul `numpy`\n",
        "- tablouri multi-dimensionale\n",
        "- generarea numerelor aleatoare"
      ]
    },
    {
      "cell_type": "markdown",
      "metadata": {
        "id": "5kaw6FtQ-sdJ"
      },
      "source": [
        "\n",
        "\n",
        "\n",
        "\n",
        " |  |\n",
        " |---------|\n",
        " |<img src='https://drive.google.com/uc?id=1HV8Tdtn20fD2wdlz1hXrFRvgyQ-ZATIv' width=\"550\"  ><figcaption align = \"center\"> |"
      ]
    },
    {
      "cell_type": "markdown",
      "metadata": {
        "id": "TK_s931vVvwi"
      },
      "source": [
        "# Numpy\n",
        "\n",
        "\" `Numpy` este pachetul de bază pentru efectuararea operațiilor științifice în Python. El conține, printre altele:\n",
        "\n",
        "* un obiect de tip tablou N-dimensional\n",
        "* funcții complexe pentru manipularea tablourilor\n",
        "* elemente de algebră liniară [...] și  capacitatea de a lucra cu numere generate aleator\"\n",
        "( conform paginii oficiale [Numpy](https://numpy.org/))\n",
        "\n",
        "În ML se folosesc în mod frecvent tablourile multi-dimensionale și sunt efectuate diferite tipuri de operații matematice cu acestea. Librăria `PyTorch`, care poate fi folosită pentru lucrul cu rețele neuronale, se bazează pe `numpy`. Prin urmare, este necesar să vă familiarizați cu operațiile cu tablouri multidimensionale"
      ]
    },
    {
      "cell_type": "markdown",
      "metadata": {
        "id": "pcd3eZUVgnnj"
      },
      "source": [
        "#Lista atributelor/ funcțiilor `numpy` folosite\n",
        "\n",
        "| atribut/ funcție | descriere                                    |\n",
        "|------------------|----------------------------------------------|\n",
        "| len              | numărul de elemente al primei dimensiuni     |\n",
        "| dtype            | tipul elementelor tabloului (e.g. float/int) |\n",
        "| shape            | returnează un tuplu cu lungimea fiecărei dimensiuni din tablou      |\n",
        "| reshape          | modifică structura unui tablou               |\n",
        "| ndim             | numărul dimensiunilor tabloului              |\n",
        "| size             | numărul total de elemente                    |"
      ]
    },
    {
      "cell_type": "markdown",
      "metadata": {
        "id": "70iqihJBez8q"
      },
      "source": [
        "## Tablouri multidimensionale"
      ]
    },
    {
      "cell_type": "markdown",
      "metadata": {
        "id": "aKjG-izce5nJ"
      },
      "source": [
        "> Un tablou (`array`) este un set de date cu valori de același tip.\n",
        "\n",
        "Un tablou unidimensional (vector) ar putea fi format, de exemplu, din înălțimile tuturor elevilor dintr-o clasă: `[1.55, 1.78, 1.66, ...]`.\n",
        "\n",
        "Un tablou de tablouri (vector de vectori sau matrice) este un tablou bidimensional (2D).\n",
        "\n",
        "Un tablou de matrice este un tablou tridimensional (3D) ș.a.m.d.\n",
        "\n",
        ">Generalizând, numim un astfel de obiect *tablou multidimensional* ( chiar și în cazul tabloului cu dimensiunea 1 - care este considerat un caz particular al unui tablou multidimensional)\n"
      ]
    },
    {
      "cell_type": "markdown",
      "metadata": {
        "id": "zvSmdohxb9WT"
      },
      "source": [
        "În capitolul anterior am reprezentat grafic puncte 2D. Datele au fost memorate în liste separate: o lista pentru valorile de pe axa `Ox` și una pentru valorile de pe axa `Oy`.\n",
        "\n",
        "Putem obține același rezultat folosind un tablou 2D `numpy`.\n",
        "\n",
        "În continuare vom analiza câteva exemple de tablouri cu dimensiuni superioare.   \n",
        "\n",
        "\n",
        "---\n",
        "\n"
      ]
    },
    {
      "cell_type": "markdown",
      "metadata": {
        "id": "aRV6HkhNnRPL"
      },
      "source": [
        "Vom considera câțiva indicatori ai calității aerului din România (sursa datelor [aici](https://aqicn.org/data-platform/covid19/verify/01e7b854-cffe-4f1b-877f-c433665f9c42)).\n",
        "\n",
        "Putem reprezenta particulele ${PM_{10}}$ (particule cu diametru mai mic de 10 microni) care sunt periculoase pentru sistemul respirator.\n",
        "\n",
        "Vom folosi un tablou bidimensional (matrice): pe coloane memorăm locația, iar pe linii datele calendaristice în care au fost efectuate măsuratorile.\n",
        "\n",
        "Pentru a ține evidența mai multor indicatori, cum ar fi temperatura sau dioxidul de sulf (${SO_2}$), vom adăuga o a treia dimensiune și astfel se obține un tablou 3D.\n",
        "![table](https://drive.google.com/uc?export=view&id=1en9jkU2xk6tovCbTPX7yeb7SvXx8b1Z5)"
      ]
    },
    {
      "cell_type": "markdown",
      "metadata": {
        "id": "SsHZ-4LEw-iY"
      },
      "source": [
        "Să presupunem că vrem să calculam media aritmetică a valorilor ${PM_{10}}$ măsurate într-o zi în toate orașele sau media aritmetică a tuturor măsuratorilor efectuate pentru un anumit oraș.\n",
        "\n",
        "Veți vedea cum, folosindu-ne de tablouri `numpy`, efectuarea acestor calcule se face într-un mod extrem de ușor.\n",
        "\n",
        "Vom folosi și funcțiile din biblioteca `matplotlib` pentru o reprezentare grafică relevantă.\n"
      ]
    },
    {
      "cell_type": "markdown",
      "metadata": {
        "id": "UPiwbdRsevNa"
      },
      "source": [
        ">Pentru început, vom încărca datele despre calitatea aerului din fișierul `airqro.csv`.\n",
        "\n",
        "❗️❗️ Înainte, încărcați fișierul din folderul [resources](https://drive.google.com/drive/folders/1M9otFTE7NsY-zBa9CCOTnZLuXF3a9qEj?usp=sharing) în mașina virtuală."
      ]
    },
    {
      "cell_type": "markdown",
      "metadata": {
        "id": "C2-QdUgYW3_h"
      },
      "source": [
        "Datele din fișierul `.csv` vor fi extrase în liste de date:\n",
        "  - `locations`, pentru orașe\n",
        "  - `indicators`, pentru tipul de măsuratori: ${PM_{10}}$,  ${SO_2}$ și temperatură\n"
      ]
    },
    {
      "cell_type": "code",
      "source": [
        "# Avem date despre calitatea aerului pentru următoarele locații\n",
        "locations = [f'Arad', f'Bacău', f'Baia Mare', f'Brăila', f'Brașov', f'Bucharest',\n",
        "             f'Cluj-Napoca', f'Constanța', f'Craiova', f'Galați', f'Iași',\n",
        "             f'Oradea', f'Piteşti', f'Ploieşti', f'Râmnicu Vâlcea', f'Sibiu',\n",
        "             f'Timișoara']"
      ],
      "metadata": {
        "id": "vTqRGOR1qNzc"
      },
      "execution_count": null,
      "outputs": []
    },
    {
      "cell_type": "code",
      "metadata": {
        "id": "eRl1QMXPPscP"
      },
      "source": [
        "# We have air quality data for the following locations\n",
        "locations = [f'Arad', f'Bacău', f'Baia Mare', f'Brăila', f'Braşov', f'Bucharest',\n",
        "             f'Cluj-Napoca', f'Constanţa', f'Craiova', f'Galaţi',f'Iaşi',\n",
        "             f'Oradea', f'Piteşti', f'Ploieşti', f'Râmnicu Vâlcea', f'Sibiu',\n",
        "             f'Timişoara']"
      ],
      "execution_count": null,
      "outputs": []
    },
    {
      "cell_type": "code",
      "metadata": {
        "id": "BG8-PK8AAIzt"
      },
      "source": [
        "# Avem măsurători pentru următorii indicatori\n",
        "indicators = [f'pm10', f'so2', f'temperature']"
      ],
      "execution_count": null,
      "outputs": []
    },
    {
      "cell_type": "markdown",
      "metadata": {
        "id": "YdNBKLo8Xgrd"
      },
      "source": [
        "Fiecare linie a fișierului .csv conține: data, orașul, tipul indicatorului, valoarea măsurată.\n",
        "\n",
        "Datele sunt ordonate după indicator, apoi după oraș și dată.\n",
        "\n",
        "Există 62 de înregistrări zilnice pentru fiecare locație, un total de `3162` linii = `62` zile * `17` locații * `3` indicatori (pm10, so2, temperatură)\n",
        "\n",
        "Se vor crea 3 liste de date, câte una pentru fiecare indicator: `pm10_values, so2_values, temperature_values`\n"
      ]
    },
    {
      "cell_type": "code",
      "source": [
        "import csv\n",
        "num_days = 62\n",
        "num_locations = len(locations) # 17\n",
        "num_indicators = len(indicators) # 3\n",
        "fname = '/content/airqro.csv'\n",
        "pm10_values = []\n",
        "so2_values = []\n",
        "temperature_values = []\n",
        "def extract_values(inputs):\n",
        "  return float(inputs[-1])\n",
        "  num_lines = 0\n",
        "  with open(fname) as csvfile:\n",
        "    datareader = csv.reader(csvfile)\n",
        "    for row in datareader:\n",
        "      val = extract_value(row)\n",
        "      if 'pm10' in row:\n",
        "        pm10_values.append(val)\n",
        "      elif 'so2' in row:\n",
        "        so2_values.append(val)\n",
        "      else:\n",
        "        temperature_values.append(val)\n",
        "      num_lines = num_lines + 1\n",
        "    csvfile.close()\n",
        "  print(num_lines)\n"
      ],
      "metadata": {
        "id": "XPChIC5XtVyq"
      },
      "execution_count": null,
      "outputs": []
    },
    {
      "cell_type": "code",
      "metadata": {
        "colab": {
          "base_uri": "https://localhost:8080/"
        },
        "id": "rcISp63XQJ1N",
        "outputId": "635d0c13-10de-48a4-c22a-dfd455e7ee87"
      },
      "source": [
        "# Fiecare linie din fișierul csv conține: dată, oraș, indicator, valoare mediană.\n",
        "# Datele sunt sortate după indicator, apoi după oraș, apoi după dată.\n",
        "\"\"\"\n",
        "    Există 62 de citiri zilnice pe locație și pe indicator, pentru un total de\n",
        "3162 linii = 62 de zile * 17 locații * 3 indicatori (pm10, so2, temperatură)\n",
        "\"\"\"\n",
        "import csv\n",
        "num_days = 62\n",
        "num_locations = len(locations)  # 17\n",
        "num_indicators = len(indicators)  # 3\n",
        "fname = '/content/airqro.csv'\n",
        "pm10_values = []\n",
        "so2_values = []\n",
        "temperature_values = []\n",
        "\n",
        "# definiți o funcție pentru extragerea valorii indicatorului dintr-o linie din fișier\n",
        "def extract_value(inputs):\n",
        "  # valoarea dobânzii este pe ultima poziție; convertiți în număr\n",
        "  return float(inputs[-1])\n",
        "\n",
        "# vom citi valorile pentru fiecare indicator\n",
        "num_lines = 0\n",
        "with open(fname) as csvfile:\n",
        "  datareader = csv.reader(csvfile)\n",
        "  for row in datareader:\n",
        "    # extract numeric value from row and add it to the corresponding list\n",
        "    val = extract_value(row)\n",
        "    if 'pm10' in row:\n",
        "      pm10_values.append(val)\n",
        "    elif 'so2' in row:\n",
        "      so2_values.append(val)\n",
        "    else:\n",
        "      temperature_values.append(val)\n",
        "    num_lines += 1\n",
        "  csvfile.close()\n",
        "\n",
        "# tipăriți numărul de linii citite pentru a vă asigura că datele sunt cele așteptate\n",
        "print(num_lines)"
      ],
      "execution_count": null,
      "outputs": [
        {
          "output_type": "stream",
          "name": "stdout",
          "text": [
            "3162\n"
          ]
        }
      ]
    },
    {
      "cell_type": "code",
      "metadata": {
        "colab": {
          "base_uri": "https://localhost:8080/"
        },
        "id": "A-fyqigqHAiV",
        "outputId": "0b1f5013-ed44-4859-8c20-486f643eaf6e"
      },
      "source": [
        "from google.colab import drive\n",
        "drive.mount('/content/drive')"
      ],
      "execution_count": null,
      "outputs": [
        {
          "output_type": "stream",
          "name": "stdout",
          "text": [
            "Mounted at /content/drive\n"
          ]
        }
      ]
    },
    {
      "cell_type": "markdown",
      "metadata": {
        "id": "8gyUfY3NZefo"
      },
      "source": [
        "Verificăm numărul de elemente din fiecare listă creată. ( 62 de zile * 17 orașe = 1054 valori)"
      ]
    },
    {
      "cell_type": "code",
      "source": [
        "len(pm10_values)"
      ],
      "metadata": {
        "colab": {
          "base_uri": "https://localhost:8080/"
        },
        "id": "rrg2BbDY5uCc",
        "outputId": "7a3ef62a-e285-49fa-92eb-f790e69dc698"
      },
      "execution_count": null,
      "outputs": [
        {
          "output_type": "execute_result",
          "data": {
            "text/plain": [
              "0"
            ]
          },
          "metadata": {},
          "execution_count": 7
        }
      ]
    },
    {
      "cell_type": "code",
      "source": [
        "len(so2_values)"
      ],
      "metadata": {
        "colab": {
          "base_uri": "https://localhost:8080/"
        },
        "id": "8QmMZ80q50DU",
        "outputId": "92ed532e-f5b5-4370-99bf-add3633a7f82"
      },
      "execution_count": null,
      "outputs": [
        {
          "output_type": "execute_result",
          "data": {
            "text/plain": [
              "0"
            ]
          },
          "metadata": {},
          "execution_count": 8
        }
      ]
    },
    {
      "cell_type": "code",
      "source": [
        "len(temperature_values)"
      ],
      "metadata": {
        "colab": {
          "base_uri": "https://localhost:8080/"
        },
        "id": "6nV1Ebj856xl",
        "outputId": "de4c5677-a0ad-4dd8-9376-1dcfd634c514"
      },
      "execution_count": null,
      "outputs": [
        {
          "output_type": "execute_result",
          "data": {
            "text/plain": [
              "0"
            ]
          },
          "metadata": {},
          "execution_count": 9
        }
      ]
    },
    {
      "cell_type": "code",
      "metadata": {
        "colab": {
          "base_uri": "https://localhost:8080/"
        },
        "id": "sEN5SYUlEK9s",
        "outputId": "fcafae38-c9ee-4512-d019-f89e6175b8f8"
      },
      "source": [
        "# Check the number of elements in each list\n",
        "len(pm10_values)\n",
        "#len(so2_values)\n",
        "#len(temperature_values)"
      ],
      "execution_count": null,
      "outputs": [
        {
          "output_type": "execute_result",
          "data": {
            "text/plain": [
              "0"
            ]
          },
          "metadata": {},
          "execution_count": 10
        }
      ]
    },
    {
      "cell_type": "markdown",
      "metadata": {
        "id": "ypYUROCXGGys"
      },
      "source": [
        "## Crearea tablourilor `numpy` din listele de valori"
      ]
    },
    {
      "cell_type": "markdown",
      "metadata": {
        "id": "vnE4kewkZpy_"
      },
      "source": [
        "Pentru a lucra mai ușor cu datele, vom transfera valorile din liste în tablouri `numpy`"
      ]
    },
    {
      "cell_type": "code",
      "source": [
        "import numpy as np\n",
        "pm10_np = np.array(pm10_values)\n",
        "so2_np = np.array(so2_values)\n",
        "temperature_np = np.array(temperature_values)"
      ],
      "metadata": {
        "id": "OvySjiqqChTd"
      },
      "execution_count": null,
      "outputs": []
    },
    {
      "cell_type": "code",
      "metadata": {
        "id": "BVnQ24HWCqBw"
      },
      "source": [
        "# Vom crea acum matrice numpy din aceste liste pentru o manipulare mai ușoară\n",
        "import numpy as np\n",
        "pm10_np = np.array(pm10_values)\n",
        "so2_np = np.array(so2_values)\n",
        "temperature_np = np.array(temperature_values)"
      ],
      "execution_count": null,
      "outputs": []
    },
    {
      "cell_type": "markdown",
      "metadata": {
        "id": "zk3LGujaaQED"
      },
      "source": [
        " Se va afișa numărul de elemente ale primei dimensiuni `numpy` folosind atributul `shape`.\n",
        "\n",
        "\n",
        "> ❗️❗️❗️ `shape` afișează un *tuplu* de valori, fiecare element din tuplu reprezentând numărul de elemente al unei dimensiuni a tabloului.\n",
        "\n",
        "\n",
        "> Vă reamintim că ați învățat despre *tupluri* în `Python` în [ Lecția 7 - Tupluri](https://www.pyml.ro/lectia-07-tupluri-in-python-01.php)\n",
        "\n"
      ]
    },
    {
      "cell_type": "code",
      "metadata": {
        "colab": {
          "base_uri": "https://localhost:8080/"
        },
        "id": "Mlq57GNoDU8_",
        "outputId": "51edb9c3-c337-48b3-b9ca-0a6f9199471c"
      },
      "source": [
        "# Să vedem formele acestor matrice folosind atributul „shape”.\n",
        "pm10_np.shape"
      ],
      "execution_count": null,
      "outputs": [
        {
          "output_type": "execute_result",
          "data": {
            "text/plain": [
              "(0,)"
            ]
          },
          "metadata": {},
          "execution_count": 13
        }
      ]
    },
    {
      "cell_type": "code",
      "source": [
        "so2_np.shape"
      ],
      "metadata": {
        "colab": {
          "base_uri": "https://localhost:8080/"
        },
        "id": "xQK5GgQ4Gk4d",
        "outputId": "6034101d-9705-4959-8bbc-96b16a2161d5"
      },
      "execution_count": null,
      "outputs": [
        {
          "output_type": "execute_result",
          "data": {
            "text/plain": [
              "(0,)"
            ]
          },
          "metadata": {},
          "execution_count": 14
        }
      ]
    },
    {
      "cell_type": "code",
      "source": [
        "temperature_np.shape"
      ],
      "metadata": {
        "colab": {
          "base_uri": "https://localhost:8080/"
        },
        "id": "RpiPe4yZGrp5",
        "outputId": "fbe821b8-9a5c-4366-8ae8-fc95f2d4b7a2"
      },
      "execution_count": null,
      "outputs": [
        {
          "output_type": "execute_result",
          "data": {
            "text/plain": [
              "(0,)"
            ]
          },
          "metadata": {},
          "execution_count": 15
        }
      ]
    },
    {
      "cell_type": "markdown",
      "metadata": {
        "id": "n_XgbZ4Iags3"
      },
      "source": [
        "Afișăm primele 10 elemente ale tabloului `pm10_np`"
      ]
    },
    {
      "cell_type": "code",
      "metadata": {
        "colab": {
          "base_uri": "https://localhost:8080/"
        },
        "id": "XNmUBzLkBC1X",
        "outputId": "eecd3b1f-3f34-4d4a-b3a7-3ffe53de2142"
      },
      "source": [
        "pm10_np[:10]"
      ],
      "execution_count": null,
      "outputs": [
        {
          "output_type": "execute_result",
          "data": {
            "text/plain": [
              "array([], dtype=float64)"
            ]
          },
          "metadata": {},
          "execution_count": 16
        }
      ]
    },
    {
      "cell_type": "markdown",
      "source": [
        "Afișam primele 10 elemente ale tabloului so2_np"
      ],
      "metadata": {
        "id": "ZUJZ0RgvG6jF"
      }
    },
    {
      "cell_type": "code",
      "source": [
        "so2_np [ : 10 ]"
      ],
      "metadata": {
        "colab": {
          "base_uri": "https://localhost:8080/"
        },
        "id": "--feQekEG1GF",
        "outputId": "13e5daa8-769b-43df-bc6e-ec087bfeac68"
      },
      "execution_count": null,
      "outputs": [
        {
          "output_type": "execute_result",
          "data": {
            "text/plain": [
              "array([], dtype=float64)"
            ]
          },
          "metadata": {},
          "execution_count": 17
        }
      ]
    },
    {
      "cell_type": "markdown",
      "source": [
        "Afișăm primele 10 elemente ale tabloului temperature_np"
      ],
      "metadata": {
        "id": "He3aNLWBHL9R"
      }
    },
    {
      "cell_type": "code",
      "source": [
        "temperature_np [ : 10 ]"
      ],
      "metadata": {
        "colab": {
          "base_uri": "https://localhost:8080/"
        },
        "id": "nUGKgM8aHBrO",
        "outputId": "39b5af3d-8e5b-4adf-f110-da58f6c822ca"
      },
      "execution_count": null,
      "outputs": [
        {
          "output_type": "execute_result",
          "data": {
            "text/plain": [
              "array([], dtype=float64)"
            ]
          },
          "metadata": {},
          "execution_count": 18
        }
      ]
    },
    {
      "cell_type": "markdown",
      "metadata": {
        "id": "YByHEXjDarJK"
      },
      "source": [
        "Vedem tipul elementelor tabloului `pm10_np` folosind atributul `dtype`"
      ]
    },
    {
      "cell_type": "code",
      "metadata": {
        "colab": {
          "base_uri": "https://localhost:8080/"
        },
        "id": "G6ZKDebHE-e6",
        "outputId": "d31e67c4-6679-41cd-b28b-568d1d5bdaeb"
      },
      "source": [
        "# Verificați tipul folosind atributul „dtype”.\n",
        "pm10_np.dtype"
      ],
      "execution_count": null,
      "outputs": [
        {
          "output_type": "execute_result",
          "data": {
            "text/plain": [
              "dtype('float64')"
            ]
          },
          "metadata": {},
          "execution_count": 19
        }
      ]
    },
    {
      "cell_type": "code",
      "source": [
        "so2_np.dtype"
      ],
      "metadata": {
        "colab": {
          "base_uri": "https://localhost:8080/"
        },
        "id": "5MulJ5HuHdFY",
        "outputId": "3cda8342-8cca-42f7-c985-db9b911626bd"
      },
      "execution_count": null,
      "outputs": [
        {
          "output_type": "execute_result",
          "data": {
            "text/plain": [
              "dtype('float64')"
            ]
          },
          "metadata": {},
          "execution_count": 20
        }
      ]
    },
    {
      "cell_type": "code",
      "source": [
        "temperature_np.dtype"
      ],
      "metadata": {
        "colab": {
          "base_uri": "https://localhost:8080/"
        },
        "id": "NjznNAc6Hfzl",
        "outputId": "802c29c2-47e1-4bcb-d990-8a775f2af03e"
      },
      "execution_count": null,
      "outputs": [
        {
          "output_type": "execute_result",
          "data": {
            "text/plain": [
              "dtype('float64')"
            ]
          },
          "metadata": {},
          "execution_count": 21
        }
      ]
    },
    {
      "cell_type": "markdown",
      "metadata": {
        "id": "I9pfDHfJbEZn"
      },
      "source": [
        "Vom modifica structura tablourilor, adăugand coloana pentru locație, fără a modifica datele existente.\n",
        "Vom folosi funcția `reshape` cu parametrul  `order ='F'`, parcurgerea efectuându-se pe linie."
      ]
    },
    {
      "cell_type": "code",
      "source": [
        "so2_np = so2_np.reshape([num_days, num_locations], order='F')"
      ],
      "metadata": {
        "id": "FG8b4JzhINuc",
        "colab": {
          "base_uri": "https://localhost:8080/",
          "height": 141
        },
        "outputId": "d9f67705-87c2-4cba-c0dd-9aea56f17112"
      },
      "execution_count": null,
      "outputs": [
        {
          "output_type": "error",
          "ename": "ValueError",
          "evalue": "cannot reshape array of size 0 into shape (62,17)",
          "traceback": [
            "\u001b[0;31m---------------------------------------------------------------------------\u001b[0m",
            "\u001b[0;31mValueError\u001b[0m                                Traceback (most recent call last)",
            "\u001b[0;32m<ipython-input-33-fafeb5ea0d49>\u001b[0m in \u001b[0;36m<cell line: 1>\u001b[0;34m()\u001b[0m\n\u001b[0;32m----> 1\u001b[0;31m \u001b[0mso2_np\u001b[0m \u001b[0;34m=\u001b[0m \u001b[0mso2_np\u001b[0m\u001b[0;34m.\u001b[0m\u001b[0mreshape\u001b[0m\u001b[0;34m(\u001b[0m\u001b[0;34m[\u001b[0m\u001b[0mnum_days\u001b[0m\u001b[0;34m,\u001b[0m \u001b[0mnum_locations\u001b[0m\u001b[0;34m]\u001b[0m\u001b[0;34m,\u001b[0m \u001b[0morder\u001b[0m\u001b[0;34m=\u001b[0m\u001b[0;34m'F'\u001b[0m\u001b[0;34m)\u001b[0m\u001b[0;34m\u001b[0m\u001b[0;34m\u001b[0m\u001b[0m\n\u001b[0m",
            "\u001b[0;31mValueError\u001b[0m: cannot reshape array of size 0 into shape (62,17)"
          ]
        }
      ]
    },
    {
      "cell_type": "code",
      "source": [
        "temperature_np = temperature_np.reshape([num_days, num_locations], order = 'F')"
      ],
      "metadata": {
        "id": "EOYVsfkiIbDS",
        "colab": {
          "base_uri": "https://localhost:8080/",
          "height": 158
        },
        "outputId": "06629226-3c79-4a33-83d8-c9bb955360d4"
      },
      "execution_count": null,
      "outputs": [
        {
          "output_type": "error",
          "ename": "ValueError",
          "evalue": "cannot reshape array of size 0 into shape (62,17)",
          "traceback": [
            "\u001b[0;31m---------------------------------------------------------------------------\u001b[0m",
            "\u001b[0;31mValueError\u001b[0m                                Traceback (most recent call last)",
            "\u001b[0;32m<ipython-input-29-89266dea7143>\u001b[0m in \u001b[0;36m<cell line: 1>\u001b[0;34m()\u001b[0m\n\u001b[0;32m----> 1\u001b[0;31m \u001b[0mtemperature_np\u001b[0m \u001b[0;34m=\u001b[0m \u001b[0mtemperature_np\u001b[0m\u001b[0;34m.\u001b[0m\u001b[0mreshape\u001b[0m\u001b[0;34m(\u001b[0m\u001b[0;34m[\u001b[0m\u001b[0mnum_days\u001b[0m\u001b[0;34m,\u001b[0m \u001b[0mnum_locations\u001b[0m\u001b[0;34m]\u001b[0m\u001b[0;34m,\u001b[0m \u001b[0morder\u001b[0m \u001b[0;34m=\u001b[0m \u001b[0;34m'F'\u001b[0m\u001b[0;34m)\u001b[0m\u001b[0;34m\u001b[0m\u001b[0;34m\u001b[0m\u001b[0m\n\u001b[0m",
            "\u001b[0;31mValueError\u001b[0m: cannot reshape array of size 0 into shape (62,17)"
          ]
        }
      ]
    },
    {
      "cell_type": "code",
      "metadata": {
        "id": "mA8oveiDEfu1"
      },
      "source": [
        "\"\"\"\n",
        "    Să remodelăm fiecare matrice pentru a avea fiecare locație ca o nouă coloană;\n",
        "noi vom folosi „reshape” cu parametrul de ordine = „F”, astfel încât prima\n",
        "dimensiune (rândul) de modificări cel mai rapid\"\n",
        "\"\"\"\n",
        "pm10_np = pm10_np.reshape([num_days, num_locations], order='F')"
      ],
      "execution_count": null,
      "outputs": []
    },
    {
      "cell_type": "markdown",
      "metadata": {
        "id": "SAwqHbwUZC2m"
      },
      "source": [
        "Afișăm primele 10 valori pentru prima locație."
      ]
    },
    {
      "cell_type": "code",
      "metadata": {
        "id": "PYqE2qj7BT_c"
      },
      "source": [
        "pm10_np[:10, 0]"
      ],
      "execution_count": null,
      "outputs": []
    },
    {
      "cell_type": "code",
      "source": [
        "so2_np[: 10, 0]"
      ],
      "metadata": {
        "id": "FZfSKOTTIpbl"
      },
      "execution_count": null,
      "outputs": []
    },
    {
      "cell_type": "code",
      "source": [
        "temperature_np[: 10, 0]"
      ],
      "metadata": {
        "id": "uDDWHmTRIvvO"
      },
      "execution_count": null,
      "outputs": []
    },
    {
      "cell_type": "markdown",
      "metadata": {
        "id": "iWm0LE4CmUhh"
      },
      "source": [
        "Verifcăm din nou numărul elementelor din prima dimensiune a tabloului ( 62 de înregistrări pentru 17 orașe)"
      ]
    },
    {
      "cell_type": "code",
      "metadata": {
        "id": "sYonVshWFjPz"
      },
      "source": [
        "# Verificați din nou forma\n",
        "pm10_np.shape"
      ],
      "execution_count": null,
      "outputs": []
    },
    {
      "cell_type": "code",
      "source": [
        "so2_np.shape"
      ],
      "metadata": {
        "id": "EYFA5g1nJw4l"
      },
      "execution_count": null,
      "outputs": []
    },
    {
      "cell_type": "code",
      "source": [
        "temperature_np.shape"
      ],
      "metadata": {
        "id": "srM0eolWJy8V"
      },
      "execution_count": null,
      "outputs": []
    },
    {
      "cell_type": "code",
      "metadata": {
        "id": "2hbdmC0XG2Bo"
      },
      "source": [
        "\"\"\"\n",
        "    Rețineți că am fi putut furniza doar o dimensiune ca aceasta:\n",
        "pm10_np = pm10_np.reshape([num_days, -1]), iar interpretul deduce singur\n",
        "dimensiunea lipsă, așa cum cunoaște numărul total de elemente din matrice și\n",
        "dimensiunea unei dimensiuni.\n",
        "\"\"\""
      ],
      "execution_count": null,
      "outputs": []
    },
    {
      "cell_type": "markdown",
      "metadata": {
        "id": "m0u1tGN_GQQb"
      },
      "source": [
        "## Indexarea în tablourile `numpy`"
      ]
    },
    {
      "cell_type": "markdown",
      "metadata": {
        "id": "v0hagbfdlw06"
      },
      "source": [
        "`pm10_np[:, 0]` va afișa valorile din prima locație ( prima coloană)"
      ]
    },
    {
      "cell_type": "code",
      "metadata": {
        "id": "JhKvpK5iFt94"
      },
      "source": [
        "# Să afișam valorile pentru prima locație.\n",
        "pm10_np[:, 0]  # print all the values on the first column"
      ],
      "execution_count": null,
      "outputs": []
    },
    {
      "cell_type": "markdown",
      "metadata": {
        "id": "nbaYtFcVmkDQ"
      },
      "source": [
        "Afișarea valorilor măsurate pentru toate locațiile, în prima zi."
      ]
    },
    {
      "cell_type": "code",
      "metadata": {
        "id": "MxqeLsHnGYb4"
      },
      "source": [
        "# Tipăriți valorile pentru toate locațiile pentru prima zi\n",
        "pm10_np[0]  # aceasta este echivalentă cu scrierea pm10_np[0, :]"
      ],
      "execution_count": null,
      "outputs": []
    },
    {
      "cell_type": "markdown",
      "metadata": {
        "id": "e4NkjLWNmxJC"
      },
      "source": [
        "Afișarea valorilor măsurate pentru toate locațiile, în ultima zi."
      ]
    },
    {
      "cell_type": "code",
      "source": [
        "temperature_np[-1]"
      ],
      "metadata": {
        "id": "rdGbt3GtLn6M"
      },
      "execution_count": null,
      "outputs": []
    },
    {
      "cell_type": "code",
      "source": [
        "so2_np[-1]"
      ],
      "metadata": {
        "id": "vSeOe7JnLlS9"
      },
      "execution_count": null,
      "outputs": []
    },
    {
      "cell_type": "code",
      "metadata": {
        "colab": {
          "base_uri": "https://localhost:8080/",
          "height": 158
        },
        "id": "BzXXJfwVGwcW",
        "outputId": "ba420006-c9f8-4f7b-d6b4-0e02d7156908"
      },
      "source": [
        "# Tipăriți valorile pentru toate locațiile pentru ultima zi\n",
        "pm10_np[-1]"
      ],
      "execution_count": null,
      "outputs": [
        {
          "output_type": "error",
          "ename": "IndexError",
          "evalue": "index -1 is out of bounds for axis 0 with size 0",
          "traceback": [
            "\u001b[0;31m---------------------------------------------------------------------------\u001b[0m",
            "\u001b[0;31mIndexError\u001b[0m                                Traceback (most recent call last)",
            "\u001b[0;32m<ipython-input-23-533a734a43fc>\u001b[0m in \u001b[0;36m<cell line: 2>\u001b[0;34m()\u001b[0m\n\u001b[1;32m      1\u001b[0m \u001b[0;31m# Tipăriți valorile pentru toate locațiile pentru ultima zi\u001b[0m\u001b[0;34m\u001b[0m\u001b[0;34m\u001b[0m\u001b[0m\n\u001b[0;32m----> 2\u001b[0;31m \u001b[0mpm10_np\u001b[0m\u001b[0;34m[\u001b[0m\u001b[0;34m-\u001b[0m\u001b[0;36m1\u001b[0m\u001b[0;34m]\u001b[0m\u001b[0;34m\u001b[0m\u001b[0;34m\u001b[0m\u001b[0m\n\u001b[0m",
            "\u001b[0;31mIndexError\u001b[0m: index -1 is out of bounds for axis 0 with size 0"
          ]
        }
      ]
    },
    {
      "cell_type": "markdown",
      "metadata": {
        "id": "TKOJjiSLm4Iw"
      },
      "source": [
        "Afișarea valorilor măsurate pentru ultima locație, în primele 7 zile."
      ]
    },
    {
      "cell_type": "code",
      "metadata": {
        "id": "eB3Z-vQrJRt0"
      },
      "source": [
        "# Tipăriți valorile pentru ultima locație, pentru primele șapte zile\n",
        "pm10_np[:7, -1]"
      ],
      "execution_count": null,
      "outputs": []
    },
    {
      "cell_type": "code",
      "source": [
        "so2_np[:7 -1]"
      ],
      "metadata": {
        "id": "BRBWtdVTMT_9"
      },
      "execution_count": null,
      "outputs": []
    },
    {
      "cell_type": "code",
      "source": [
        "temperature_np[:7, -1]"
      ],
      "metadata": {
        "id": "6LyZfZkbMeP3"
      },
      "execution_count": null,
      "outputs": []
    },
    {
      "cell_type": "markdown",
      "metadata": {
        "id": "mfHIippbnCBv"
      },
      "source": [
        "Afișarea valorilor măsurate pentru a treia locație, în toate zilele.\n",
        "În comentariu verificăm dimensiunea pentru a fi siguri că numărul de elemente este cel corect."
      ]
    },
    {
      "cell_type": "code",
      "metadata": {
        "id": "H0sNz75OLWn6"
      },
      "source": [
        "# Accesați valorile din a treia locație o dată la două zile\n",
        "pm10_np[::2, 2]\n",
        "\n",
        "# Verificați forma pentru a vă asigura că are numărul de elemente la care vă așteptați\n"
      ],
      "execution_count": null,
      "outputs": []
    },
    {
      "cell_type": "code",
      "source": [
        "pm10_np[::2, 2].shape"
      ],
      "metadata": {
        "id": "UFmkvI3LOCNP"
      },
      "execution_count": null,
      "outputs": []
    },
    {
      "cell_type": "code",
      "metadata": {
        "id": "SjnczsWr9bwF"
      },
      "source": [
        "pm10_np[:10, 0]"
      ],
      "execution_count": null,
      "outputs": []
    },
    {
      "cell_type": "markdown",
      "metadata": {
        "id": "oMzTf_CBJs9k"
      },
      "source": [
        "## Indexarea cu valori logice (boolean)"
      ]
    },
    {
      "cell_type": "markdown",
      "metadata": {
        "id": "6hqKtRxfbrkr"
      },
      "source": [
        "Ne propunem să aflăm în câte zile valoarile măsurate pentru pm10 sunt peste un anumit prag. Vom atribui pragului o valoare pentru ca apoi să generăm o mască logică pentru fiecare index."
      ]
    },
    {
      "cell_type": "code",
      "metadata": {
        "id": "NhZx1ZxPJjhK"
      },
      "source": [
        "# Să presupunem că vrem să știm în câte zile valoarea pm10 a fost peste unele\n",
        "# prag critic.\n",
        "# Definiți pragul\n",
        "th = 60\n",
        "# Generați o mască booleană pentru a indexa matricea\n",
        "bmask = pm10_np>th"
      ],
      "execution_count": null,
      "outputs": []
    },
    {
      "cell_type": "markdown",
      "metadata": {
        "id": "kbBME-FMclKj"
      },
      "source": [
        "Afișăm valorile, după aplicarea măștii logice"
      ]
    },
    {
      "cell_type": "code",
      "metadata": {
        "id": "5alKHUx6Ki8V"
      },
      "source": [
        "# imprimați masca pentru a vedea cum arată\n",
        "bmask"
      ],
      "execution_count": null,
      "outputs": []
    },
    {
      "cell_type": "markdown",
      "metadata": {
        "id": "FKE3Eo75c42i"
      },
      "source": [
        "Pentru a număra zilele în care a fost depășit pragul, însumăm valorile din masca logică. `False` va avea valoarea 0 și `True` valoarea 1"
      ]
    },
    {
      "cell_type": "code",
      "metadata": {
        "id": "Nin2YFSSKsIV"
      },
      "source": [
        "\n",
        "# Pentru a număra numărul de zile peste prag, putem însuma peste mască.\n",
        "# Fals va fi considerat 0 și Adevărat este 1.\n",
        "bmask.sum()"
      ],
      "execution_count": null,
      "outputs": []
    },
    {
      "cell_type": "markdown",
      "metadata": {
        "id": "avix2k8sdRh7"
      },
      "source": [
        "Pentru a vedea valorile care depășesc pragul:"
      ]
    },
    {
      "cell_type": "code",
      "metadata": {
        "id": "I-3WkzOlLDU9"
      },
      "source": [
        "# Pentru a vedea efectiv valorile:\n",
        "pm10_np[bmask]"
      ],
      "execution_count": null,
      "outputs": []
    },
    {
      "cell_type": "code",
      "source": [
        "so2_np[bmask]"
      ],
      "metadata": {
        "id": "2Ssn14CPP-OZ"
      },
      "execution_count": null,
      "outputs": []
    },
    {
      "cell_type": "markdown",
      "metadata": {
        "id": "tjZjO1lQHiQP"
      },
      "source": [
        "## Cozile și tablourile `numpy`"
      ]
    },
    {
      "cell_type": "markdown",
      "metadata": {
        "id": "YgGjAs_qdZxz"
      },
      "source": [
        "Pentru simplificare, putem crea un singur tablou multi-dimensional pentru toți indicatorii. Vom folosi o strcutură de tip stivă pentru crearea unui tablou tridimensional. Pentru aceasta, trebuie să specificăm dimensiunea la care ne raportăm în crearea stivei, folosind parametrul `axis`.\n",
        "Se va genera o eroare deoarece cele 3 tablouri pe care încercăm să le adăugăm în stivă nu au aceeași lungime (`shape`)"
      ]
    },
    {
      "cell_type": "code",
      "metadata": {
        "id": "i3Ij9l9jGATs"
      },
      "source": [
        "\"\"\"\n",
        "    Pentru comoditate, putem crea o singură matrice multi-dim pentru toți\n",
        "indicatorii folosind „stiva” pentru a crea o matrice 3D. Trebuie să indicăm\n",
        "dimensiunea de-a lungul căruia să stivuiți folosind parametrul „axa”.\n",
        "(acest lucru are ca rezultat o eroare, vezi mai jos)\n",
        "\"\"\"\n",
        "all_vals = np.stack([pm10_np, so2_np, temperature_np], axis=-1)"
      ],
      "execution_count": null,
      "outputs": []
    },
    {
      "cell_type": "markdown",
      "metadata": {
        "id": "-85cuXxue0gq"
      },
      "source": [
        "Vom modifica tablourile `so2_np` și `temperature_np` pentru a avea aceeași structură cu a tabloului `pm10_np`"
      ]
    },
    {
      "cell_type": "code",
      "metadata": {
        "id": "D3n56d1HIfbu"
      },
      "source": [
        "\"\"\"\n",
        "    Cele de mai sus au ca rezultat o eroare, deoarece tablourile pe care încercăm\n",
        "să le stivuim nu au aceeași formă. Mai întâi trebuie să remodelăm „so2_np”,\n",
        "„temperature_np”, pentru a avea aceeași formă ca pm10_np.\n",
        "\"\"\"\n",
        "so2_np = so2_np.reshape([-1, num_locations], order='F')\n",
        "temperature_np = temperature_np.reshape([num_days, -1], order='F')"
      ],
      "execution_count": null,
      "outputs": []
    },
    {
      "cell_type": "markdown",
      "metadata": {
        "id": "r6QGMnvafbY5"
      },
      "source": [
        "Modificarea se poate face și direct, prin copierea structurii."
      ]
    },
    {
      "cell_type": "code",
      "metadata": {
        "id": "VBL_E2EpL-SS"
      },
      "source": [
        "\"\"\"\n",
        "    Rețineți că am fi putut folosi și acest lucru, deoarece dorim ca aceste\n",
        "matrice să aibă aceeași formă\n",
        "\"\"\"\n",
        "so2_np = so2_np.reshape(pm10_np.shape)"
      ],
      "execution_count": null,
      "outputs": []
    },
    {
      "cell_type": "markdown",
      "metadata": {
        "id": "71g53eVjfmGx"
      },
      "source": [
        "Acum putem adăuga valorile în stivă."
      ]
    },
    {
      "cell_type": "code",
      "metadata": {
        "id": "Dh5nV7JEI4vb"
      },
      "source": [
        "# Acum încercați din nou să stivuiți\n",
        "all_vals = np.stack([pm10_np, so2_np, temperature_np], axis=-1)"
      ],
      "execution_count": null,
      "outputs": []
    },
    {
      "cell_type": "markdown",
      "metadata": {
        "id": "aAZeXKdvfxdC"
      },
      "source": [
        "O verificare a structurii ne va arată 62 de zile, pentru 17 orașe si 3 indicatori."
      ]
    },
    {
      "cell_type": "code",
      "metadata": {
        "id": "mkkjaOGqIRwZ"
      },
      "source": [
        "# Verificați forma\n",
        "all_vals.shape"
      ],
      "execution_count": null,
      "outputs": []
    },
    {
      "cell_type": "markdown",
      "metadata": {
        "id": "WDTM-E0fMftO"
      },
      "source": [
        "## Operații cu dimensiuni"
      ]
    },
    {
      "cell_type": "markdown",
      "metadata": {
        "id": "WJUwnMBvf-wE"
      },
      "source": [
        "După adăugarea în stivă, putem efectua seturi suplimentare de calcule."
      ]
    },
    {
      "cell_type": "markdown",
      "metadata": {
        "id": "nHy55J3ngUoZ"
      },
      "source": [
        "\n",
        "\n",
        "> Media aritmetică a valorilor ${PM_{10}}$  în toate orașele, pentru toate zilele:\n",
        "\n"
      ]
    },
    {
      "cell_type": "code",
      "metadata": {
        "id": "K6zAcRkoMc4p"
      },
      "source": [
        "# Să vedem media pentru toate nivelurile pm10 din toate orașele în toate zilele\n",
        "np.mean(all_vals[:, :, 0])"
      ],
      "execution_count": null,
      "outputs": []
    },
    {
      "cell_type": "markdown",
      "metadata": {
        "id": "Xh_ne5L1gljX"
      },
      "source": [
        ">Media artimetică a valorilor ${PM_{10}}$  pentru fiecare oraș:"
      ]
    },
    {
      "cell_type": "code",
      "metadata": {
        "id": "ukXeemw8M5m0"
      },
      "source": [
        "# Let's see the average over all pm10 levels in every city\n",
        "np.mean(all_vals[:, :, 0], axis=0)"
      ],
      "execution_count": null,
      "outputs": []
    },
    {
      "cell_type": "markdown",
      "metadata": {
        "id": "YYt1RrVPguHR"
      },
      "source": [
        ">Cele mai mari valori înregistrate în fiecare oraș:"
      ]
    },
    {
      "cell_type": "code",
      "metadata": {
        "id": "Luk-f4xNOq-e"
      },
      "source": [
        "# Să vedem media pentru toate nivelurile pm10 din fiecare oraș\n",
        "np.max(all_vals[:, :, 0], axis=0)"
      ],
      "execution_count": null,
      "outputs": []
    },
    {
      "cell_type": "markdown",
      "metadata": {
        "id": "SN60jDDEJwS6"
      },
      "source": [
        "## Vizualizare"
      ]
    },
    {
      "cell_type": "markdown",
      "metadata": {
        "id": "hs-3jt8mg6nY"
      },
      "source": [
        "Vom reprezenta grafic valorile ${PM_{10}}$ înregistrate pentru toate locațiile, în toate zilele: folosim culori deschise pentru valorile mari și culori mai închise pentru valorile scăzute."
      ]
    },
    {
      "cell_type": "code",
      "metadata": {
        "id": "Ydb7ds4LR5kd"
      },
      "source": [
        "\"\"\"\n",
        "    Putem reprezenta datele pentru toate locațiile în toate zilele pentru a\n",
        "avea o vedere globală. Utilizarea „fierbinte” ca hartă de culori va desena în\n",
        "culori strălucitoare valorile mari și în culori închise valorile scăzute.\n",
        "\"\"\"\n",
        "import matplotlib.pyplot as plt\n",
        "plt.imshow(pm10_np, cmap='hot', interpolation='nearest')\n",
        "plt.xlabel('Locations')\n",
        "plt.ylabel('Days')\n",
        "plt.title('PM10 between end of December 2020 and end of February 2021')\n",
        "plt.show()"
      ],
      "execution_count": null,
      "outputs": []
    },
    {
      "cell_type": "markdown",
      "metadata": {
        "id": "HdUakGLyhqJw"
      },
      "source": [
        "Reprezentarea pentru ${SO_2}$ este:"
      ]
    },
    {
      "cell_type": "code",
      "source": [
        "plt.imshow(so2_np,cmap='hot', interpolation='nearest')\n",
        "plt.xlabel('Locations')\n",
        "plt.ylabel('Days')\n",
        "plt.title('SO2 between end of December 2020 and end of February 2021')\n",
        "plt.show()"
      ],
      "metadata": {
        "id": "cER2s-zLVIv-"
      },
      "execution_count": null,
      "outputs": []
    },
    {
      "cell_type": "code",
      "source": [
        "plt.imshow(temperature_np, cmap='hot', interpolation='nearest')\n",
        "plt.xlabel('Locations')\n",
        "plt.ylabel('Days')\n",
        "plt.title('Temperature between and of December 2020 and end of February 2021')\n",
        "plt.show()"
      ],
      "metadata": {
        "id": "Rk6-knCzWWR7"
      },
      "execution_count": null,
      "outputs": []
    },
    {
      "cell_type": "code",
      "metadata": {
        "id": "e0wVSCjIFEYU"
      },
      "source": [
        "# să ne uităm la nivelurile de SO2\n",
        "plt.imshow(so2_np, cmap='hot', interpolation='nearest')\n",
        "plt.xlabel('Locations')\n",
        "plt.ylabel('Days')\n",
        "plt.title('SO2 between end of December 2020 and end of February 2021')\n",
        "plt.show()"
      ],
      "execution_count": null,
      "outputs": []
    },
    {
      "cell_type": "markdown",
      "metadata": {
        "id": "Oxs7AMmmhvCg"
      },
      "source": [
        "Reprezentarea pentru temperatură:"
      ]
    },
    {
      "cell_type": "code",
      "metadata": {
        "id": "i7APYNavDDka"
      },
      "source": [
        "# să ne uităm și la temperatură\n",
        "plt.imshow(temperature_np, cmap='hot', interpolation='nearest')\n",
        "plt.xlabel('Locations')\n",
        "plt.ylabel('Days')\n",
        "plt.title('Temperature between end of December 2020 and end of February 2021')\n",
        "plt.show()"
      ],
      "execution_count": null,
      "outputs": []
    },
    {
      "cell_type": "markdown",
      "metadata": {
        "id": "hIW31zhKFRVf"
      },
      "source": [
        "Se poate observa o coloana atipică în reprezentarea de mai sus. Aceasta corespunde orașului Brașov, valorile fiind într-adevăr eronate, probabil din cauza unui senzor defect.\n",
        "\n",
        "Analiza reprezentării grafice face posibilă identificare mai rapidă a erorilor pentru a le corecta."
      ]
    },
    {
      "cell_type": "markdown",
      "metadata": {
        "id": "wuhbKr5Ji4xS"
      },
      "source": [
        "Vom reprezenta grafic, cu ajutorul culorilor, valorile *sigure* (în nuanțe de albastru-verde) și pe cele *periculoase* (culoare roșie).\n",
        "De exemplu, pentru ${PM_{10}}$, legislația UE consideră că valorile mai mici de 40 de microni sunt sigure."
      ]
    },
    {
      "cell_type": "code",
      "metadata": {
        "id": "0OtwD9HZNxJT"
      },
      "source": [
        "#@title Personalizarea culorilor din hărți\n",
        "# Clasa de ajutor pentru a ne permite să setăm nivelurile de culoare pe care\n",
        "# le dorim, adică să spunem când o valoare este periculoasă.\n",
        "\n",
        "import matplotlib.colors as colors\n",
        "# 'matplotlib.colors' este importat pentru a extinde funcționalitățile de normalizare a culorilor.\n",
        "class MidpointNormalize(colors.Normalize):\n",
        "# Aceasta clasă extinde colors.Normalize.\n",
        "\n",
        "\t\"\"\"\n",
        "\t\tNormalizați bara de culori, astfel încât barele divergente să funcționeze\n",
        "pe fiecare parte o valoare de mijloc prescrisă)\n",
        "\te.g. im=ax1.imshow(array, norm=MidpointNormalize(midpoint=0.,vmin=-100, vmax=100))\n",
        "\t\"\"\"\n",
        "\tdef __init__(self, vmin=None, vmax=None, midpoint=None, clip=False):\n",
        "\t# 'vmin', 'vmax', 'midpoint' și 'clip' sunt parametri care definesc intervalul\n",
        "# și punctul de mijloc pentru normalizare.\n",
        "\t\tself.midpoint = midpoint\n",
        "\t\t# 'self.midpoint' este stocat pentru a fi utilizat în funcția 'call'.\n",
        "\t\tcolors.Normalize.__init__(self, vmin, vmax, clip)\n",
        "\t\t# Constructorul părintelui colors.Normalize este apelat pentru a inițializa\n",
        "# restul parametrilor.\n",
        "\n",
        "\tdef __call__(self, value, clip=None):\n",
        "\t\t# Ignor valorile mascate și tot felul de cazuri marginale pentru a face a\n",
        "# un exemplu simplu...\n",
        "\t\tx, y = [self.vmin, self.midpoint, self.vmax], [0, 0.5, 1]\n",
        "\t\t\"\"\"\n",
        "\t\t\t- x și y definesc punctele de referință pentru normalizare: ['self.vmin',\n",
        "'self.midpoint', 'self.vmax'] și [0, 0.5, 1]. Asta înseamnă că 'self.vmin' va\n",
        "fi mapat la 0, 'self.midpoint' va fi mapat la 0.5, iar 'self.vmax' va fi mapat la 1.\n",
        "\t\t\"\"\"\n",
        "\t\t# np.interp(value, x, y) efectuează interpolarea liniară a valorilor.\n",
        "\t\t# np.ma.masked_array(..., np.isnan(value)) maschează valorile NaN.\n",
        "\t\treturn np.ma.masked_array(np.interp(value, x, y), np.isnan(value))"
      ],
      "execution_count": null,
      "outputs": []
    },
    {
      "cell_type": "code",
      "metadata": {
        "id": "iOEFZZeYJ9MV"
      },
      "source": [
        "# plt.imshow(pm10_np, cmap='seismic', interpolation='nearest')\n",
        "plt.imshow(pm10_np, cmap='seismic', norm=MidpointNormalize(midpoint=40))\n",
        "plt.xlabel('Locations')\n",
        "plt.ylabel('Days')\n",
        "plt.title('PM10 between end of December 2020 and end of February 2021')\n",
        "plt.show()"
      ],
      "execution_count": null,
      "outputs": []
    },
    {
      "cell_type": "markdown",
      "metadata": {
        "id": "wSMZX8k8leOB"
      },
      "source": [
        "Afișarea datelor pentru un anumit oraș: București - al șaselea în lista"
      ]
    },
    {
      "cell_type": "code",
      "source": [
        "import datetime\n",
        "points = pm10_np[:, 5]\n",
        "mask_safe = np.array(points < 40)\n",
        "mask_unsafe = np.array(points >= 40)\n",
        "plt.bar(np.array(range(len(points)))[mask_safe], points[mask_safe], width=0.4, color='b')\n",
        "plt.bar(np.array(range(len(points)))[mask_unsafe], points[mask_unsafe], width=0.4, color='r')\n",
        "plt.title('PM10 values in Bucharest')\n",
        "plt.show()"
      ],
      "metadata": {
        "colab": {
          "base_uri": "https://localhost:8080/",
          "height": 228
        },
        "id": "mGQ18dhyF0i2",
        "outputId": "7982b85e-0813-4b3a-a7ca-e938bc0af216"
      },
      "execution_count": null,
      "outputs": [
        {
          "output_type": "error",
          "ename": "IndexError",
          "evalue": "too many indices for array: array is 1-dimensional, but 2 were indexed",
          "traceback": [
            "\u001b[0;31m---------------------------------------------------------------------------\u001b[0m",
            "\u001b[0;31mIndexError\u001b[0m                                Traceback (most recent call last)",
            "\u001b[0;32m<ipython-input-30-71db853d9d98>\u001b[0m in \u001b[0;36m<cell line: 2>\u001b[0;34m()\u001b[0m\n\u001b[1;32m      1\u001b[0m \u001b[0;32mimport\u001b[0m \u001b[0mdatetime\u001b[0m\u001b[0;34m\u001b[0m\u001b[0;34m\u001b[0m\u001b[0m\n\u001b[0;32m----> 2\u001b[0;31m \u001b[0mpoints\u001b[0m \u001b[0;34m=\u001b[0m \u001b[0mpm10_np\u001b[0m\u001b[0;34m[\u001b[0m\u001b[0;34m:\u001b[0m\u001b[0;34m,\u001b[0m \u001b[0;36m5\u001b[0m\u001b[0;34m]\u001b[0m\u001b[0;34m\u001b[0m\u001b[0;34m\u001b[0m\u001b[0m\n\u001b[0m\u001b[1;32m      3\u001b[0m \u001b[0mmask_safe\u001b[0m \u001b[0;34m=\u001b[0m \u001b[0mnp\u001b[0m\u001b[0;34m.\u001b[0m\u001b[0marray\u001b[0m\u001b[0;34m(\u001b[0m\u001b[0mpoints\u001b[0m \u001b[0;34m<\u001b[0m \u001b[0;36m40\u001b[0m\u001b[0;34m)\u001b[0m\u001b[0;34m\u001b[0m\u001b[0;34m\u001b[0m\u001b[0m\n\u001b[1;32m      4\u001b[0m \u001b[0mmask_unsafe\u001b[0m \u001b[0;34m=\u001b[0m \u001b[0mnp\u001b[0m\u001b[0;34m.\u001b[0m\u001b[0marray\u001b[0m\u001b[0;34m(\u001b[0m\u001b[0mpoints\u001b[0m \u001b[0;34m>=\u001b[0m \u001b[0;36m40\u001b[0m\u001b[0;34m)\u001b[0m\u001b[0;34m\u001b[0m\u001b[0;34m\u001b[0m\u001b[0m\n\u001b[1;32m      5\u001b[0m \u001b[0mplt\u001b[0m\u001b[0;34m.\u001b[0m\u001b[0mbar\u001b[0m\u001b[0;34m(\u001b[0m\u001b[0mnp\u001b[0m\u001b[0;34m.\u001b[0m\u001b[0marray\u001b[0m\u001b[0;34m(\u001b[0m\u001b[0mrange\u001b[0m\u001b[0;34m(\u001b[0m\u001b[0mlen\u001b[0m\u001b[0;34m(\u001b[0m\u001b[0mpoints\u001b[0m\u001b[0;34m)\u001b[0m\u001b[0;34m)\u001b[0m\u001b[0;34m)\u001b[0m\u001b[0;34m[\u001b[0m\u001b[0mmask_safe\u001b[0m\u001b[0;34m]\u001b[0m\u001b[0;34m,\u001b[0m \u001b[0mpoints\u001b[0m\u001b[0;34m[\u001b[0m\u001b[0mmask_safe\u001b[0m\u001b[0;34m]\u001b[0m\u001b[0;34m,\u001b[0m \u001b[0mwidth\u001b[0m\u001b[0;34m=\u001b[0m\u001b[0;36m0.4\u001b[0m\u001b[0;34m,\u001b[0m \u001b[0mcolor\u001b[0m\u001b[0;34m=\u001b[0m\u001b[0;34m'b'\u001b[0m\u001b[0;34m)\u001b[0m\u001b[0;34m\u001b[0m\u001b[0;34m\u001b[0m\u001b[0m\n",
            "\u001b[0;31mIndexError\u001b[0m: too many indices for array: array is 1-dimensional, but 2 were indexed"
          ]
        }
      ]
    },
    {
      "cell_type": "code",
      "metadata": {
        "id": "YFxW4FvUPkZN",
        "colab": {
          "base_uri": "https://localhost:8080/",
          "height": 245
        },
        "outputId": "46b30610-eb4b-401b-f8f6-2edfb2c22fe6"
      },
      "source": [
        "# reprezentați grafic valorile pentru un anumit oraș, de ex. București, locul 6 în top\n",
        "import datetime\n",
        "points = pm10_np[:, 5]\n",
        "# pentru a afișa cu roșu zilele cu valori periculoase, folosim indexarea booleană\n",
        "mask_safe = np.array(points < 40)\n",
        "mask_unsafe = np.array(points >= 40)\n",
        "plt.bar(np.array(range(len(points)))[mask_safe], points[mask_safe], width=0.4, color='b')\n",
        "plt.bar(np.array(range(len(points)))[mask_unsafe], points[mask_unsafe], width=0.4, color='r')\n",
        "plt.title('PM10 values in Bucharest')\n",
        "plt.show()"
      ],
      "execution_count": null,
      "outputs": [
        {
          "output_type": "error",
          "ename": "IndexError",
          "evalue": "too many indices for array: array is 1-dimensional, but 2 were indexed",
          "traceback": [
            "\u001b[0;31m---------------------------------------------------------------------------\u001b[0m",
            "\u001b[0;31mIndexError\u001b[0m                                Traceback (most recent call last)",
            "\u001b[0;32m<ipython-input-31-20449f4cce4f>\u001b[0m in \u001b[0;36m<cell line: 3>\u001b[0;34m()\u001b[0m\n\u001b[1;32m      1\u001b[0m \u001b[0;31m# reprezentați grafic valorile pentru un anumit oraș, de ex. București, locul 6 în top\u001b[0m\u001b[0;34m\u001b[0m\u001b[0;34m\u001b[0m\u001b[0m\n\u001b[1;32m      2\u001b[0m \u001b[0;32mimport\u001b[0m \u001b[0mdatetime\u001b[0m\u001b[0;34m\u001b[0m\u001b[0;34m\u001b[0m\u001b[0m\n\u001b[0;32m----> 3\u001b[0;31m \u001b[0mpoints\u001b[0m \u001b[0;34m=\u001b[0m \u001b[0mpm10_np\u001b[0m\u001b[0;34m[\u001b[0m\u001b[0;34m:\u001b[0m\u001b[0;34m,\u001b[0m \u001b[0;36m0\u001b[0m\u001b[0;34m]\u001b[0m\u001b[0;34m\u001b[0m\u001b[0;34m\u001b[0m\u001b[0m\n\u001b[0m\u001b[1;32m      4\u001b[0m \u001b[0;31m# pentru a afișa cu roșu zilele cu valori periculoase, folosim indexarea booleană\u001b[0m\u001b[0;34m\u001b[0m\u001b[0;34m\u001b[0m\u001b[0m\n\u001b[1;32m      5\u001b[0m \u001b[0mmask_safe\u001b[0m \u001b[0;34m=\u001b[0m \u001b[0mnp\u001b[0m\u001b[0;34m.\u001b[0m\u001b[0marray\u001b[0m\u001b[0;34m(\u001b[0m\u001b[0mpoints\u001b[0m \u001b[0;34m<\u001b[0m \u001b[0;36m40\u001b[0m\u001b[0;34m)\u001b[0m\u001b[0;34m\u001b[0m\u001b[0;34m\u001b[0m\u001b[0m\n",
            "\u001b[0;31mIndexError\u001b[0m: too many indices for array: array is 1-dimensional, but 2 were indexed"
          ]
        }
      ]
    },
    {
      "cell_type": "markdown",
      "metadata": {
        "id": "UoltChYlnvrn"
      },
      "source": [
        "Afișarea detelor pentru Arad, primul în listă:"
      ]
    },
    {
      "cell_type": "code",
      "metadata": {
        "id": "QaOk-7uJXTGp",
        "colab": {
          "base_uri": "https://localhost:8080/",
          "height": 211
        },
        "outputId": "a967f260-a9f9-4152-f902-0efe122c685f"
      },
      "source": [
        "# compară asta cu de ex. Arad, locul 1 pe listă\n",
        "import datetime\n",
        "points = pm10_np[:, 0]\n",
        "mask_safe = np.array(points < 40)\n",
        "mask_unsafe = np.array(points >= 40)\n",
        "plt.bar(np.array(range(len(points)))[mask_safe], points[mask_safe], width=0.4, color='b')\n",
        "plt.bar(np.array(range(len(points)))[mask_unsafe], points[mask_unsafe], width=0.4, color='r')\n",
        "plt.title('PM10 values in Arad')\n",
        "plt.show()"
      ],
      "execution_count": null,
      "outputs": [
        {
          "output_type": "error",
          "ename": "IndexError",
          "evalue": "too many indices for array: array is 1-dimensional, but 2 were indexed",
          "traceback": [
            "\u001b[0;31m---------------------------------------------------------------------------\u001b[0m",
            "\u001b[0;31mIndexError\u001b[0m                                Traceback (most recent call last)",
            "\u001b[0;32m<ipython-input-32-1f8e54c9e8d4>\u001b[0m in \u001b[0;36m<cell line: 3>\u001b[0;34m()\u001b[0m\n\u001b[1;32m      1\u001b[0m \u001b[0;31m# compară asta cu de ex. Arad, locul 1 pe listă\u001b[0m\u001b[0;34m\u001b[0m\u001b[0;34m\u001b[0m\u001b[0m\n\u001b[1;32m      2\u001b[0m \u001b[0;32mimport\u001b[0m \u001b[0mdatetime\u001b[0m\u001b[0;34m\u001b[0m\u001b[0;34m\u001b[0m\u001b[0m\n\u001b[0;32m----> 3\u001b[0;31m \u001b[0mpoints\u001b[0m \u001b[0;34m=\u001b[0m \u001b[0mpm10_np\u001b[0m\u001b[0;34m[\u001b[0m\u001b[0;34m:\u001b[0m\u001b[0;34m,\u001b[0m \u001b[0;36m0\u001b[0m\u001b[0;34m]\u001b[0m\u001b[0;34m\u001b[0m\u001b[0;34m\u001b[0m\u001b[0m\n\u001b[0m\u001b[1;32m      4\u001b[0m \u001b[0mmask_safe\u001b[0m \u001b[0;34m=\u001b[0m \u001b[0mnp\u001b[0m\u001b[0;34m.\u001b[0m\u001b[0marray\u001b[0m\u001b[0;34m(\u001b[0m\u001b[0mpoints\u001b[0m \u001b[0;34m<\u001b[0m \u001b[0;36m40\u001b[0m\u001b[0;34m)\u001b[0m\u001b[0;34m\u001b[0m\u001b[0;34m\u001b[0m\u001b[0m\n\u001b[1;32m      5\u001b[0m \u001b[0mmask_unsafe\u001b[0m \u001b[0;34m=\u001b[0m \u001b[0mnp\u001b[0m\u001b[0;34m.\u001b[0m\u001b[0marray\u001b[0m\u001b[0;34m(\u001b[0m\u001b[0mpoints\u001b[0m \u001b[0;34m>=\u001b[0m \u001b[0;36m40\u001b[0m\u001b[0;34m)\u001b[0m\u001b[0;34m\u001b[0m\u001b[0;34m\u001b[0m\u001b[0m\n",
            "\u001b[0;31mIndexError\u001b[0m: too many indices for array: array is 1-dimensional, but 2 were indexed"
          ]
        }
      ]
    },
    {
      "cell_type": "markdown",
      "metadata": {
        "id": "V9CfirIvS5oh"
      },
      "source": [
        "## Temă\n",
        "Fiind date coordonatele (latitudine, longitudine) mai multor locații, să se creeze și să se afișeze o hartă pentru diferiți indicatori"
      ]
    },
    {
      "cell_type": "code",
      "metadata": {
        "id": "AydCRH7WJH4P"
      },
      "source": [
        "# locations latitude and longitude\n",
        "locations = {}\n",
        "locations[f'Ploiești'] = (44.9333, 26.0333)\n",
        "locations[f'Craiova'] = (44.3193, 23.8006)\n",
        "locations[f'Bacău'] = (46.5688, 26.9160)\n",
        "locations[f'Râmnicu Vâlcea'] = (45.0997, 24.3693)\n",
        "locations[f'Sibiu'] = (45.7936, 24.1213)\n",
        "locations[f'Timișoara'] = (45.7606, 21.2267)\n",
        "locations[f'Piteşti'] = (44.8565, 24.8692)\n",
        "locations[f'Arad'] = (46.1866, 21.3123)\n",
        "locations[f'Cluj-Napoca'] = (46.7704, 23.5914)\n",
        "locations[f'Bucharest'] = (44.4396, 26.0963)\n",
        "locations[f'Baia Mare'] = (47.6567, 23.5850)\n",
        "locations[f'Oradea'] = (47.0465, 21.9189)\n",
        "locations[f'Galaţi'] = (45.4353, 28.0080)\n",
        "locations[f'Brașov'] = (45.6579, 25.6011)\n",
        "locations[f'Iași'] = (47.1635, 27.5825)\n",
        "locations[f'Constanţa'] = (44.1598, 28.6348)\n",
        "locations[f'Brăila'] = (45.2652, 27.9595)"
      ],
      "execution_count": null,
      "outputs": []
    },
    {
      "cell_type": "markdown",
      "metadata": {
        "id": "bSNi0aLs03J1"
      },
      "source": [
        "# Mai multe despre `numpy`"
      ]
    },
    {
      "cell_type": "markdown",
      "metadata": {
        "id": "-91CbFsHdlut"
      },
      "source": [
        "##Broadcasting"
      ]
    },
    {
      "cell_type": "code",
      "metadata": {
        "id": "5sAv_Vb2qWzG"
      },
      "source": [
        "# Importarea bibliotecii 'numpy'\n",
        "import numpy as np\n",
        "# Crearea unui array numpy bidimensional:\n",
        "ar = np.array([\n",
        "    [0, 1],\n",
        "    [6, 2]\n",
        "])"
      ],
      "execution_count": null,
      "outputs": []
    },
    {
      "cell_type": "markdown",
      "metadata": {
        "id": "ZfhEISUy2PWD"
      },
      "source": [
        "Termenul *broadcasting* se referă la abilitatea `NumPy` de a lucra cu tablouri de diferite dimensiuni în cadrul operațiilor aritmetice. În matematică, calculele sunt posibile între tablouri de aceleași dimensiuni. În Python, dacă două tablouri nu au aceeași dimensiune, operația se va efectua prin adaptarea dimensiunilor astfel încât să devină posibilă efectuarea calculului aritmetic."
      ]
    },
    {
      "cell_type": "code",
      "metadata": {
        "id": "GLCN0umLxuLv",
        "colab": {
          "base_uri": "https://localhost:8080/"
        },
        "outputId": "6cdee2ac-40e8-49b7-c4f6-7eef49cc3254"
      },
      "source": [
        "\"\"\"\n",
        "    Funcția np.minimum din biblioteca numpy compară elementele unui array cu un\n",
        "alt array sau cu o valoare scalară și returnează un nou array care conține\n",
        "valorile minime din aceste comparații. În acest caz, fiecare element din array-ul\n",
        "ar va fi comparat cu valoarea scalară 3.5.\n",
        "\"\"\"\n",
        "np.minimum(ar, 3.5)"
      ],
      "execution_count": null,
      "outputs": [
        {
          "output_type": "execute_result",
          "data": {
            "text/plain": [
              "array([[0. , 1. ],\n",
              "       [3.5, 2. ]])"
            ]
          },
          "metadata": {},
          "execution_count": 36
        }
      ]
    },
    {
      "cell_type": "markdown",
      "metadata": {
        "id": "Kmq7Yf_73GgC"
      },
      "source": [
        "Numpy convertește automat valoarea numerică `3.5` într-un tablou cu aceeași dimensiune cu a tabloului `ar`. Transformarea este necesară pentru a putea calcula valoarea minimă.\n",
        "\n",
        "\n",
        "![table](https://drive.google.com/uc?export=view&id=174Yjs08xsE4Rz7dt2k5CFT8wy7ppddSY)\n"
      ]
    },
    {
      "cell_type": "markdown",
      "metadata": {
        "id": "vkM1cL-pBrEE"
      },
      "source": [
        "Conversia implicită poate scuti scrierea liniilor de cod, dar în cazuri mai complexe trebuie să se înțeleagă bine regulile aplicate.\n",
        "\n",
        "Câteva referințe puteți găsi la:\n",
        "\n",
        "* [Pagina Numpy despre conversie - broadcasting](https://docs.scipy.org/doc/numpy-1.13.0/user/basics.broadcasting.html)\n",
        "* [Broadcasting cu exemple vizuale](http://scipy.github.io/old-wiki/pages/EricsBroadcastingDoc)\n",
        "\n"
      ]
    },
    {
      "cell_type": "markdown",
      "metadata": {
        "id": "whACLAjPrLpI"
      },
      "source": [
        ">În continuare vom oferi câteva exemple utile de conversii."
      ]
    },
    {
      "cell_type": "code",
      "metadata": {
        "id": "S52hBSnG5JRa",
        "colab": {
          "base_uri": "https://localhost:8080/"
        },
        "outputId": "7b9dc299-66e6-464a-cc88-dea80f24db08"
      },
      "source": [
        "# Centrarea matricei noastre.\n",
        "print('centered array:\\n', ar - np.mean(ar))"
      ],
      "execution_count": null,
      "outputs": [
        {
          "output_type": "stream",
          "name": "stdout",
          "text": [
            "centered array:\n",
            " [[-2.25 -1.25]\n",
            " [ 3.75 -0.25]]\n"
          ]
        }
      ]
    },
    {
      "cell_type": "markdown",
      "metadata": {
        "id": "mS5IDFrA6ig3"
      },
      "source": [
        "Observați că `np.mean()`, deși este o valoare numerică, este scăzută automat din fiecare element al tabloului.\n"
      ]
    },
    {
      "cell_type": "markdown",
      "metadata": {
        "id": "KzlVmOY_FPhQ"
      },
      "source": [
        "Putem defini propria funcție pentru calculul valorii minime."
      ]
    },
    {
      "cell_type": "code",
      "metadata": {
        "id": "zatGgBsOFNdF",
        "colab": {
          "base_uri": "https://localhost:8080/"
        },
        "outputId": "55c58047-a314-45a3-f7d6-0559866545e4"
      },
      "source": [
        "clipped_ar = ar.copy()  # So that ar is not modified.\n",
        "clipped_ar[clipped_ar > 3.5] = 3.5\n",
        "clipped_ar"
      ],
      "execution_count": null,
      "outputs": [
        {
          "output_type": "execute_result",
          "data": {
            "text/plain": [
              "array([[0, 1],\n",
              "       [3, 2]])"
            ]
          },
          "metadata": {},
          "execution_count": 38
        }
      ]
    },
    {
      "cell_type": "markdown",
      "metadata": {
        "id": "SnDqUDgtFyF5"
      },
      "source": [
        "Ce se execută:\n",
        "\n",
        "1. 3.5 este distribuit în relația de inegalitate (>)\n",
        "2. Operatorul > definește un selector care va extrage o submulțime ce respectă condiția >.\n",
        "3. 3.5 a fost distribuit la numărul corect de elemente în atribuire."
      ]
    },
    {
      "cell_type": "markdown",
      "metadata": {
        "id": "QzLtiYXUFN5P"
      },
      "source": [
        "Vectorii pot fi convertiți în matrice."
      ]
    },
    {
      "cell_type": "code",
      "metadata": {
        "id": "n2gv3YVf5JZL",
        "colab": {
          "base_uri": "https://localhost:8080/"
        },
        "outputId": "832a943b-282d-497c-9577-0de5d58a090f"
      },
      "source": [
        "vec = np.array([1, 2])\n",
        "ar + vec"
      ],
      "execution_count": null,
      "outputs": [
        {
          "output_type": "execute_result",
          "data": {
            "text/plain": [
              "array([[1, 3],\n",
              "       [7, 4]])"
            ]
          },
          "metadata": {},
          "execution_count": 39
        }
      ]
    },
    {
      "cell_type": "markdown",
      "metadata": {
        "id": "7ehzlV8J75ar"
      },
      "source": [
        "Dimensiunile tablourilor sunt:\n",
        "```\n",
        "ar     (2d array):  2 x 2\n",
        "vec    (1d array):      2\n",
        "Result (2d array):  2 x 2\n",
        "```\n",
        "\n",
        "Când oricare din dimensiunile comparate este 1 ( chiar și implicit, ca în cazul tabloului `vec`), se folosește cealaltă dimensiune. Altfel spus, dimnensiunile egale cu 1 sunt ajustate sau copiate astfel încât să se potrivească celorlalte dimensiuni .\n",
        "\n",
        "în cazul de mai sus, linia `[1, 2]` se repetă de mai multe ori pentru a se potrivi numărului de linii din `ar`, pentru ca apoi să se efectueze adunarea."
      ]
    },
    {
      "cell_type": "markdown",
      "metadata": {
        "id": "bBLjzt84A2ZL"
      },
      "source": [
        "Dacă va fi o neconcordanță între dimensiuni, compilarorul va genera eroare.  \n"
      ]
    },
    {
      "cell_type": "markdown",
      "metadata": {
        "id": "k16RSwa2C5TA"
      },
      "source": [
        "Decomentatți linia de mai jos și rulați programul."
      ]
    },
    {
      "cell_type": "code",
      "metadata": {
        "id": "sViqTRjXAWhN",
        "colab": {
          "base_uri": "https://localhost:8080/",
          "height": 141
        },
        "outputId": "4ac34842-a9c8-439a-8ce2-ef555972bcc5"
      },
      "source": [
        "ar + np.array([[1, 2, 3]])"
      ],
      "execution_count": null,
      "outputs": [
        {
          "output_type": "error",
          "ename": "ValueError",
          "evalue": "operands could not be broadcast together with shapes (2,2) (1,3) ",
          "traceback": [
            "\u001b[0;31m---------------------------------------------------------------------------\u001b[0m",
            "\u001b[0;31mValueError\u001b[0m                                Traceback (most recent call last)",
            "\u001b[0;32m<ipython-input-40-ab7d71987e53>\u001b[0m in \u001b[0;36m<cell line: 1>\u001b[0;34m()\u001b[0m\n\u001b[0;32m----> 1\u001b[0;31m \u001b[0mar\u001b[0m \u001b[0;34m+\u001b[0m \u001b[0mnp\u001b[0m\u001b[0;34m.\u001b[0m\u001b[0marray\u001b[0m\u001b[0;34m(\u001b[0m\u001b[0;34m[\u001b[0m\u001b[0;34m[\u001b[0m\u001b[0;36m1\u001b[0m\u001b[0;34m,\u001b[0m \u001b[0;36m2\u001b[0m\u001b[0;34m,\u001b[0m \u001b[0;36m3\u001b[0m\u001b[0;34m]\u001b[0m\u001b[0;34m]\u001b[0m\u001b[0;34m)\u001b[0m\u001b[0;34m\u001b[0m\u001b[0;34m\u001b[0m\u001b[0m\n\u001b[0m",
            "\u001b[0;31mValueError\u001b[0m: operands could not be broadcast together with shapes (2,2) (1,3) "
          ]
        }
      ]
    },
    {
      "cell_type": "markdown",
      "metadata": {
        "id": "K4pvND75AWuG"
      },
      "source": [
        "#### Exercițiu\n",
        "\n",
        "Transformați și însumați vectorul `[10, 20, 30]` în concordanță cu coloanele din tabloul `ar`.\n",
        "\n",
        "Ar trebui să obțineți un rezultat similar cu:\n",
        "```\n",
        "array([[10. , 10.2],\n",
        "       [20.9, 20.5],\n",
        "       [30.3, 30.7]])\n",
        " ```\n"
      ]
    },
    {
      "cell_type": "code",
      "metadata": {
        "id": "gS1X9kt6_pLW",
        "colab": {
          "base_uri": "https://localhost:8080/",
          "height": 158
        },
        "outputId": "e0c9bd65-958f-44b4-985d-2903ced3dc3b"
      },
      "source": [
        "vec = np.array([[10], [20], [30]])\n",
        "ar + vec"
      ],
      "execution_count": null,
      "outputs": [
        {
          "output_type": "error",
          "ename": "ValueError",
          "evalue": "operands could not be broadcast together with shapes (2,2) (3,1) ",
          "traceback": [
            "\u001b[0;31m---------------------------------------------------------------------------\u001b[0m",
            "\u001b[0;31mValueError\u001b[0m                                Traceback (most recent call last)",
            "\u001b[0;32m<ipython-input-41-f9b03c1da909>\u001b[0m in \u001b[0;36m<cell line: 2>\u001b[0;34m()\u001b[0m\n\u001b[1;32m      1\u001b[0m \u001b[0mvec\u001b[0m \u001b[0;34m=\u001b[0m \u001b[0mnp\u001b[0m\u001b[0;34m.\u001b[0m\u001b[0marray\u001b[0m\u001b[0;34m(\u001b[0m\u001b[0;34m[\u001b[0m\u001b[0;34m[\u001b[0m\u001b[0;36m10\u001b[0m\u001b[0;34m]\u001b[0m\u001b[0;34m,\u001b[0m \u001b[0;34m[\u001b[0m\u001b[0;36m20\u001b[0m\u001b[0;34m]\u001b[0m\u001b[0;34m,\u001b[0m \u001b[0;34m[\u001b[0m\u001b[0;36m30\u001b[0m\u001b[0;34m]\u001b[0m\u001b[0;34m]\u001b[0m\u001b[0;34m)\u001b[0m\u001b[0;34m\u001b[0m\u001b[0;34m\u001b[0m\u001b[0m\n\u001b[0;32m----> 2\u001b[0;31m \u001b[0mar\u001b[0m \u001b[0;34m+\u001b[0m \u001b[0mvec\u001b[0m\u001b[0;34m\u001b[0m\u001b[0;34m\u001b[0m\u001b[0m\n\u001b[0m",
            "\u001b[0;31mValueError\u001b[0m: operands could not be broadcast together with shapes (2,2) (3,1) "
          ]
        }
      ]
    },
    {
      "cell_type": "markdown",
      "metadata": {
        "id": "ZQGgpE0i1GVO"
      },
      "source": [
        "##Numere aleatoare"
      ]
    },
    {
      "cell_type": "markdown",
      "metadata": {
        "id": "d1xeqjN_eGrM"
      },
      "source": [
        "Sunt situații în care trebuie să generăm numere aleatoare, cum ar fi, de exmplu, inițializarea parametrilor unei rețele neuronale la începutul antrenamentului.\n",
        "În mod normal, calculatoarele nu pot genera cu adevărat numere aleatoare.\n",
        "\n",
        "Mai degrabă se generează valori pseudo-aleatoare, valori ce par a fi alese la întâmplare, deși succesiunea poate fi intuită datorită inițializărilor făcute(cele de pornire).\n",
        "\n",
        "Pentru a genera secvențe aleatoare și calculele reproductibile, trebuie să inițializăm valoarea de pornire și să folosim aceeași valoare.\n",
        "\n",
        "* funcția [`np.random.seed()`](https://docs.scipy.org/doc/numpy/reference/generated/numpy.random.seed.html) inițializează valoarea de start, sau\n",
        "* clasa [`np.random.RandomState`](https://docs.scipy.org/doc/numpy/reference/generated/numpy.random.RandomState.html) , care este un container pentru numere generate pseudo-aleator și oferă metode pentru generarea aleatoare a numerelor.\n"
      ]
    },
    {
      "cell_type": "code",
      "metadata": {
        "id": "knUtcFWoFqK0",
        "colab": {
          "base_uri": "https://localhost:8080/"
        },
        "outputId": "03c68b09-8357-4548-f6d0-641f223a245a"
      },
      "source": [
        "np.random.seed(0)\n",
        "print(\"   >>  Setting the random seed to 0\")\n",
        "print(np.random.random())\n",
        "print(np.random.random())\n",
        "print(np.random.random())\n",
        "# Reset the global random state to the same state.\n",
        "np.random.seed(0)\n",
        "print(\"  >>  Resetting the random seed to 0\")\n",
        "print(np.random.random())\n",
        "print(np.random.random())\n",
        "print(np.random.random())\n",
        "\n",
        "# Generating an array of size 2x2x3\n",
        "print (np.random.random(size=(2,2,3)))"
      ],
      "execution_count": null,
      "outputs": [
        {
          "output_type": "stream",
          "name": "stdout",
          "text": [
            "   >>  Setting the random seed to 0\n",
            "0.5488135039273248\n",
            "0.7151893663724195\n",
            "0.6027633760716439\n",
            "  >>  Resetting the random seed to 0\n",
            "0.5488135039273248\n",
            "0.7151893663724195\n",
            "0.6027633760716439\n",
            "[[[0.54488318 0.4236548  0.64589411]\n",
            "  [0.43758721 0.891773   0.96366276]]\n",
            "\n",
            " [[0.38344152 0.79172504 0.52889492]\n",
            "  [0.56804456 0.92559664 0.07103606]]]\n"
          ]
        }
      ]
    },
    {
      "cell_type": "markdown",
      "metadata": {
        "id": "Fg8pQswdvO_l"
      },
      "source": [
        "\n",
        "Pentru a permuta aleator o secvență sau pentru a returna o permutare a unui domeniu de valori, vom folosi `random.permutation`\n",
        "\n",
        "\n",
        ">` random.permutation(x)`\n",
        "\n",
        "Dacă x este un tablou multidimensional, permutarea se va efectua doar de-alungul primului index."
      ]
    },
    {
      "cell_type": "markdown",
      "metadata": {
        "id": "umkglTS1xZrx"
      },
      "source": [
        "Permutarea valorilor dintr-un domeniu de valori:"
      ]
    },
    {
      "cell_type": "code",
      "metadata": {
        "id": "mtzywbhWvPhb",
        "colab": {
          "base_uri": "https://localhost:8080/"
        },
        "outputId": "2447b8ea-c165-4c00-f8a6-be98a000fba8"
      },
      "source": [
        "np.random.permutation(10)"
      ],
      "execution_count": null,
      "outputs": [
        {
          "output_type": "execute_result",
          "data": {
            "text/plain": [
              "array([5, 1, 8, 2, 6, 7, 0, 3, 4, 9])"
            ]
          },
          "metadata": {},
          "execution_count": 43
        }
      ]
    },
    {
      "cell_type": "markdown",
      "metadata": {
        "id": "VfIQfR2TwT3K"
      },
      "source": [
        "Permutarea valorilor dintr-un vector"
      ]
    },
    {
      "cell_type": "code",
      "metadata": {
        "id": "J92gDXibwUfC",
        "colab": {
          "base_uri": "https://localhost:8080/"
        },
        "outputId": "d0403a14-9c10-4cb6-8ef4-910c8bce40e2"
      },
      "source": [
        "np.random.permutation([1, 4, 9, 12, 15])"
      ],
      "execution_count": null,
      "outputs": [
        {
          "output_type": "execute_result",
          "data": {
            "text/plain": [
              "array([ 1, 15,  9,  4, 12])"
            ]
          },
          "metadata": {},
          "execution_count": 44
        }
      ]
    },
    {
      "cell_type": "markdown",
      "metadata": {
        "id": "4Y8kq4e1wbSR"
      },
      "source": [
        "Permutarea într-un tablou multi-dimensional"
      ]
    },
    {
      "cell_type": "code",
      "metadata": {
        "colab": {
          "base_uri": "https://localhost:8080/"
        },
        "id": "IBJICBZmwexR",
        "outputId": "e2c3c5fc-facd-4df7-8ea2-ad9445f42ccc"
      },
      "source": [
        "arr = np.arange(9).reshape((3, 3))\n",
        "arr"
      ],
      "execution_count": null,
      "outputs": [
        {
          "output_type": "execute_result",
          "data": {
            "text/plain": [
              "array([[0, 1, 2],\n",
              "       [3, 4, 5],\n",
              "       [6, 7, 8]])"
            ]
          },
          "metadata": {},
          "execution_count": 45
        }
      ]
    },
    {
      "cell_type": "code",
      "metadata": {
        "id": "f__5Tdcfw2V5",
        "colab": {
          "base_uri": "https://localhost:8080/"
        },
        "outputId": "3493f91d-6ecf-4ecb-b35d-ee06c72b38c8"
      },
      "source": [
        "np.random.permutation(arr)"
      ],
      "execution_count": null,
      "outputs": [
        {
          "output_type": "execute_result",
          "data": {
            "text/plain": [
              "array([[6, 7, 8],\n",
              "       [3, 4, 5],\n",
              "       [0, 1, 2]])"
            ]
          },
          "metadata": {},
          "execution_count": 46
        }
      ]
    },
    {
      "cell_type": "markdown",
      "metadata": {
        "id": "ZZ9fW0Y44SIK"
      },
      "source": [
        "# Concluzii"
      ]
    },
    {
      "cell_type": "markdown",
      "metadata": {
        "id": "6zaiiXZx4T0P"
      },
      "source": [
        "Ne-am familiarizat cu `numpy`, o librărie Python puternică pentru operarea tablourilor multi-dimensionale.\n",
        "Împreună cu librăria `matplotlib` studiată în lecția anterioară, se pot crea unelte vizuale utile în investigarea datelor multi-dimensionale."
      ]
    }
  ]
}